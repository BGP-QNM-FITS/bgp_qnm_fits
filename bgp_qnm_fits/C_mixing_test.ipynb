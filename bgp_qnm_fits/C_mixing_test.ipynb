{
 "cells": [
  {
   "cell_type": "code",
   "execution_count": 10,
   "id": "82df6963",
   "metadata": {},
   "outputs": [],
   "source": [
    "import quaternionic\n",
    "import spherical\n",
    "import numpy as np\n",
    "import qnm as qnm_loader\n",
    "\n",
    "from scipy.optimize import minimize\n",
    "from scipy.interpolate import UnivariateSpline\n",
    "from pathlib import Path\n",
    "from urllib.request import urlretrieve\n",
    "from scipy.integrate import dblquad as dbl_integrate\n",
    "from spherical import Wigner3j as w3j\n",
    "from bgp_qnm_fits.utils import mismatch\n",
    "import pickle\n",
    "from scipy.interpolate import interp1d"
   ]
  },
  {
   "cell_type": "code",
   "execution_count": 18,
   "id": "11c0534c",
   "metadata": {},
   "outputs": [],
   "source": [
    "Qmus_file = 'Qmus_0010_C.pkl'\n",
    "with open(Qmus_file, 'rb') as file:\n",
    "    Qmus_C = pickle.load(file)"
   ]
  },
  {
   "cell_type": "code",
   "execution_count": 19,
   "id": "9535d447",
   "metadata": {},
   "outputs": [
    {
     "data": {
      "text/plain": [
       "dict_keys([(4, 4, 2, 2, 0, 1, 2, 2, 0, 1), (5, 4, 2, 2, 0, 1, 2, 2, 0, 1), (4, -4, 2, -2, 0, -1, 2, -2, 0, -1), (5, -4, 2, -2, 0, -1, 2, -2, 0, -1), (5, 5, 3, 3, 0, 1, 2, 2, 0, 1), (6, 5, 3, 3, 0, 1, 2, 2, 0, 1), (5, -5, 3, -3, 0, -1, 2, -2, 0, -1), (6, -5, 3, -3, 0, -1, 2, -2, 0, -1), (6, 6, 4, 4, 0, 1, 2, 2, 0, 1), (7, 6, 4, 4, 0, 1, 2, 2, 0, 1), (6, -6, 4, -4, 0, -1, 2, -2, 0, -1), (7, -6, 4, -4, 0, -1, 2, -2, 0, -1), (6, 6, 3, 3, 0, 1, 3, 3, 0, 1), (7, 6, 3, 3, 0, 1, 3, 3, 0, 1), (6, -6, 3, -3, 0, -1, 3, -3, 0, -1), (7, -6, 3, -3, 0, -1, 3, -3, 0, -1), (5, 5, 2, 2, 0, 1, 3, 3, 0, 1), (6, 5, 2, 2, 0, 1, 3, 3, 0, 1), (5, -5, 2, -2, 0, -1, 3, -3, 0, -1), (6, -5, 2, -2, 0, -1, 3, -3, 0, -1), (6, 6, 2, 2, 0, 1, 4, 4, 0, 1), (7, 6, 2, 2, 0, 1, 4, 4, 0, 1), (6, -6, 2, -2, 0, -1, 4, -4, 0, -1), (7, -6, 2, -2, 0, -1, 4, -4, 0, -1)])"
      ]
     },
     "execution_count": 19,
     "metadata": {},
     "output_type": "execute_result"
    }
   ],
   "source": [
    "Qmus_C.keys()"
   ]
  },
  {
   "cell_type": "code",
   "execution_count": 13,
   "id": "bd25915e",
   "metadata": {},
   "outputs": [],
   "source": [
    "mixing_0010_dict = {\n",
    "        (5, 5, 2, 2, 0, 1, 3, 3, 0, 1): Qmus_C[(5, 5, 3, 3, 0, 1, 2, 2, 0, 1)],\n",
    "        (6, 5, 2, 2, 0, 1, 3, 3, 0, 1): Qmus_C[(6, 5, 3, 3, 0, 1, 2, 2, 0, 1)],\n",
    "        (5,-5, 2, -2, 0, -1, 3, -3, 0, -1): Qmus_C[(5,-5, 3, -3, 0, -1, 2, -2, 0, -1)],\n",
    "        (6,-5, 2, -2, 0, -1, 3, -3, 0, -1): Qmus_C[(6,-5, 3, -3, 0, -1, 2, -2, 0, -1)],\n",
    "        (6, 6, 2, 2, 0, 1, 4, 4, 0, 1): Qmus_C[(6, 6, 4, 4, 0, 1, 2, 2, 0, 1)],\n",
    "        (7, 6, 2, 2, 0, 1, 4, 4, 0, 1): Qmus_C[(7, 6, 4, 4, 0, 1, 2, 2, 0, 1)],\n",
    "        (6,-6, 2,-2, 0,-1, 4,-4, 0,-1): Qmus_C[(6,-6, 4,-4, 0,-1, 2,-2, 0,-1)],\n",
    "        (7,-6, 2,-2, 0,-1, 4,-4, 0,-1): Qmus_C[(7,-6, 4,-4, 0,-1, 2,-2, 0,-1)],\n",
    "}"
   ]
  },
  {
   "cell_type": "code",
   "execution_count": 14,
   "id": "0bbb2d21",
   "metadata": {},
   "outputs": [],
   "source": [
    "Qmus_C.update(mixing_0010_dict)"
   ]
  },
  {
   "cell_type": "code",
   "execution_count": 15,
   "id": "6efbc8e6",
   "metadata": {},
   "outputs": [
    {
     "data": {
      "text/plain": [
       "(0.9986251728890779-2.9551918270240787e-16j)"
      ]
     },
     "execution_count": 15,
     "metadata": {},
     "output_type": "execute_result"
    }
   ],
   "source": [
    "Qmus_C[((5, 5, 2, 2, 0, 1, 3, 3, 0, 1))]"
   ]
  },
  {
   "cell_type": "code",
   "execution_count": 16,
   "id": "2d37d2e4",
   "metadata": {},
   "outputs": [
    {
     "data": {
      "text/plain": [
       "(0.9986251728890779-2.9551918270240787e-16j)"
      ]
     },
     "execution_count": 16,
     "metadata": {},
     "output_type": "execute_result"
    }
   ],
   "source": [
    "Qmus_C[(5, 5, 3, 3, 0, 1, 2, 2, 0, 1)]"
   ]
  },
  {
   "cell_type": "code",
   "execution_count": 17,
   "id": "166a6bb3",
   "metadata": {},
   "outputs": [],
   "source": [
    "output_file = Path(\"Qmus_0010_C.pkl\")\n",
    "with open(output_file, \"wb\") as f:\n",
    "    pickle.dump(Qmus_C, f)"
   ]
  },
  {
   "cell_type": "code",
   "execution_count": null,
   "id": "c965fedc",
   "metadata": {},
   "outputs": [],
   "source": [
    "from qnmfits_funcs import mu_list\n",
    "\n",
    "SPHERICAL_MODES_P = [(2, 2), (3, 2),\n",
    "                     (3, 3), (4, 3), \n",
    "                     (4, 4), (5, 4),\n",
    "                     (5, 5), (6, 5),\n",
    "                     (6, 6), (7, 6)] \n",
    "\n",
    "\n",
    "candidate_mode_extras = [(2,2,0,1,2,2,0,1), \n",
    "                        (2,2,0,1,3,3,0,1),\n",
    "                        (3,3,0,1,3,3,0,1), \n",
    "                        (2,2,0,1,4,4,0,1),\n",
    "                        (2,2,0,1,2,2,0,1,2,2,0,1)] + \\\n",
    "                    [(2,-2,0,-1,2,-2,0,-1), \n",
    "                        (2,-2,0,-1,3,-3,0,-1),\n",
    "                        (3,-3,0,-1,3,-3,0,-1), \n",
    "                        (2,-2,0,-1,4,-4,0,-1),\n",
    "                        (2,-2,0,-1,2,-2,0,-1,2,-2,0,-1)]\n",
    "\n",
    "\n",
    "\n",
    "for sph_mode in SPHERICAL_MODES_P:\n",
    "    for extras in candidate_mode_extras:\n",
    "        mu_list(sph_mode + extras, chif=0.7)\n",
    "\n"
   ]
  }
 ],
 "metadata": {
  "kernelspec": {
   "display_name": "venv",
   "language": "python",
   "name": "python3"
  },
  "language_info": {
   "codemirror_mode": {
    "name": "ipython",
    "version": 3
   },
   "file_extension": ".py",
   "mimetype": "text/x-python",
   "name": "python",
   "nbconvert_exporter": "python",
   "pygments_lexer": "ipython3",
   "version": "3.11.4"
  }
 },
 "nbformat": 4,
 "nbformat_minor": 5
}
