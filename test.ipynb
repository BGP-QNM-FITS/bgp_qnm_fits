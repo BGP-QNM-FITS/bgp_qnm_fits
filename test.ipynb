{
 "cells": [
  {
   "cell_type": "code",
   "execution_count": 1,
   "id": "0beef796",
   "metadata": {},
   "outputs": [],
   "source": [
    "import qnmfits\n",
    "import numpy as np\n",
    "import scipy\n",
    "import corner\n",
    "import matplotlib.pyplot as plt\n",
    "import seaborn as sns\n",
    "import pandas as pd\n",
    "import sys\n",
    "from pathlib import Path\n",
    "\n",
    "notebook_dir = Path().resolve()\n",
    "sys.path.append(str(notebook_dir.parent))\n",
    "\n",
    "notebook_dir = Path().resolve()\n",
    "data_dir = notebook_dir.parent\n",
    "\n",
    "from matplotlib.colors import to_hex\n",
    "from matplotlib.lines import Line2D\n",
    "from matplotlib.colors import LinearSegmentedColormap\n",
    "from qnmfits.spatial_mapping_functions import * \n",
    "from bayes_qnm_GP_likelihood import *\n",
    "from BGP_fits import BGP_fit\n",
    "from mpl_toolkits.axes_grid1.inset_locator import inset_axes"
   ]
  },
  {
   "cell_type": "code",
   "execution_count": 2,
   "id": "0f324151",
   "metadata": {},
   "outputs": [],
   "source": [
    "id = \"0001\"\n",
    "sim_main = SXS_CCE(id, lev=\"Lev5\", radius=\"R2\")\n",
    "\n",
    "n_max = 7\n",
    "\n",
    "T0 = 0\n",
    "T = 100\n",
    "\n",
    "qnm_list = [(2,2,n,1) for n in np.arange(0, n_max+1)] #+ [(3,2,0,1)] + [(4,4,n,1) for n in np.arange(0, n_max+1)] + [(5,4,0,1)] \n",
    "spherical_modes = [(2, 2)] \n",
    "\n",
    "chif_mag_0 = sim_main.chif_mag\n",
    "Mf_0 = sim_main.Mf"
   ]
  },
  {
   "cell_type": "code",
   "execution_count": 3,
   "id": "97b54699",
   "metadata": {},
   "outputs": [],
   "source": [
    "# Get the standard kernel parameters\n",
    "\n",
    "with open(data_dir / 'bayes_qnm_GP_likelihood/data/tuned_params.pkl', 'rb') as f:\n",
    "    params = pickle.load(f)\n",
    "\n",
    "tuned_param_dict_main = params[id]"
   ]
  },
  {
   "cell_type": "code",
   "execution_count": 4,
   "id": "0dea8798",
   "metadata": {},
   "outputs": [],
   "source": [
    "# The training / tuning is demonstrated in the `get_kernel_params` file and notebook. \n",
    "\n",
    "with open(data_dir / 'bayes_qnm_GP_likelihood/data/param_dict_sim_lm_full.pkl', 'rb') as f:\n",
    "    param_dict_sim_lm = pickle.load(f)\n",
    "\n",
    "tuning_hyperparams_s = [0.3239257812499994]  \n",
    "\n",
    "hyperparam_rule_dict_s = {\n",
    "    \"sigma_max\": \"multiply\",\n",
    "}\n",
    "\n",
    "tuned_param_dict_wn = {mode: get_new_params(param_dict_sim_lm[id][mode], tuning_hyperparams_s, hyperparam_rule_dict_s) for mode in param_dict_sim_lm[id]}"
   ]
  },
  {
   "cell_type": "code",
   "execution_count": 5,
   "id": "ca7cf26d",
   "metadata": {},
   "outputs": [
    {
     "name": "stderr",
     "output_type": "stream",
     "text": [
      "WARNING:jax._src.xla_bridge:An NVIDIA GPU may be present on this machine, but a CUDA-enabled jaxlib is not installed. Falling back to cpu.\n"
     ]
    },
    {
     "name": "stdout",
     "output_type": "stream",
     "text": [
      "Time taken for parameter Re_C_(2, 2, 0, 1): 0.07766342163085938 seconds\n",
      "Time taken for parameter Re_C_(2, 2, 1, 1): 0.0014386177062988281 seconds\n",
      "Time taken for parameter Re_C_(2, 2, 2, 1): 0.001069784164428711 seconds\n",
      "Time taken for parameter Re_C_(2, 2, 3, 1): 0.0010306835174560547 seconds\n",
      "Time taken for parameter Re_C_(2, 2, 4, 1): 0.0010154247283935547 seconds\n",
      "Time taken for parameter Re_C_(2, 2, 5, 1): 0.001003265380859375 seconds\n",
      "Time taken for parameter Re_C_(2, 2, 6, 1): 0.0009944438934326172 seconds\n",
      "Time taken for parameter Re_C_(2, 2, 7, 1): 0.000997304916381836 seconds\n",
      "Time taken for parameter chif: 0.08174800872802734 seconds\n",
      "Time taken for parameter Mf: 0.05586719512939453 seconds\n"
     ]
    }
   ],
   "source": [
    "fit = BGP_fit(sim_main.times, \n",
    "            sim_main.h, \n",
    "            qnm_list, \n",
    "            Mf_0, \n",
    "            chif_mag_0, \n",
    "            T0, \n",
    "            tuned_param_dict_wn, \n",
    "            kernel_s, \n",
    "            t0_method='closest', \n",
    "            T=T, \n",
    "            spherical_modes=spherical_modes,\n",
    "            include_chif=True,\n",
    "            include_Mf=True)"
   ]
  },
  {
   "cell_type": "code",
   "execution_count": 9,
   "id": "3c6f7a34",
   "metadata": {},
   "outputs": [
    {
     "name": "stdout",
     "output_type": "stream",
     "text": [
      "[  0.96211353  -0.19918416  -2.97059033  -2.98815029   4.2896938\n",
      "  10.55836519  -8.91749015 -21.74737427  20.0696907   28.38812926\n",
      " -25.22777948 -19.98126399  14.95535981   6.4482694   -3.37579294\n",
      "  -0.81059088   0.68736206   0.95208702]\n"
     ]
    }
   ],
   "source": [
    "print(fit.mean_vector)"
   ]
  },
  {
   "cell_type": "code",
   "execution_count": 10,
   "id": "e22e392b",
   "metadata": {},
   "outputs": [],
   "source": [
    "fit_main = qnm_BGP_fit(\n",
    "        sim_main.times,\n",
    "        sim_main.h,\n",
    "        qnm_list,\n",
    "        Mf_0,\n",
    "        chif_mag_0,\n",
    "        T0,\n",
    "        tuned_param_dict_wn, \n",
    "        kernel_s, \n",
    "        t0_method=\"closest\",\n",
    "        T=T,\n",
    "        spherical_modes=spherical_modes,\n",
    "        include_chif=True,\n",
    "        include_Mf=True,\n",
    "    )"
   ]
  },
  {
   "cell_type": "code",
   "execution_count": null,
   "id": "8b66208e",
   "metadata": {},
   "outputs": [],
   "source": [
    "print(fit_main['mean_vector'])"
   ]
  },
  {
   "cell_type": "code",
   "execution_count": null,
   "id": "d3f640d9",
   "metadata": {},
   "outputs": [],
   "source": []
  }
 ],
 "metadata": {
  "kernelspec": {
   "display_name": "Python 3",
   "language": "python",
   "name": "python3"
  },
  "language_info": {
   "codemirror_mode": {
    "name": "ipython",
    "version": 3
   },
   "file_extension": ".py",
   "mimetype": "text/x-python",
   "name": "python",
   "nbconvert_exporter": "python",
   "pygments_lexer": "ipython3",
   "version": "3.11.4"
  }
 },
 "nbformat": 4,
 "nbformat_minor": 5
}
