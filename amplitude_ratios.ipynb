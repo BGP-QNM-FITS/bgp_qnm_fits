{
 "cells": [
  {
   "cell_type": "code",
   "execution_count": 1,
   "metadata": {},
   "outputs": [],
   "source": [
    "import sxs \n",
    "import qnmfits\n",
    "import matplotlib.pyplot as plt\n",
    "import numpy as np"
   ]
  },
  {
   "cell_type": "code",
   "execution_count": 3,
   "metadata": {},
   "outputs": [
    {
     "name": "stdout",
     "output_type": "stream",
     "text": [
      "Found the following files to load from the SXS catalog:\n",
      "    SXS:BBH:0219v5/Lev5/metadata.json\n",
      "Found the following files to load from the SXS catalog:\n",
      "    SXS:BBH:0219v5/Lev5/rhOverM_Asymptotic_GeometricUnits_CoM.h5\n",
      "Found the following files to load from the SXS catalog:\n",
      "    SXS:BBH:0226v5/Lev5/metadata.json\n",
      "Found the following files to load from the SXS catalog:\n",
      "    SXS:BBH:0226v5/Lev5/rhOverM_Asymptotic_GeometricUnits_CoM.h5\n",
      "Found the following files to load from the SXS catalog:\n",
      "    SXS:BBH:0221v5/Lev5/metadata.json\n",
      "Found the following files to load from the SXS catalog:\n",
      "    SXS:BBH:0221v5/Lev5/rhOverM_Asymptotic_GeometricUnits_CoM.h5\n",
      "Found the following files to load from the SXS catalog:\n",
      "    SXS:BBH:0225v5/Lev5/metadata.json\n",
      "Found the following files to load from the SXS catalog:\n",
      "    SXS:BBH:0225v5/Lev5/rhOverM_Asymptotic_GeometricUnits_CoM.h5\n",
      "Found the following files to load from the SXS catalog:\n",
      "    SXS:BBH:0224v5/Lev5/metadata.json\n",
      "Found the following files to load from the SXS catalog:\n",
      "    SXS:BBH:0224v5/Lev5/rhOverM_Asymptotic_GeometricUnits_CoM.h5\n",
      "Found the following files to load from the SXS catalog:\n",
      "    SXS:BBH:0220v5/Lev5/metadata.json\n",
      "Found the following files to load from the SXS catalog:\n",
      "    SXS:BBH:0220v5/Lev5/rhOverM_Asymptotic_GeometricUnits_CoM.h5\n",
      "Found the following files to load from the SXS catalog:\n",
      "    SXS:BBH:0211v5/Lev5/metadata.json\n",
      "Found the following files to load from the SXS catalog:\n",
      "    SXS:BBH:0211v5/Lev5/rhOverM_Asymptotic_GeometricUnits_CoM.h5\n",
      "Found the following files to load from the SXS catalog:\n",
      "    SXS:BBH:0213v5/Lev5/metadata.json\n",
      "Found the following files to load from the SXS catalog:\n",
      "    SXS:BBH:0213v5/Lev5/rhOverM_Asymptotic_GeometricUnits_CoM.h5\n",
      "Found the following files to load from the SXS catalog:\n",
      "    SXS:BBH:0217v5/Lev5/metadata.json\n",
      "Found the following files to load from the SXS catalog:\n",
      "    SXS:BBH:0217v5/Lev5/rhOverM_Asymptotic_GeometricUnits_CoM.h5\n",
      "Found the following files to load from the SXS catalog:\n",
      "    SXS:BBH:0218v5/Lev5/metadata.json\n",
      "Found the following files to load from the SXS catalog:\n",
      "    SXS:BBH:0218v5/Lev5/rhOverM_Asymptotic_GeometricUnits_CoM.h5\n",
      "Found the following files to load from the SXS catalog:\n",
      "    SXS:BBH:0159v5/Lev4/metadata.json\n",
      "Found the following files to load from the SXS catalog:\n",
      "    SXS:BBH:0159v5/Lev4/rhOverM_Asymptotic_GeometricUnits_CoM.h5\n",
      "Found the following files to load from the SXS catalog:\n",
      "    SXS:BBH:0177v5/Lev4/metadata.json\n",
      "Found the following files to load from the SXS catalog:\n",
      "    SXS:BBH:0177v5/Lev4/rhOverM_Asymptotic_GeometricUnits_CoM.h5\n",
      "Found the following files to load from the SXS catalog:\n",
      "    SXS:BBH:0157v5/Lev4/metadata.json\n",
      "Found the following files to load from the SXS catalog:\n",
      "    SXS:BBH:0157v5/Lev4/rhOverM_Asymptotic_GeometricUnits_CoM.h5\n",
      "Found the following files to load from the SXS catalog:\n",
      "    SXS:BBH:0158v5/Lev6/metadata.json\n",
      "Found the following files to load from the SXS catalog:\n",
      "    SXS:BBH:0158v5/Lev6/rhOverM_Asymptotic_GeometricUnits_CoM.h5\n",
      "Found the following files to load from the SXS catalog:\n",
      "    SXS:BBH:0212v5/Lev5/metadata.json\n",
      "Found the following files to load from the SXS catalog:\n",
      "    SXS:BBH:0212v5/Lev5/rhOverM_Asymptotic_GeometricUnits_CoM.h5\n",
      "Found the following files to load from the SXS catalog:\n",
      "    SXS:BBH:0228v5/Lev5/metadata.json\n",
      "Found the following files to load from the SXS catalog:\n",
      "    SXS:BBH:0228v5/Lev5/rhOverM_Asymptotic_GeometricUnits_CoM.h5\n",
      "Found the following files to load from the SXS catalog:\n",
      "    SXS:BBH:0180v5/Lev4/metadata.json\n",
      "Found the following files to load from the SXS catalog:\n",
      "    SXS:BBH:0180v5/Lev4/rhOverM_Asymptotic_GeometricUnits_CoM.h5\n",
      "Found the following files to load from the SXS catalog:\n",
      "    SXS:BBH:0170v5/Lev6/metadata.json\n",
      "Error processing waveform ID 0170: M not close to one\n",
      "Found the following files to load from the SXS catalog:\n",
      "    SXS:BBH:0148v5/Lev5/metadata.json\n",
      "Found the following files to load from the SXS catalog:\n",
      "    SXS:BBH:0148v5/Lev5/rhOverM_Asymptotic_GeometricUnits_CoM.h5\n",
      "Found the following files to load from the SXS catalog:\n",
      "    SXS:BBH:0153v5/Lev4/metadata.json\n",
      "Found the following files to load from the SXS catalog:\n",
      "    SXS:BBH:0153v5/Lev4/rhOverM_Asymptotic_GeometricUnits_CoM.h5\n",
      "Found the following files to load from the SXS catalog:\n",
      "    SXS:BBH:0160v5/Lev4/metadata.json\n",
      "Found the following files to load from the SXS catalog:\n",
      "    SXS:BBH:0160v5/Lev4/rhOverM_Asymptotic_GeometricUnits_CoM.h5\n",
      "Found the following files to load from the SXS catalog:\n",
      "    SXS:BBH:0230v5/Lev5/metadata.json\n",
      "Found the following files to load from the SXS catalog:\n",
      "    SXS:BBH:0230v5/Lev5/rhOverM_Asymptotic_GeometricUnits_CoM.h5\n",
      "Found the following files to load from the SXS catalog:\n",
      "    SXS:BBH:0150v5/Lev4/metadata.json\n",
      "Found the following files to load from the SXS catalog:\n",
      "    SXS:BBH:0150v5/Lev4/rhOverM_Asymptotic_GeometricUnits_CoM.h5\n",
      "Found the following files to load from the SXS catalog:\n",
      "    SXS:BBH:0149v5/Lev4/metadata.json\n",
      "Found the following files to load from the SXS catalog:\n",
      "    SXS:BBH:0149v5/Lev4/rhOverM_Asymptotic_GeometricUnits_CoM.h5\n",
      "Found the following files to load from the SXS catalog:\n",
      "    SXS:BBH:0152v5/Lev4/metadata.json\n",
      "Found the following files to load from the SXS catalog:\n",
      "    SXS:BBH:0152v5/Lev4/rhOverM_Asymptotic_GeometricUnits_CoM.h5\n",
      "Found the following files to load from the SXS catalog:\n",
      "    SXS:BBH:0215v5/Lev5/metadata.json\n",
      "Found the following files to load from the SXS catalog:\n",
      "    SXS:BBH:0215v5/Lev5/rhOverM_Asymptotic_GeometricUnits_CoM.h5\n",
      "Found the following files to load from the SXS catalog:\n",
      "    SXS:BBH:0178v5/Lev5/metadata.json\n",
      "Found the following files to load from the SXS catalog:\n",
      "    SXS:BBH:0178v5/Lev5/rhOverM_Asymptotic_GeometricUnits_CoM.h5\n",
      "Found the following files to load from the SXS catalog:\n",
      "    SXS:BBH:0154v5/Lev4/metadata.json\n",
      "Found the following files to load from the SXS catalog:\n",
      "    SXS:BBH:0154v5/Lev4/rhOverM_Asymptotic_GeometricUnits_CoM.h5\n",
      "Downloading to /data/rvnd2-2/SXS_data/SXS:BBH:0154v2/Lev4/rhOverM_Asymptotic_GeometricUnits_CoM.h5:\n"
     ]
    },
    {
     "data": {
      "application/vnd.jupyter.widget-view+json": {
       "model_id": "636618e5583140f59eda93cba3b78571",
       "version_major": 2,
       "version_minor": 0
      },
      "text/plain": [
       "  0%|          | 0/72482012 [00:00<?, ?it/s]"
      ]
     },
     "metadata": {},
     "output_type": "display_data"
    },
    {
     "name": "stdout",
     "output_type": "stream",
     "text": [
      "Found the following files to load from the SXS catalog:\n",
      "    SXS:BBH:0155v5/Lev4/metadata.json\n",
      "Found the following files to load from the SXS catalog:\n",
      "    SXS:BBH:0155v5/Lev4/rhOverM_Asymptotic_GeometricUnits_CoM.h5\n",
      "Downloading to /data/rvnd2-2/SXS_data/SXS:BBH:0155v2/Lev4/rhOverM_Asymptotic_GeometricUnits_CoM.h5:\n"
     ]
    },
    {
     "data": {
      "application/vnd.jupyter.widget-view+json": {
       "model_id": "5f635913ee6a4a4fb040c6fbfe2343f0",
       "version_major": 2,
       "version_minor": 0
      },
      "text/plain": [
       "  0%|          | 0/104338353 [00:00<?, ?it/s]"
      ]
     },
     "metadata": {},
     "output_type": "display_data"
    },
    {
     "name": "stdout",
     "output_type": "stream",
     "text": [
      "Found the following files to load from the SXS catalog:\n",
      "    SXS:BBH:0151v5/Lev4/metadata.json\n",
      "Found the following files to load from the SXS catalog:\n",
      "    SXS:BBH:0151v5/Lev4/rhOverM_Asymptotic_GeometricUnits_CoM.h5\n",
      "Downloading to /data/rvnd2-2/SXS_data/SXS:BBH:0151v2/Lev4/rhOverM_Asymptotic_GeometricUnits_CoM.h5:\n"
     ]
    },
    {
     "data": {
      "application/vnd.jupyter.widget-view+json": {
       "model_id": "c40bb625e75745df83657ec69c3da123",
       "version_major": 2,
       "version_minor": 0
      },
      "text/plain": [
       "  0%|          | 0/74433114 [00:00<?, ?it/s]"
      ]
     },
     "metadata": {},
     "output_type": "display_data"
    },
    {
     "name": "stdout",
     "output_type": "stream",
     "text": [
      "Found the following files to load from the SXS catalog:\n",
      "    SXS:BBH:0172v5/Lev4/metadata.json\n",
      "Found the following files to load from the SXS catalog:\n",
      "    SXS:BBH:0172v5/Lev4/rhOverM_Asymptotic_GeometricUnits_CoM.h5\n",
      "Downloading to /data/rvnd2-2/SXS_data/SXS:BBH:0172v2/Lev4/rhOverM_Asymptotic_GeometricUnits_CoM.h5:\n"
     ]
    },
    {
     "data": {
      "application/vnd.jupyter.widget-view+json": {
       "model_id": "b64b74827aff46fa885eb730130269cf",
       "version_major": 2,
       "version_minor": 0
      },
      "text/plain": [
       "  0%|          | 0/112868024 [00:00<?, ?it/s]"
      ]
     },
     "metadata": {},
     "output_type": "display_data"
    },
    {
     "name": "stdout",
     "output_type": "stream",
     "text": [
      "Found the following files to load from the SXS catalog:\n",
      "    SXS:BBH:0156v5/Lev5/metadata.json\n",
      "Found the following files to load from the SXS catalog:\n",
      "    SXS:BBH:0156v5/Lev5/rhOverM_Asymptotic_GeometricUnits_CoM.h5\n",
      "Downloading to /data/rvnd2-2/SXS_data/SXS:BBH:0156v2/Lev5/rhOverM_Asymptotic_GeometricUnits_CoM.h5:\n"
     ]
    },
    {
     "data": {
      "application/vnd.jupyter.widget-view+json": {
       "model_id": "5242f4ee77b146f5aa1df4384500fdbc",
       "version_major": 2,
       "version_minor": 0
      },
      "text/plain": [
       "  0%|          | 0/27685972 [00:00<?, ?it/s]"
      ]
     },
     "metadata": {},
     "output_type": "display_data"
    },
    {
     "name": "stdout",
     "output_type": "stream",
     "text": [
      "Found the following files to load from the SXS catalog:\n",
      "    SXS:BBH:0216v5/Lev5/metadata.json\n",
      "Found the following files to load from the SXS catalog:\n",
      "    SXS:BBH:0216v5/Lev5/rhOverM_Asymptotic_GeometricUnits_CoM.h5\n",
      "Downloading to /data/rvnd2-2/SXS_data/SXS:BBH:0216v2/Lev5/rhOverM_Asymptotic_GeometricUnits_CoM.h5:\n"
     ]
    },
    {
     "data": {
      "application/vnd.jupyter.widget-view+json": {
       "model_id": "1a529211a404483faab229fb7da38a82",
       "version_major": 2,
       "version_minor": 0
      },
      "text/plain": [
       "  0%|          | 0/95588769 [00:00<?, ?it/s]"
      ]
     },
     "metadata": {},
     "output_type": "display_data"
    },
    {
     "name": "stdout",
     "output_type": "stream",
     "text": [
      "Found the following files to load from the SXS catalog:\n",
      "    SXS:BBH:0214v5/Lev5/metadata.json\n",
      "Found the following files to load from the SXS catalog:\n",
      "    SXS:BBH:0214v5/Lev5/rhOverM_Asymptotic_GeometricUnits_CoM.h5\n",
      "Downloading to /data/rvnd2-2/SXS_data/SXS:BBH:0214v2/Lev5/rhOverM_Asymptotic_GeometricUnits_CoM.h5:\n"
     ]
    },
    {
     "data": {
      "application/vnd.jupyter.widget-view+json": {
       "model_id": "f5a993e22ae14e649a21ee784099da12",
       "version_major": 2,
       "version_minor": 0
      },
      "text/plain": [
       "  0%|          | 0/96596802 [00:00<?, ?it/s]"
      ]
     },
     "metadata": {},
     "output_type": "display_data"
    },
    {
     "name": "stdout",
     "output_type": "stream",
     "text": [
      "Found the following files to load from the SXS catalog:\n",
      "    SXS:BBH:0227v5/Lev5/metadata.json\n",
      "Found the following files to load from the SXS catalog:\n",
      "    SXS:BBH:0227v5/Lev5/rhOverM_Asymptotic_GeometricUnits_CoM.h5\n",
      "Downloading to /data/rvnd2-2/SXS_data/SXS:BBH:0227v2/Lev5/rhOverM_Asymptotic_GeometricUnits_CoM.h5:\n"
     ]
    },
    {
     "data": {
      "application/vnd.jupyter.widget-view+json": {
       "model_id": "a7d0e030d957400382d34717a7429998",
       "version_major": 2,
       "version_minor": 0
      },
      "text/plain": [
       "  0%|          | 0/96906416 [00:00<?, ?it/s]"
      ]
     },
     "metadata": {},
     "output_type": "display_data"
    },
    {
     "name": "stdout",
     "output_type": "stream",
     "text": [
      "Found the following files to load from the SXS catalog:\n",
      "    SXS:BBH:0229v5/Lev5/metadata.json\n",
      "Found the following files to load from the SXS catalog:\n",
      "    SXS:BBH:0229v5/Lev5/rhOverM_Asymptotic_GeometricUnits_CoM.h5\n",
      "Downloading to /data/rvnd2-2/SXS_data/SXS:BBH:0229v2/Lev5/rhOverM_Asymptotic_GeometricUnits_CoM.h5:\n"
     ]
    },
    {
     "data": {
      "application/vnd.jupyter.widget-view+json": {
       "model_id": "2197c46a56dc4ab0a97a1b6b07b6879b",
       "version_major": 2,
       "version_minor": 0
      },
      "text/plain": [
       "  0%|          | 0/97807255 [00:00<?, ?it/s]"
      ]
     },
     "metadata": {},
     "output_type": "display_data"
    },
    {
     "name": "stdout",
     "output_type": "stream",
     "text": [
      "Found the following files to load from the SXS catalog:\n",
      "    SXS:BBH:0222v5/Lev5/metadata.json\n",
      "Found the following files to load from the SXS catalog:\n",
      "    SXS:BBH:0222v5/Lev5/rhOverM_Asymptotic_GeometricUnits_CoM.h5\n",
      "Downloading to /data/rvnd2-2/SXS_data/SXS:BBH:0222v2/Lev5/rhOverM_Asymptotic_GeometricUnits_CoM.h5:\n"
     ]
    },
    {
     "data": {
      "application/vnd.jupyter.widget-view+json": {
       "model_id": "be33a25259024b69aa5f0fd567bd7722",
       "version_major": 2,
       "version_minor": 0
      },
      "text/plain": [
       "  0%|          | 0/96159581 [00:00<?, ?it/s]"
      ]
     },
     "metadata": {},
     "output_type": "display_data"
    },
    {
     "name": "stdout",
     "output_type": "stream",
     "text": [
      "Found the following files to load from the SXS catalog:\n",
      "    SXS:BBH:0223v5/Lev5/metadata.json\n",
      "Found the following files to load from the SXS catalog:\n",
      "    SXS:BBH:0223v5/Lev5/rhOverM_Asymptotic_GeometricUnits_CoM.h5\n",
      "Downloading to /data/rvnd2-2/SXS_data/SXS:BBH:0223v2/Lev5/rhOverM_Asymptotic_GeometricUnits_CoM.h5:\n"
     ]
    },
    {
     "data": {
      "application/vnd.jupyter.widget-view+json": {
       "model_id": "b4ddd0278fd74abcbcb2a71ea76c2147",
       "version_major": 2,
       "version_minor": 0
      },
      "text/plain": [
       "  0%|          | 0/96587105 [00:00<?, ?it/s]"
      ]
     },
     "metadata": {},
     "output_type": "display_data"
    },
    {
     "name": "stdout",
     "output_type": "stream",
     "text": [
      "Found the following files to load from the SXS catalog:\n",
      "    SXS:BBH:0209v5/Lev5/metadata.json\n",
      "Found the following files to load from the SXS catalog:\n",
      "    SXS:BBH:0209v5/Lev5/rhOverM_Asymptotic_GeometricUnits_CoM.h5\n",
      "Downloading to /data/rvnd2-2/SXS_data/SXS:BBH:0209v2/Lev5/rhOverM_Asymptotic_GeometricUnits_CoM.h5:\n"
     ]
    },
    {
     "data": {
      "application/vnd.jupyter.widget-view+json": {
       "model_id": "eb46055e0b1e481c8146fc8a5bb87764",
       "version_major": 2,
       "version_minor": 0
      },
      "text/plain": [
       "  0%|          | 0/101317792 [00:00<?, ?it/s]"
      ]
     },
     "metadata": {},
     "output_type": "display_data"
    },
    {
     "name": "stdout",
     "output_type": "stream",
     "text": [
      "Found the following files to load from the SXS catalog:\n",
      "    SXS:BBH:0210v5/Lev5/metadata.json\n",
      "Found the following files to load from the SXS catalog:\n",
      "    SXS:BBH:0210v5/Lev5/rhOverM_Asymptotic_GeometricUnits_CoM.h5\n",
      "Downloading to /data/rvnd2-2/SXS_data/SXS:BBH:0210v2/Lev5/rhOverM_Asymptotic_GeometricUnits_CoM.h5:\n"
     ]
    },
    {
     "data": {
      "application/vnd.jupyter.widget-view+json": {
       "model_id": "df18bd0ba0654f458f96f7a4f4f8d8a6",
       "version_major": 2,
       "version_minor": 0
      },
      "text/plain": [
       "  0%|          | 0/96014267 [00:00<?, ?it/s]"
      ]
     },
     "metadata": {},
     "output_type": "display_data"
    },
    {
     "name": "stdout",
     "output_type": "stream",
     "text": [
      "Found the following files to load from the SXS catalog:\n",
      "    SXS:BBH:0232v5/Lev5/metadata.json\n",
      "Found the following files to load from the SXS catalog:\n",
      "    SXS:BBH:0232v5/Lev5/rhOverM_Asymptotic_GeometricUnits_CoM.h5\n",
      "Downloading to /data/rvnd2-2/SXS_data/SXS:BBH:0232v2/Lev5/rhOverM_Asymptotic_GeometricUnits_CoM.h5:\n"
     ]
    },
    {
     "data": {
      "application/vnd.jupyter.widget-view+json": {
       "model_id": "6005c9d365024f3c9998ff192b63e0af",
       "version_major": 2,
       "version_minor": 0
      },
      "text/plain": [
       "  0%|          | 0/102370710 [00:00<?, ?it/s]"
      ]
     },
     "metadata": {},
     "output_type": "display_data"
    },
    {
     "name": "stdout",
     "output_type": "stream",
     "text": [
      "Found the following files to load from the SXS catalog:\n",
      "    SXS:BBH:0231v5/Lev5/metadata.json\n",
      "Found the following files to load from the SXS catalog:\n",
      "    SXS:BBH:0231v5/Lev5/rhOverM_Asymptotic_GeometricUnits_CoM.h5\n",
      "Downloading to /data/rvnd2-2/SXS_data/SXS:BBH:0231v2/Lev5/rhOverM_Asymptotic_GeometricUnits_CoM.h5:\n"
     ]
    },
    {
     "data": {
      "application/vnd.jupyter.widget-view+json": {
       "model_id": "6617e1ca365143e8a5496dcedb33c506",
       "version_major": 2,
       "version_minor": 0
      },
      "text/plain": [
       "  0%|          | 0/99163540 [00:00<?, ?it/s]"
      ]
     },
     "metadata": {},
     "output_type": "display_data"
    },
    {
     "name": "stdout",
     "output_type": "stream",
     "text": [
      "Found the following files to load from the SXS catalog:\n",
      "    SXS:BBH:0005v5/Lev5/metadata.json\n",
      "Found the following files to load from the SXS catalog:\n",
      "    SXS:BBH:0005v5/Lev5/rhOverM_Asymptotic_GeometricUnits_CoM.h5\n",
      "Downloading to /data/rvnd2-2/SXS_data/SXS:BBH:0005v2/Lev5/rhOverM_Asymptotic_GeometricUnits_CoM.h5:\n"
     ]
    },
    {
     "data": {
      "application/vnd.jupyter.widget-view+json": {
       "model_id": "a1bf308e52c941d491996701f3bc09b5",
       "version_major": 2,
       "version_minor": 0
      },
      "text/plain": [
       "  0%|          | 0/151034883 [00:00<?, ?it/s]"
      ]
     },
     "metadata": {},
     "output_type": "display_data"
    },
    {
     "name": "stdout",
     "output_type": "stream",
     "text": [
      "Found the following files to load from the SXS catalog:\n",
      "    SXS:BBH:0004v5/Lev6/metadata.json\n",
      "Found the following files to load from the SXS catalog:\n",
      "    SXS:BBH:0004v5/Lev6/rhOverM_Asymptotic_GeometricUnits_CoM.h5\n",
      "Downloading to /data/rvnd2-2/SXS_data/SXS:BBH:0004v2/Lev6/rhOverM_Asymptotic_GeometricUnits_CoM.h5:\n"
     ]
    },
    {
     "data": {
      "application/vnd.jupyter.widget-view+json": {
       "model_id": "5e6906bf54584718b7c7b054c7a0d041",
       "version_major": 2,
       "version_minor": 0
      },
      "text/plain": [
       "  0%|          | 0/158296692 [00:00<?, ?it/s]"
      ]
     },
     "metadata": {},
     "output_type": "display_data"
    },
    {
     "name": "stdout",
     "output_type": "stream",
     "text": [
      "Found the following files to load from the SXS catalog:\n",
      "    SXS:BBH:0622v5/Lev4/metadata.json\n",
      "Found the following files to load from the SXS catalog:\n",
      "    SXS:BBH:0622v5/Lev4/rhOverM_Asymptotic_GeometricUnits_CoM.h5\n",
      "Downloading to /data/rvnd2-2/SXS_data/SXS:BBH:0622v2/Lev4/rhOverM_Asymptotic_GeometricUnits_CoM.h5:\n"
     ]
    },
    {
     "data": {
      "application/vnd.jupyter.widget-view+json": {
       "model_id": "e57fe8482fad4785ae30a21ed9ffe3a0",
       "version_major": 2,
       "version_minor": 0
      },
      "text/plain": [
       "  0%|          | 0/85288504 [00:00<?, ?it/s]"
      ]
     },
     "metadata": {},
     "output_type": "display_data"
    },
    {
     "name": "stdout",
     "output_type": "stream",
     "text": [
      "Found the following files to load from the SXS catalog:\n",
      "    SXS:BBH:0306v6/Lev4/metadata.json\n",
      "Found the following files to load from the SXS catalog:\n",
      "    SXS:BBH:0306v6/Lev4/rhOverM_Asymptotic_GeometricUnits_CoM.h5\n",
      "Downloading to /data/rvnd2-2/SXS_data/SXS:BBH:0306v2/Lev4/rhOverM_Asymptotic_GeometricUnits_CoM.h5:\n"
     ]
    },
    {
     "data": {
      "application/vnd.jupyter.widget-view+json": {
       "model_id": "bfe5013f7b884b6192b32cdea8f7b0bc",
       "version_major": 2,
       "version_minor": 0
      },
      "text/plain": [
       "  0%|          | 0/68433281 [00:00<?, ?it/s]"
      ]
     },
     "metadata": {},
     "output_type": "display_data"
    },
    {
     "name": "stdout",
     "output_type": "stream",
     "text": [
      "Found the following files to load from the SXS catalog:\n",
      "    SXS:BBH:0019v5/Lev5/metadata.json\n",
      "Found the following files to load from the SXS catalog:\n",
      "    SXS:BBH:0019v5/Lev5/rhOverM_Asymptotic_GeometricUnits_CoM.h5\n",
      "Downloading to /data/rvnd2-2/SXS_data/SXS:BBH:0019v2/Lev5/rhOverM_Asymptotic_GeometricUnits_CoM.h5:\n"
     ]
    },
    {
     "data": {
      "application/vnd.jupyter.widget-view+json": {
       "model_id": "76e87baa91064c9dab2dd5b4cc368117",
       "version_major": 2,
       "version_minor": 0
      },
      "text/plain": [
       "  0%|          | 0/109133591 [00:00<?, ?it/s]"
      ]
     },
     "metadata": {},
     "output_type": "display_data"
    },
    {
     "name": "stdout",
     "output_type": "stream",
     "text": [
      "Found the following files to load from the SXS catalog:\n",
      "    SXS:BBH:0025v5/Lev5/metadata.json\n",
      "Found the following files to load from the SXS catalog:\n",
      "    SXS:BBH:0025v5/Lev5/rhOverM_Asymptotic_GeometricUnits_CoM.h5\n",
      "Downloading to /data/rvnd2-2/SXS_data/SXS:BBH:0025v2/Lev5/rhOverM_Asymptotic_GeometricUnits_CoM.h5:\n"
     ]
    },
    {
     "data": {
      "application/vnd.jupyter.widget-view+json": {
       "model_id": "237765dc77c44c36aa180a1e79e28947",
       "version_major": 2,
       "version_minor": 0
      },
      "text/plain": [
       "  0%|          | 0/118558522 [00:00<?, ?it/s]"
      ]
     },
     "metadata": {},
     "output_type": "display_data"
    },
    {
     "name": "stdout",
     "output_type": "stream",
     "text": [
      "Found the following files to load from the SXS catalog:\n",
      "    SXS:BBH:0007v5/Lev6/metadata.json\n",
      "Found the following files to load from the SXS catalog:\n",
      "    SXS:BBH:0007v5/Lev6/rhOverM_Asymptotic_GeometricUnits_CoM.h5\n",
      "Downloading to /data/rvnd2-2/SXS_data/SXS:BBH:0007v2/Lev6/rhOverM_Asymptotic_GeometricUnits_CoM.h5:\n"
     ]
    },
    {
     "data": {
      "application/vnd.jupyter.widget-view+json": {
       "model_id": "594a57fd3dbb48f496483722dea51b9a",
       "version_major": 2,
       "version_minor": 0
      },
      "text/plain": [
       "  0%|          | 0/141172492 [00:00<?, ?it/s]"
      ]
     },
     "metadata": {},
     "output_type": "display_data"
    },
    {
     "name": "stdout",
     "output_type": "stream",
     "text": [
      "Found the following files to load from the SXS catalog:\n",
      "    SXS:BBH:0016v5/Lev6/metadata.json\n",
      "Found the following files to load from the SXS catalog:\n",
      "    SXS:BBH:0016v5/Lev6/rhOverM_Asymptotic_GeometricUnits_CoM.h5\n",
      "Downloading to /data/rvnd2-2/SXS_data/SXS:BBH:0016v2/Lev6/rhOverM_Asymptotic_GeometricUnits_CoM.h5:\n"
     ]
    },
    {
     "data": {
      "application/vnd.jupyter.widget-view+json": {
       "model_id": "95fc458303bb4da6ad7e976df77fffaa",
       "version_major": 2,
       "version_minor": 0
      },
      "text/plain": [
       "  0%|          | 0/157929882 [00:00<?, ?it/s]"
      ]
     },
     "metadata": {},
     "output_type": "display_data"
    },
    {
     "name": "stdout",
     "output_type": "stream",
     "text": [
      "Found the following files to load from the SXS catalog:\n",
      "    SXS:BBH:0013v5/Lev5/metadata.json\n",
      "Found the following files to load from the SXS catalog:\n",
      "    SXS:BBH:0013v5/Lev5/rhOverM_Asymptotic_GeometricUnits_CoM.h5\n",
      "Downloading to /data/rvnd2-2/SXS_data/SXS:BBH:0013v2/Lev5/rhOverM_Asymptotic_GeometricUnits_CoM.h5:\n"
     ]
    },
    {
     "data": {
      "application/vnd.jupyter.widget-view+json": {
       "model_id": "0ff3ad5837874aa18cc706062e933976",
       "version_major": 2,
       "version_minor": 0
      },
      "text/plain": [
       "  0%|          | 0/119185381 [00:00<?, ?it/s]"
      ]
     },
     "metadata": {},
     "output_type": "display_data"
    },
    {
     "name": "stdout",
     "output_type": "stream",
     "text": [
      "Found the following files to load from the SXS catalog:\n",
      "    SXS:BBH:0239v5/Lev5/metadata.json\n",
      "Found the following files to load from the SXS catalog:\n",
      "    SXS:BBH:0239v5/Lev5/rhOverM_Asymptotic_GeometricUnits_CoM.h5\n",
      "Downloading to /data/rvnd2-2/SXS_data/SXS:BBH:0239v2/Lev5/rhOverM_Asymptotic_GeometricUnits_CoM.h5:\n"
     ]
    },
    {
     "data": {
      "application/vnd.jupyter.widget-view+json": {
       "model_id": "9825e2f9d9cd4bb6a6ec83ac2a96f020",
       "version_major": 2,
       "version_minor": 0
      },
      "text/plain": [
       "  0%|          | 0/93076590 [00:00<?, ?it/s]"
      ]
     },
     "metadata": {},
     "output_type": "display_data"
    },
    {
     "name": "stdout",
     "output_type": "stream",
     "text": [
      "Found the following files to load from the SXS catalog:\n",
      "    SXS:BBH:0252v5/Lev5/metadata.json\n",
      "Found the following files to load from the SXS catalog:\n",
      "    SXS:BBH:0252v5/Lev5/rhOverM_Asymptotic_GeometricUnits_CoM.h5\n",
      "Downloading to /data/rvnd2-2/SXS_data/SXS:BBH:0252v2/Lev5/rhOverM_Asymptotic_GeometricUnits_CoM.h5:\n"
     ]
    },
    {
     "data": {
      "application/vnd.jupyter.widget-view+json": {
       "model_id": "1c7628b2f0454b81945b6c303371844d",
       "version_major": 2,
       "version_minor": 0
      },
      "text/plain": [
       "  0%|          | 0/93740518 [00:00<?, ?it/s]"
      ]
     },
     "metadata": {},
     "output_type": "display_data"
    },
    {
     "name": "stdout",
     "output_type": "stream",
     "text": [
      "Found the following files to load from the SXS catalog:\n",
      "    SXS:BBH:0248v5/Lev5/metadata.json\n",
      "Found the following files to load from the SXS catalog:\n",
      "    SXS:BBH:0248v5/Lev5/rhOverM_Asymptotic_GeometricUnits_CoM.h5\n",
      "Downloading to /data/rvnd2-2/SXS_data/SXS:BBH:0248v2/Lev5/rhOverM_Asymptotic_GeometricUnits_CoM.h5:\n"
     ]
    },
    {
     "data": {
      "application/vnd.jupyter.widget-view+json": {
       "model_id": "d3929c9fc85b44bcbe20a152662427e2",
       "version_major": 2,
       "version_minor": 0
      },
      "text/plain": [
       "  0%|          | 0/96392958 [00:00<?, ?it/s]"
      ]
     },
     "metadata": {},
     "output_type": "display_data"
    },
    {
     "name": "stdout",
     "output_type": "stream",
     "text": [
      "Found the following files to load from the SXS catalog:\n",
      "    SXS:BBH:0258v5/Lev5/metadata.json\n",
      "Found the following files to load from the SXS catalog:\n",
      "    SXS:BBH:0258v5/Lev5/rhOverM_Asymptotic_GeometricUnits_CoM.h5\n",
      "Downloading to /data/rvnd2-2/SXS_data/SXS:BBH:0258v2/Lev5/rhOverM_Asymptotic_GeometricUnits_CoM.h5:\n"
     ]
    },
    {
     "data": {
      "application/vnd.jupyter.widget-view+json": {
       "model_id": "af976e264c2c4ae78d5eeeeed655a009",
       "version_major": 2,
       "version_minor": 0
      },
      "text/plain": [
       "  0%|          | 0/98429023 [00:00<?, ?it/s]"
      ]
     },
     "metadata": {},
     "output_type": "display_data"
    },
    {
     "name": "stdout",
     "output_type": "stream",
     "text": [
      "Found the following files to load from the SXS catalog:\n",
      "    SXS:BBH:0243v5/Lev5/metadata.json\n",
      "Found the following files to load from the SXS catalog:\n",
      "    SXS:BBH:0243v5/Lev5/rhOverM_Asymptotic_GeometricUnits_CoM.h5\n",
      "Downloading to /data/rvnd2-2/SXS_data/SXS:BBH:0243v2/Lev5/rhOverM_Asymptotic_GeometricUnits_CoM.h5:\n"
     ]
    },
    {
     "data": {
      "application/vnd.jupyter.widget-view+json": {
       "model_id": "0afead0be3414d08892a7e4b1f8476da",
       "version_major": 2,
       "version_minor": 0
      },
      "text/plain": [
       "  0%|          | 0/94658856 [00:00<?, ?it/s]"
      ]
     },
     "metadata": {},
     "output_type": "display_data"
    },
    {
     "name": "stdout",
     "output_type": "stream",
     "text": [
      "Found the following files to load from the SXS catalog:\n",
      "    SXS:BBH:0257v5/Lev5/metadata.json\n",
      "Found the following files to load from the SXS catalog:\n",
      "    SXS:BBH:0257v5/Lev5/rhOverM_Asymptotic_GeometricUnits_CoM.h5\n",
      "Downloading to /data/rvnd2-2/SXS_data/SXS:BBH:0257v2/Lev5/rhOverM_Asymptotic_GeometricUnits_CoM.h5:\n"
     ]
    },
    {
     "data": {
      "application/vnd.jupyter.widget-view+json": {
       "model_id": "02d30b51beae46d3bbe4bd282a7fce2e",
       "version_major": 2,
       "version_minor": 0
      },
      "text/plain": [
       "  0%|          | 0/106339765 [00:00<?, ?it/s]"
      ]
     },
     "metadata": {},
     "output_type": "display_data"
    },
    {
     "name": "stdout",
     "output_type": "stream",
     "text": [
      "Found the following files to load from the SXS catalog:\n",
      "    SXS:BBH:0234v5/Lev5/metadata.json\n",
      "Found the following files to load from the SXS catalog:\n",
      "    SXS:BBH:0234v5/Lev5/rhOverM_Asymptotic_GeometricUnits_CoM.h5\n",
      "Downloading to /data/rvnd2-2/SXS_data/SXS:BBH:0234v2/Lev5/rhOverM_Asymptotic_GeometricUnits_CoM.h5:\n"
     ]
    },
    {
     "data": {
      "application/vnd.jupyter.widget-view+json": {
       "model_id": "c503fc2219d14e77b7fdba2c09b55ac7",
       "version_major": 2,
       "version_minor": 0
      },
      "text/plain": [
       "  0%|          | 0/102286857 [00:00<?, ?it/s]"
      ]
     },
     "metadata": {},
     "output_type": "display_data"
    },
    {
     "name": "stdout",
     "output_type": "stream",
     "text": [
      "Found the following files to load from the SXS catalog:\n",
      "    SXS:BBH:0233v5/Lev5/metadata.json\n",
      "Found the following files to load from the SXS catalog:\n",
      "    SXS:BBH:0233v5/Lev5/rhOverM_Asymptotic_GeometricUnits_CoM.h5\n",
      "Downloading to /data/rvnd2-2/SXS_data/SXS:BBH:0233v2/Lev5/rhOverM_Asymptotic_GeometricUnits_CoM.h5:\n"
     ]
    },
    {
     "data": {
      "application/vnd.jupyter.widget-view+json": {
       "model_id": "2ebbfb02b1814634a2594d77372f2542",
       "version_major": 2,
       "version_minor": 0
      },
      "text/plain": [
       "  0%|          | 0/91755230 [00:00<?, ?it/s]"
      ]
     },
     "metadata": {},
     "output_type": "display_data"
    },
    {
     "name": "stdout",
     "output_type": "stream",
     "text": [
      "Found the following files to load from the SXS catalog:\n",
      "    SXS:BBH:0246v5/Lev5/metadata.json\n",
      "Found the following files to load from the SXS catalog:\n",
      "    SXS:BBH:0246v5/Lev5/rhOverM_Asymptotic_GeometricUnits_CoM.h5\n",
      "Downloading to /data/rvnd2-2/SXS_data/SXS:BBH:0246v2/Lev5/rhOverM_Asymptotic_GeometricUnits_CoM.h5:\n"
     ]
    },
    {
     "data": {
      "application/vnd.jupyter.widget-view+json": {
       "model_id": "ad85d9769d464df1ab9dd2948afebf33",
       "version_major": 2,
       "version_minor": 0
      },
      "text/plain": [
       "  0%|          | 0/96427565 [00:00<?, ?it/s]"
      ]
     },
     "metadata": {},
     "output_type": "display_data"
    },
    {
     "name": "stdout",
     "output_type": "stream",
     "text": [
      "Found the following files to load from the SXS catalog:\n",
      "    SXS:BBH:0245v5/Lev5/metadata.json\n",
      "Found the following files to load from the SXS catalog:\n",
      "    SXS:BBH:0245v5/Lev5/rhOverM_Asymptotic_GeometricUnits_CoM.h5\n",
      "Downloading to /data/rvnd2-2/SXS_data/SXS:BBH:0245v2/Lev5/rhOverM_Asymptotic_GeometricUnits_CoM.h5:\n"
     ]
    },
    {
     "data": {
      "application/vnd.jupyter.widget-view+json": {
       "model_id": "213906b30dac49258d9ac661280c0cfd",
       "version_major": 2,
       "version_minor": 0
      },
      "text/plain": [
       "  0%|          | 0/95544317 [00:00<?, ?it/s]"
      ]
     },
     "metadata": {},
     "output_type": "display_data"
    },
    {
     "name": "stdout",
     "output_type": "stream",
     "text": [
      "Found the following files to load from the SXS catalog:\n",
      "    SXS:BBH:0256v5/Lev5/metadata.json\n",
      "Found the following files to load from the SXS catalog:\n",
      "    SXS:BBH:0256v5/Lev5/rhOverM_Asymptotic_GeometricUnits_CoM.h5\n",
      "Downloading to /data/rvnd2-2/SXS_data/SXS:BBH:0256v2/Lev5/rhOverM_Asymptotic_GeometricUnits_CoM.h5:\n"
     ]
    },
    {
     "data": {
      "application/vnd.jupyter.widget-view+json": {
       "model_id": "c9f1c739206f4670b519c8504cfe7d59",
       "version_major": 2,
       "version_minor": 0
      },
      "text/plain": [
       "  0%|          | 0/101207121 [00:00<?, ?it/s]"
      ]
     },
     "metadata": {},
     "output_type": "display_data"
    },
    {
     "name": "stdout",
     "output_type": "stream",
     "text": [
      "Found the following files to load from the SXS catalog:\n",
      "    SXS:BBH:0253v5/Lev5/metadata.json\n",
      "Found the following files to load from the SXS catalog:\n",
      "    SXS:BBH:0253v5/Lev5/rhOverM_Asymptotic_GeometricUnits_CoM.h5\n",
      "Downloading to /data/rvnd2-2/SXS_data/SXS:BBH:0253v2/Lev5/rhOverM_Asymptotic_GeometricUnits_CoM.h5:\n"
     ]
    },
    {
     "data": {
      "application/vnd.jupyter.widget-view+json": {
       "model_id": "0570b2d9081240339a837f8ce2fd5a09",
       "version_major": 2,
       "version_minor": 0
      },
      "text/plain": [
       "  0%|          | 0/113016105 [00:00<?, ?it/s]"
      ]
     },
     "metadata": {},
     "output_type": "display_data"
    },
    {
     "name": "stdout",
     "output_type": "stream",
     "text": [
      "Found the following files to load from the SXS catalog:\n",
      "    SXS:BBH:0255v5/Lev5/metadata.json\n",
      "Found the following files to load from the SXS catalog:\n",
      "    SXS:BBH:0255v5/Lev5/rhOverM_Asymptotic_GeometricUnits_CoM.h5\n",
      "Downloading to /data/rvnd2-2/SXS_data/SXS:BBH:0255v2/Lev5/rhOverM_Asymptotic_GeometricUnits_CoM.h5:\n"
     ]
    },
    {
     "data": {
      "application/vnd.jupyter.widget-view+json": {
       "model_id": "2eb62d663b7a489b8850d2ceadbdfe19",
       "version_major": 2,
       "version_minor": 0
      },
      "text/plain": [
       "  0%|          | 0/99342421 [00:00<?, ?it/s]"
      ]
     },
     "metadata": {},
     "output_type": "display_data"
    },
    {
     "name": "stdout",
     "output_type": "stream",
     "text": [
      "Found the following files to load from the SXS catalog:\n",
      "    SXS:BBH:0238v5/Lev5/metadata.json\n",
      "Found the following files to load from the SXS catalog:\n",
      "    SXS:BBH:0238v5/Lev5/rhOverM_Asymptotic_GeometricUnits_CoM.h5\n",
      "Downloading to /data/rvnd2-2/SXS_data/SXS:BBH:0238v2/Lev5/rhOverM_Asymptotic_GeometricUnits_CoM.h5:\n"
     ]
    },
    {
     "data": {
      "application/vnd.jupyter.widget-view+json": {
       "model_id": "5e3785f88ba04aab985417d3e566ea1c",
       "version_major": 2,
       "version_minor": 0
      },
      "text/plain": [
       "  0%|          | 0/114352749 [00:00<?, ?it/s]"
      ]
     },
     "metadata": {},
     "output_type": "display_data"
    },
    {
     "name": "stdout",
     "output_type": "stream",
     "text": [
      "Found the following files to load from the SXS catalog:\n",
      "    SXS:BBH:0236v5/Lev5/metadata.json\n",
      "Found the following files to load from the SXS catalog:\n",
      "    SXS:BBH:0236v5/Lev5/rhOverM_Asymptotic_GeometricUnits_CoM.h5\n",
      "Downloading to /data/rvnd2-2/SXS_data/SXS:BBH:0236v2/Lev5/rhOverM_Asymptotic_GeometricUnits_CoM.h5:\n"
     ]
    },
    {
     "data": {
      "application/vnd.jupyter.widget-view+json": {
       "model_id": "5a6e130043814f82b7d11addc082fc30",
       "version_major": 2,
       "version_minor": 0
      },
      "text/plain": [
       "  0%|          | 0/93861650 [00:00<?, ?it/s]"
      ]
     },
     "metadata": {},
     "output_type": "display_data"
    },
    {
     "name": "stdout",
     "output_type": "stream",
     "text": [
      "Found the following files to load from the SXS catalog:\n",
      "    SXS:BBH:0244v5/Lev5/metadata.json\n",
      "Found the following files to load from the SXS catalog:\n",
      "    SXS:BBH:0244v5/Lev5/rhOverM_Asymptotic_GeometricUnits_CoM.h5\n",
      "Downloading to /data/rvnd2-2/SXS_data/SXS:BBH:0244v2/Lev5/rhOverM_Asymptotic_GeometricUnits_CoM.h5:\n"
     ]
    },
    {
     "data": {
      "application/vnd.jupyter.widget-view+json": {
       "model_id": "70e32851752b4a99aaf85bb54aba2a3a",
       "version_major": 2,
       "version_minor": 0
      },
      "text/plain": [
       "  0%|          | 0/95271410 [00:00<?, ?it/s]"
      ]
     },
     "metadata": {},
     "output_type": "display_data"
    },
    {
     "name": "stdout",
     "output_type": "stream",
     "text": [
      "Found the following files to load from the SXS catalog:\n",
      "    SXS:BBH:0235v5/Lev5/metadata.json\n",
      "Found the following files to load from the SXS catalog:\n",
      "    SXS:BBH:0235v5/Lev5/rhOverM_Asymptotic_GeometricUnits_CoM.h5\n",
      "Downloading to /data/rvnd2-2/SXS_data/SXS:BBH:0235v2/Lev5/rhOverM_Asymptotic_GeometricUnits_CoM.h5:\n"
     ]
    },
    {
     "data": {
      "application/vnd.jupyter.widget-view+json": {
       "model_id": "b8571367466e438cae8fc0b8bd8043c4",
       "version_major": 2,
       "version_minor": 0
      },
      "text/plain": [
       "  0%|          | 0/97319458 [00:00<?, ?it/s]"
      ]
     },
     "metadata": {},
     "output_type": "display_data"
    },
    {
     "name": "stdout",
     "output_type": "stream",
     "text": [
      "Found the following files to load from the SXS catalog:\n",
      "    SXS:BBH:0237v5/Lev5/metadata.json\n",
      "Found the following files to load from the SXS catalog:\n",
      "    SXS:BBH:0237v5/Lev5/rhOverM_Asymptotic_GeometricUnits_CoM.h5\n",
      "Downloading to /data/rvnd2-2/SXS_data/SXS:BBH:0237v2/Lev5/rhOverM_Asymptotic_GeometricUnits_CoM.h5:\n"
     ]
    },
    {
     "data": {
      "application/vnd.jupyter.widget-view+json": {
       "model_id": "abf87708562b48acb3070f9683c72d94",
       "version_major": 2,
       "version_minor": 0
      },
      "text/plain": [
       "  0%|          | 0/92861607 [00:00<?, ?it/s]"
      ]
     },
     "metadata": {},
     "output_type": "display_data"
    },
    {
     "name": "stdout",
     "output_type": "stream",
     "text": [
      "Found the following files to load from the SXS catalog:\n",
      "    SXS:BBH:0247v5/Lev5/metadata.json\n",
      "Found the following files to load from the SXS catalog:\n",
      "    SXS:BBH:0247v5/Lev5/rhOverM_Asymptotic_GeometricUnits_CoM.h5\n",
      "Downloading to /data/rvnd2-2/SXS_data/SXS:BBH:0247v2/Lev5/rhOverM_Asymptotic_GeometricUnits_CoM.h5:\n"
     ]
    },
    {
     "data": {
      "application/vnd.jupyter.widget-view+json": {
       "model_id": "8abfc58ec54c4db6a10344af1b64ce0b",
       "version_major": 2,
       "version_minor": 0
      },
      "text/plain": [
       "  0%|          | 0/94254156 [00:00<?, ?it/s]"
      ]
     },
     "metadata": {},
     "output_type": "display_data"
    },
    {
     "name": "stdout",
     "output_type": "stream",
     "text": [
      "Found the following files to load from the SXS catalog:\n",
      "    SXS:BBH:0251v5/Lev5/metadata.json\n",
      "Found the following files to load from the SXS catalog:\n",
      "    SXS:BBH:0251v5/Lev5/rhOverM_Asymptotic_GeometricUnits_CoM.h5\n",
      "Downloading to /data/rvnd2-2/SXS_data/SXS:BBH:0251v2/Lev5/rhOverM_Asymptotic_GeometricUnits_CoM.h5:\n"
     ]
    },
    {
     "data": {
      "application/vnd.jupyter.widget-view+json": {
       "model_id": "f0eeef10311f4570a51a64f76aeb7505",
       "version_major": 2,
       "version_minor": 0
      },
      "text/plain": [
       "  0%|          | 0/98545509 [00:00<?, ?it/s]"
      ]
     },
     "metadata": {},
     "output_type": "display_data"
    },
    {
     "name": "stdout",
     "output_type": "stream",
     "text": [
      "Found the following files to load from the SXS catalog:\n",
      "    SXS:BBH:0249v5/Lev5/metadata.json\n",
      "Found the following files to load from the SXS catalog:\n",
      "    SXS:BBH:0249v5/Lev5/rhOverM_Asymptotic_GeometricUnits_CoM.h5\n",
      "Downloading to /data/rvnd2-2/SXS_data/SXS:BBH:0249v2/Lev5/rhOverM_Asymptotic_GeometricUnits_CoM.h5:\n"
     ]
    },
    {
     "data": {
      "application/vnd.jupyter.widget-view+json": {
       "model_id": "f2b07646aa9a42ada7c1168c381a2a4e",
       "version_major": 2,
       "version_minor": 0
      },
      "text/plain": [
       "  0%|          | 0/96486767 [00:00<?, ?it/s]"
      ]
     },
     "metadata": {},
     "output_type": "display_data"
    },
    {
     "name": "stdout",
     "output_type": "stream",
     "text": [
      "Found the following files to load from the SXS catalog:\n",
      "    SXS:BBH:0242v5/Lev5/metadata.json\n",
      "Found the following files to load from the SXS catalog:\n",
      "    SXS:BBH:0242v5/Lev5/rhOverM_Asymptotic_GeometricUnits_CoM.h5\n",
      "Downloading to /data/rvnd2-2/SXS_data/SXS:BBH:0242v2/Lev5/rhOverM_Asymptotic_GeometricUnits_CoM.h5:\n"
     ]
    },
    {
     "data": {
      "application/vnd.jupyter.widget-view+json": {
       "model_id": "5b7c0aa1178e49c4ad38414a98b5f0c5",
       "version_major": 2,
       "version_minor": 0
      },
      "text/plain": [
       "  0%|          | 0/95122836 [00:00<?, ?it/s]"
      ]
     },
     "metadata": {},
     "output_type": "display_data"
    },
    {
     "name": "stdout",
     "output_type": "stream",
     "text": [
      "Found the following files to load from the SXS catalog:\n",
      "    SXS:BBH:0240v5/Lev5/metadata.json\n",
      "Found the following files to load from the SXS catalog:\n",
      "    SXS:BBH:0240v5/Lev5/rhOverM_Asymptotic_GeometricUnits_CoM.h5\n",
      "Downloading to /data/rvnd2-2/SXS_data/SXS:BBH:0240v2/Lev5/rhOverM_Asymptotic_GeometricUnits_CoM.h5:\n"
     ]
    },
    {
     "data": {
      "application/vnd.jupyter.widget-view+json": {
       "model_id": "d034b716ddfb41f99366b1b1ede71f3c",
       "version_major": 2,
       "version_minor": 0
      },
      "text/plain": [
       "  0%|          | 0/95351128 [00:00<?, ?it/s]"
      ]
     },
     "metadata": {},
     "output_type": "display_data"
    },
    {
     "name": "stdout",
     "output_type": "stream",
     "text": [
      "Found the following files to load from the SXS catalog:\n",
      "    SXS:BBH:0254v5/Lev5/metadata.json\n",
      "Found the following files to load from the SXS catalog:\n",
      "    SXS:BBH:0254v5/Lev5/rhOverM_Asymptotic_GeometricUnits_CoM.h5\n",
      "Downloading to /data/rvnd2-2/SXS_data/SXS:BBH:0254v2/Lev5/rhOverM_Asymptotic_GeometricUnits_CoM.h5:\n"
     ]
    },
    {
     "data": {
      "application/vnd.jupyter.widget-view+json": {
       "model_id": "edbf593e702a44d3a01f6a01a13fae0a",
       "version_major": 2,
       "version_minor": 0
      },
      "text/plain": [
       "  0%|          | 0/97186423 [00:00<?, ?it/s]"
      ]
     },
     "metadata": {},
     "output_type": "display_data"
    },
    {
     "name": "stdout",
     "output_type": "stream",
     "text": [
      "Found the following files to load from the SXS catalog:\n",
      "    SXS:BBH:0169v5/Lev5/metadata.json\n",
      "Found the following files to load from the SXS catalog:\n",
      "    SXS:BBH:0169v5/Lev5/rhOverM_Asymptotic_GeometricUnits_CoM.h5\n",
      "Downloading to /data/rvnd2-2/SXS_data/SXS:BBH:0169v2/Lev5/rhOverM_Asymptotic_GeometricUnits_CoM.h5:\n"
     ]
    },
    {
     "data": {
      "application/vnd.jupyter.widget-view+json": {
       "model_id": "7a10b4e069064ec587754d2084daa216",
       "version_major": 2,
       "version_minor": 0
      },
      "text/plain": [
       "  0%|          | 0/80583605 [00:00<?, ?it/s]"
      ]
     },
     "metadata": {},
     "output_type": "display_data"
    },
    {
     "name": "stdout",
     "output_type": "stream",
     "text": [
      "Found the following files to load from the SXS catalog:\n",
      "    SXS:BBH:0241v5/Lev5/metadata.json\n",
      "Found the following files to load from the SXS catalog:\n",
      "    SXS:BBH:0241v5/Lev5/rhOverM_Asymptotic_GeometricUnits_CoM.h5\n",
      "Downloading to /data/rvnd2-2/SXS_data/SXS:BBH:0241v2/Lev5/rhOverM_Asymptotic_GeometricUnits_CoM.h5:\n"
     ]
    },
    {
     "data": {
      "application/vnd.jupyter.widget-view+json": {
       "model_id": "11d91e9245374fdba04c64b6f7a31628",
       "version_major": 2,
       "version_minor": 0
      },
      "text/plain": [
       "  0%|          | 0/95101393 [00:00<?, ?it/s]"
      ]
     },
     "metadata": {},
     "output_type": "display_data"
    },
    {
     "name": "stdout",
     "output_type": "stream",
     "text": [
      "Found the following files to load from the SXS catalog:\n",
      "    SXS:BBH:0250v5/Lev5/metadata.json\n",
      "Found the following files to load from the SXS catalog:\n",
      "    SXS:BBH:0250v5/Lev5/rhOverM_Asymptotic_GeometricUnits_CoM.h5\n",
      "Downloading to /data/rvnd2-2/SXS_data/SXS:BBH:0250v2/Lev5/rhOverM_Asymptotic_GeometricUnits_CoM.h5:\n"
     ]
    },
    {
     "data": {
      "application/vnd.jupyter.widget-view+json": {
       "model_id": "9e10e9c59c92459aacb1721fafd48cec",
       "version_major": 2,
       "version_minor": 0
      },
      "text/plain": [
       "  0%|          | 0/97604285 [00:00<?, ?it/s]"
      ]
     },
     "metadata": {},
     "output_type": "display_data"
    },
    {
     "name": "stdout",
     "output_type": "stream",
     "text": [
      "Found the following files to load from the SXS catalog:\n",
      "    SXS:BBH:0574v5/Lev3/metadata.json\n",
      "Found the following files to load from the SXS catalog:\n",
      "    SXS:BBH:0574v5/Lev3/rhOverM_Asymptotic_GeometricUnits_CoM.h5\n",
      "Downloading to /data/rvnd2-2/SXS_data/SXS:BBH:0574v2/Lev3/rhOverM_Asymptotic_GeometricUnits_CoM.h5:\n"
     ]
    },
    {
     "data": {
      "application/vnd.jupyter.widget-view+json": {
       "model_id": "b9f30d43023c4f0d8f121ccfe41ae05a",
       "version_major": 2,
       "version_minor": 0
      },
      "text/plain": [
       "  0%|          | 0/88579673 [00:00<?, ?it/s]"
      ]
     },
     "metadata": {},
     "output_type": "display_data"
    },
    {
     "name": "stdout",
     "output_type": "stream",
     "text": [
      "Found the following files to load from the SXS catalog:\n",
      "    SXS:BBH:0259v5/Lev5/metadata.json\n",
      "Found the following files to load from the SXS catalog:\n",
      "    SXS:BBH:0259v5/Lev5/rhOverM_Asymptotic_GeometricUnits_CoM.h5\n",
      "Downloading to /data/rvnd2-2/SXS_data/SXS:BBH:0259v2/Lev5/rhOverM_Asymptotic_GeometricUnits_CoM.h5:\n"
     ]
    },
    {
     "data": {
      "application/vnd.jupyter.widget-view+json": {
       "model_id": "ed43778f90694108a09bd3fe14b328ea",
       "version_major": 2,
       "version_minor": 0
      },
      "text/plain": [
       "  0%|          | 0/107979727 [00:00<?, ?it/s]"
      ]
     },
     "metadata": {},
     "output_type": "display_data"
    },
    {
     "name": "stdout",
     "output_type": "stream",
     "text": [
      "Found the following files to load from the SXS catalog:\n",
      "    SXS:BBH:0261v5/Lev5/metadata.json\n",
      "Found the following files to load from the SXS catalog:\n",
      "    SXS:BBH:0261v5/Lev5/rhOverM_Asymptotic_GeometricUnits_CoM.h5\n",
      "Downloading to /data/rvnd2-2/SXS_data/SXS:BBH:0261v2/Lev5/rhOverM_Asymptotic_GeometricUnits_CoM.h5:\n"
     ]
    },
    {
     "data": {
      "application/vnd.jupyter.widget-view+json": {
       "model_id": "439925a1633d4e5e877fcd1e4d7f646a",
       "version_major": 2,
       "version_minor": 0
      },
      "text/plain": [
       "  0%|          | 0/90183697 [00:00<?, ?it/s]"
      ]
     },
     "metadata": {},
     "output_type": "display_data"
    },
    {
     "name": "stdout",
     "output_type": "stream",
     "text": [
      "Found the following files to load from the SXS catalog:\n",
      "    SXS:BBH:0280v5/Lev5/metadata.json\n",
      "Found the following files to load from the SXS catalog:\n",
      "    SXS:BBH:0280v5/Lev5/rhOverM_Asymptotic_GeometricUnits_CoM.h5\n",
      "Downloading to /data/rvnd2-2/SXS_data/SXS:BBH:0280v2/Lev5/rhOverM_Asymptotic_GeometricUnits_CoM.h5:\n"
     ]
    },
    {
     "data": {
      "application/vnd.jupyter.widget-view+json": {
       "model_id": "58a2dee392c9476695b3a7cc36c9af52",
       "version_major": 2,
       "version_minor": 0
      },
      "text/plain": [
       "  0%|          | 0/99086995 [00:00<?, ?it/s]"
      ]
     },
     "metadata": {},
     "output_type": "display_data"
    },
    {
     "name": "stdout",
     "output_type": "stream",
     "text": [
      "Found the following files to load from the SXS catalog:\n",
      "    SXS:BBH:0292v5/Lev5/metadata.json\n",
      "Found the following files to load from the SXS catalog:\n",
      "    SXS:BBH:0292v5/Lev5/rhOverM_Asymptotic_GeometricUnits_CoM.h5\n",
      "Downloading to /data/rvnd2-2/SXS_data/SXS:BBH:0292v2/Lev5/rhOverM_Asymptotic_GeometricUnits_CoM.h5:\n"
     ]
    },
    {
     "data": {
      "application/vnd.jupyter.widget-view+json": {
       "model_id": "506597d4dab2406eb1a9b8848dcc21d6",
       "version_major": 2,
       "version_minor": 0
      },
      "text/plain": [
       "  0%|          | 0/98111908 [00:00<?, ?it/s]"
      ]
     },
     "metadata": {},
     "output_type": "display_data"
    },
    {
     "name": "stdout",
     "output_type": "stream",
     "text": [
      "Found the following files to load from the SXS catalog:\n",
      "    SXS:BBH:0274v5/Lev5/metadata.json\n",
      "Found the following files to load from the SXS catalog:\n",
      "    SXS:BBH:0274v5/Lev5/rhOverM_Asymptotic_GeometricUnits_CoM.h5\n",
      "Downloading to /data/rvnd2-2/SXS_data/SXS:BBH:0274v2/Lev5/rhOverM_Asymptotic_GeometricUnits_CoM.h5:\n"
     ]
    },
    {
     "data": {
      "application/vnd.jupyter.widget-view+json": {
       "model_id": "9d6e82ab69a64b5f85f8fbdc41573084",
       "version_major": 2,
       "version_minor": 0
      },
      "text/plain": [
       "  0%|          | 0/93855412 [00:00<?, ?it/s]"
      ]
     },
     "metadata": {},
     "output_type": "display_data"
    },
    {
     "name": "stdout",
     "output_type": "stream",
     "text": [
      "Found the following files to load from the SXS catalog:\n",
      "    SXS:BBH:0279v5/Lev5/metadata.json\n",
      "Found the following files to load from the SXS catalog:\n",
      "    SXS:BBH:0279v5/Lev5/rhOverM_Asymptotic_GeometricUnits_CoM.h5\n",
      "Downloading to /data/rvnd2-2/SXS_data/SXS:BBH:0279v2/Lev5/rhOverM_Asymptotic_GeometricUnits_CoM.h5:\n"
     ]
    },
    {
     "data": {
      "application/vnd.jupyter.widget-view+json": {
       "model_id": "86a4bf3ef143461eb8a86e32bb8ced08",
       "version_major": 2,
       "version_minor": 0
      },
      "text/plain": [
       "  0%|          | 0/95059843 [00:00<?, ?it/s]"
      ]
     },
     "metadata": {},
     "output_type": "display_data"
    },
    {
     "name": "stdout",
     "output_type": "stream",
     "text": [
      "Found the following files to load from the SXS catalog:\n",
      "    SXS:BBH:0293v5/Lev5/metadata.json\n",
      "Found the following files to load from the SXS catalog:\n",
      "    SXS:BBH:0293v5/Lev5/rhOverM_Asymptotic_GeometricUnits_CoM.h5\n",
      "Downloading to /data/rvnd2-2/SXS_data/SXS:BBH:0293v2/Lev5/rhOverM_Asymptotic_GeometricUnits_CoM.h5:\n"
     ]
    },
    {
     "data": {
      "application/vnd.jupyter.widget-view+json": {
       "model_id": "de8df0fd463a491191b9064a05f7abc6",
       "version_major": 2,
       "version_minor": 0
      },
      "text/plain": [
       "  0%|          | 0/108900935 [00:00<?, ?it/s]"
      ]
     },
     "metadata": {},
     "output_type": "display_data"
    },
    {
     "name": "stdout",
     "output_type": "stream",
     "text": [
      "Found the following files to load from the SXS catalog:\n",
      "    SXS:BBH:0273v5/Lev5/metadata.json\n",
      "Found the following files to load from the SXS catalog:\n",
      "    SXS:BBH:0273v5/Lev5/rhOverM_Asymptotic_GeometricUnits_CoM.h5\n",
      "Downloading to /data/rvnd2-2/SXS_data/SXS:BBH:0273v2/Lev5/rhOverM_Asymptotic_GeometricUnits_CoM.h5:\n"
     ]
    },
    {
     "data": {
      "application/vnd.jupyter.widget-view+json": {
       "model_id": "32efcec2d62843dcabad6125ceb602e7",
       "version_major": 2,
       "version_minor": 0
      },
      "text/plain": [
       "  0%|          | 0/93580679 [00:00<?, ?it/s]"
      ]
     },
     "metadata": {},
     "output_type": "display_data"
    },
    {
     "name": "stdout",
     "output_type": "stream",
     "text": [
      "Found the following files to load from the SXS catalog:\n",
      "    SXS:BBH:0260v5/Lev5/metadata.json\n",
      "Found the following files to load from the SXS catalog:\n",
      "    SXS:BBH:0260v5/Lev5/rhOverM_Asymptotic_GeometricUnits_CoM.h5\n",
      "Downloading to /data/rvnd2-2/SXS_data/SXS:BBH:0260v2/Lev5/rhOverM_Asymptotic_GeometricUnits_CoM.h5:\n"
     ]
    },
    {
     "data": {
      "application/vnd.jupyter.widget-view+json": {
       "model_id": "2545c352aa9649d3beaef7e39ce228e3",
       "version_major": 2,
       "version_minor": 0
      },
      "text/plain": [
       "  0%|          | 0/98379124 [00:00<?, ?it/s]"
      ]
     },
     "metadata": {},
     "output_type": "display_data"
    },
    {
     "name": "stdout",
     "output_type": "stream",
     "text": [
      "Found the following files to load from the SXS catalog:\n",
      "    SXS:BBH:0263v5/Lev5/metadata.json\n",
      "Found the following files to load from the SXS catalog:\n",
      "    SXS:BBH:0263v5/Lev5/rhOverM_Asymptotic_GeometricUnits_CoM.h5\n",
      "Downloading to /data/rvnd2-2/SXS_data/SXS:BBH:0263v2/Lev5/rhOverM_Asymptotic_GeometricUnits_CoM.h5:\n"
     ]
    },
    {
     "data": {
      "application/vnd.jupyter.widget-view+json": {
       "model_id": "05a10c58fe854fe8b24fe373a06749e4",
       "version_major": 2,
       "version_minor": 0
      },
      "text/plain": [
       "  0%|          | 0/91512854 [00:00<?, ?it/s]"
      ]
     },
     "metadata": {},
     "output_type": "display_data"
    },
    {
     "name": "stdout",
     "output_type": "stream",
     "text": [
      "Found the following files to load from the SXS catalog:\n",
      "    SXS:BBH:0268v5/Lev5/metadata.json\n",
      "Found the following files to load from the SXS catalog:\n",
      "    SXS:BBH:0268v5/Lev5/rhOverM_Asymptotic_GeometricUnits_CoM.h5\n",
      "Downloading to /data/rvnd2-2/SXS_data/SXS:BBH:0268v2/Lev5/rhOverM_Asymptotic_GeometricUnits_CoM.h5:\n"
     ]
    },
    {
     "data": {
      "application/vnd.jupyter.widget-view+json": {
       "model_id": "7d62e480b7804c4f8d002c1a56f0b563",
       "version_major": 2,
       "version_minor": 0
      },
      "text/plain": [
       "  0%|          | 0/92500004 [00:00<?, ?it/s]"
      ]
     },
     "metadata": {},
     "output_type": "display_data"
    },
    {
     "name": "stdout",
     "output_type": "stream",
     "text": [
      "Found the following files to load from the SXS catalog:\n",
      "    SXS:BBH:0269v5/Lev5/metadata.json\n",
      "Found the following files to load from the SXS catalog:\n",
      "    SXS:BBH:0269v5/Lev5/rhOverM_Asymptotic_GeometricUnits_CoM.h5\n",
      "Downloading to /data/rvnd2-2/SXS_data/SXS:BBH:0269v2/Lev5/rhOverM_Asymptotic_GeometricUnits_CoM.h5:\n"
     ]
    },
    {
     "data": {
      "application/vnd.jupyter.widget-view+json": {
       "model_id": "181adc7813b54a01876eca4c2e7a8356",
       "version_major": 2,
       "version_minor": 0
      },
      "text/plain": [
       "  0%|          | 0/92592579 [00:00<?, ?it/s]"
      ]
     },
     "metadata": {},
     "output_type": "display_data"
    },
    {
     "name": "stdout",
     "output_type": "stream",
     "text": [
      "Found the following files to load from the SXS catalog:\n",
      "    SXS:BBH:0277v5/Lev5/metadata.json\n",
      "Found the following files to load from the SXS catalog:\n",
      "    SXS:BBH:0277v5/Lev5/rhOverM_Asymptotic_GeometricUnits_CoM.h5\n",
      "Downloading to /data/rvnd2-2/SXS_data/SXS:BBH:0277v2/Lev5/rhOverM_Asymptotic_GeometricUnits_CoM.h5:\n"
     ]
    },
    {
     "data": {
      "application/vnd.jupyter.widget-view+json": {
       "model_id": "44b7fda959e14e5685efc4d59b21d8b1",
       "version_major": 2,
       "version_minor": 0
      },
      "text/plain": [
       "  0%|          | 0/95611460 [00:00<?, ?it/s]"
      ]
     },
     "metadata": {},
     "output_type": "display_data"
    },
    {
     "name": "stdout",
     "output_type": "stream",
     "text": [
      "Found the following files to load from the SXS catalog:\n",
      "    SXS:BBH:0276v5/Lev5/metadata.json\n",
      "Found the following files to load from the SXS catalog:\n",
      "    SXS:BBH:0276v5/Lev5/rhOverM_Asymptotic_GeometricUnits_CoM.h5\n",
      "Downloading to /data/rvnd2-2/SXS_data/SXS:BBH:0276v2/Lev5/rhOverM_Asymptotic_GeometricUnits_CoM.h5:\n"
     ]
    },
    {
     "data": {
      "application/vnd.jupyter.widget-view+json": {
       "model_id": "00c2726071e94eb482b1aefde8f47a3d",
       "version_major": 2,
       "version_minor": 0
      },
      "text/plain": [
       "  0%|          | 0/95631641 [00:00<?, ?it/s]"
      ]
     },
     "metadata": {},
     "output_type": "display_data"
    },
    {
     "name": "stdout",
     "output_type": "stream",
     "text": [
      "Found the following files to load from the SXS catalog:\n",
      "    SXS:BBH:0284v5/Lev5/metadata.json\n",
      "Found the following files to load from the SXS catalog:\n",
      "    SXS:BBH:0284v5/Lev5/rhOverM_Asymptotic_GeometricUnits_CoM.h5\n",
      "Downloading to /data/rvnd2-2/SXS_data/SXS:BBH:0284v2/Lev5/rhOverM_Asymptotic_GeometricUnits_CoM.h5:\n"
     ]
    },
    {
     "data": {
      "application/vnd.jupyter.widget-view+json": {
       "model_id": "d485b516c09c4018ae6b2b66e696e89e",
       "version_major": 2,
       "version_minor": 0
      },
      "text/plain": [
       "  0%|          | 0/96637242 [00:00<?, ?it/s]"
      ]
     },
     "metadata": {},
     "output_type": "display_data"
    },
    {
     "name": "stdout",
     "output_type": "stream",
     "text": [
      "Found the following files to load from the SXS catalog:\n",
      "    SXS:BBH:0046v5/Lev5/metadata.json\n",
      "Found the following files to load from the SXS catalog:\n",
      "    SXS:BBH:0046v5/Lev5/rhOverM_Asymptotic_GeometricUnits_CoM.h5\n",
      "Downloading to /data/rvnd2-2/SXS_data/SXS:BBH:0046v2/Lev5/rhOverM_Asymptotic_GeometricUnits_CoM.h5:\n"
     ]
    },
    {
     "data": {
      "application/vnd.jupyter.widget-view+json": {
       "model_id": "ffdb3a1e5532407cbf9ef44520948e18",
       "version_major": 2,
       "version_minor": 0
      },
      "text/plain": [
       "  0%|          | 0/83951931 [00:00<?, ?it/s]"
      ]
     },
     "metadata": {},
     "output_type": "display_data"
    },
    {
     "name": "stdout",
     "output_type": "stream",
     "text": [
      "Found the following files to load from the SXS catalog:\n",
      "    SXS:BBH:0045v5/Lev5/metadata.json\n",
      "Found the following files to load from the SXS catalog:\n",
      "    SXS:BBH:0045v5/Lev5/rhOverM_Asymptotic_GeometricUnits_CoM.h5\n",
      "Downloading to /data/rvnd2-2/SXS_data/SXS:BBH:0045v2/Lev5/rhOverM_Asymptotic_GeometricUnits_CoM.h5:\n"
     ]
    },
    {
     "data": {
      "application/vnd.jupyter.widget-view+json": {
       "model_id": "7a3ed646ef074a67a5898c7bc1928ce3",
       "version_major": 2,
       "version_minor": 0
      },
      "text/plain": [
       "  0%|          | 0/100797418 [00:00<?, ?it/s]"
      ]
     },
     "metadata": {},
     "output_type": "display_data"
    },
    {
     "name": "stdout",
     "output_type": "stream",
     "text": [
      "Found the following files to load from the SXS catalog:\n",
      "    SXS:BBH:0047v5/Lev5/metadata.json\n",
      "Found the following files to load from the SXS catalog:\n",
      "    SXS:BBH:0047v5/Lev5/rhOverM_Asymptotic_GeometricUnits_CoM.h5\n",
      "Downloading to /data/rvnd2-2/SXS_data/SXS:BBH:0047v2/Lev5/rhOverM_Asymptotic_GeometricUnits_CoM.h5:\n"
     ]
    },
    {
     "data": {
      "application/vnd.jupyter.widget-view+json": {
       "model_id": "db0b577ff62e48b3b620011cca3cf478",
       "version_major": 2,
       "version_minor": 0
      },
      "text/plain": [
       "  0%|          | 0/108486743 [00:00<?, ?it/s]"
      ]
     },
     "metadata": {},
     "output_type": "display_data"
    },
    {
     "name": "stdout",
     "output_type": "stream",
     "text": [
      "Found the following files to load from the SXS catalog:\n",
      "    SXS:BBH:0278v5/Lev5/metadata.json\n",
      "Found the following files to load from the SXS catalog:\n",
      "    SXS:BBH:0278v5/Lev5/rhOverM_Asymptotic_GeometricUnits_CoM.h5\n",
      "Downloading to /data/rvnd2-2/SXS_data/SXS:BBH:0278v2/Lev5/rhOverM_Asymptotic_GeometricUnits_CoM.h5:\n"
     ]
    },
    {
     "data": {
      "application/vnd.jupyter.widget-view+json": {
       "model_id": "a4bfca5df9fa41b89cb9335f31e5df13",
       "version_major": 2,
       "version_minor": 0
      },
      "text/plain": [
       "  0%|          | 0/95427141 [00:00<?, ?it/s]"
      ]
     },
     "metadata": {},
     "output_type": "display_data"
    },
    {
     "name": "stdout",
     "output_type": "stream",
     "text": [
      "Found the following files to load from the SXS catalog:\n",
      "    SXS:BBH:0287v5/Lev5/metadata.json\n",
      "Found the following files to load from the SXS catalog:\n",
      "    SXS:BBH:0287v5/Lev5/rhOverM_Asymptotic_GeometricUnits_CoM.h5\n",
      "Downloading to /data/rvnd2-2/SXS_data/SXS:BBH:0287v2/Lev5/rhOverM_Asymptotic_GeometricUnits_CoM.h5:\n"
     ]
    },
    {
     "data": {
      "application/vnd.jupyter.widget-view+json": {
       "model_id": "81b672f3836e439abc47e3e73bad629a",
       "version_major": 2,
       "version_minor": 0
      },
      "text/plain": [
       "  0%|          | 0/98754307 [00:00<?, ?it/s]"
      ]
     },
     "metadata": {},
     "output_type": "display_data"
    },
    {
     "name": "stdout",
     "output_type": "stream",
     "text": [
      "Found the following files to load from the SXS catalog:\n",
      "    SXS:BBH:0286v5/Lev5/metadata.json\n",
      "Found the following files to load from the SXS catalog:\n",
      "    SXS:BBH:0286v5/Lev5/rhOverM_Asymptotic_GeometricUnits_CoM.h5\n",
      "Downloading to /data/rvnd2-2/SXS_data/SXS:BBH:0286v2/Lev5/rhOverM_Asymptotic_GeometricUnits_CoM.h5:\n"
     ]
    },
    {
     "data": {
      "application/vnd.jupyter.widget-view+json": {
       "model_id": "b7b2730e648f4edeab091a9c15bd050c",
       "version_major": 2,
       "version_minor": 0
      },
      "text/plain": [
       "  0%|          | 0/100148386 [00:00<?, ?it/s]"
      ]
     },
     "metadata": {},
     "output_type": "display_data"
    },
    {
     "name": "stdout",
     "output_type": "stream",
     "text": [
      "Found the following files to load from the SXS catalog:\n",
      "    SXS:BBH:0275v5/Lev5/metadata.json\n",
      "Found the following files to load from the SXS catalog:\n",
      "    SXS:BBH:0275v5/Lev5/rhOverM_Asymptotic_GeometricUnits_CoM.h5\n",
      "Downloading to /data/rvnd2-2/SXS_data/SXS:BBH:0275v2/Lev5/rhOverM_Asymptotic_GeometricUnits_CoM.h5:\n"
     ]
    },
    {
     "data": {
      "application/vnd.jupyter.widget-view+json": {
       "model_id": "760eeebf4faf4ae89d15855d3f92657e",
       "version_major": 2,
       "version_minor": 0
      },
      "text/plain": [
       "  0%|          | 0/94082612 [00:00<?, ?it/s]"
      ]
     },
     "metadata": {},
     "output_type": "display_data"
    },
    {
     "name": "stdout",
     "output_type": "stream",
     "text": [
      "Found the following files to load from the SXS catalog:\n",
      "    SXS:BBH:0267v5/Lev5/metadata.json\n",
      "Found the following files to load from the SXS catalog:\n",
      "    SXS:BBH:0267v5/Lev5/rhOverM_Asymptotic_GeometricUnits_CoM.h5\n",
      "Downloading to /data/rvnd2-2/SXS_data/SXS:BBH:0267v2/Lev5/rhOverM_Asymptotic_GeometricUnits_CoM.h5:\n"
     ]
    },
    {
     "data": {
      "application/vnd.jupyter.widget-view+json": {
       "model_id": "cb61b3a1d5224aafa3911ef6bfe8ca38",
       "version_major": 2,
       "version_minor": 0
      },
      "text/plain": [
       "  0%|          | 0/95697910 [00:00<?, ?it/s]"
      ]
     },
     "metadata": {},
     "output_type": "display_data"
    },
    {
     "name": "stdout",
     "output_type": "stream",
     "text": [
      "Found the following files to load from the SXS catalog:\n",
      "    SXS:BBH:0264v5/Lev5/metadata.json\n",
      "Found the following files to load from the SXS catalog:\n",
      "    SXS:BBH:0264v5/Lev5/rhOverM_Asymptotic_GeometricUnits_CoM.h5\n",
      "Downloading to /data/rvnd2-2/SXS_data/SXS:BBH:0264v2/Lev5/rhOverM_Asymptotic_GeometricUnits_CoM.h5:\n"
     ]
    },
    {
     "data": {
      "application/vnd.jupyter.widget-view+json": {
       "model_id": "549f60085bd54f37afedc76e55094dda",
       "version_major": 2,
       "version_minor": 0
      },
      "text/plain": [
       "  0%|          | 0/93369395 [00:00<?, ?it/s]"
      ]
     },
     "metadata": {},
     "output_type": "display_data"
    },
    {
     "name": "stdout",
     "output_type": "stream",
     "text": [
      "Found the following files to load from the SXS catalog:\n",
      "    SXS:BBH:0283v5/Lev5/metadata.json\n",
      "Found the following files to load from the SXS catalog:\n",
      "    SXS:BBH:0283v5/Lev5/rhOverM_Asymptotic_GeometricUnits_CoM.h5\n",
      "Downloading to /data/rvnd2-2/SXS_data/SXS:BBH:0283v2/Lev5/rhOverM_Asymptotic_GeometricUnits_CoM.h5:\n"
     ]
    },
    {
     "data": {
      "application/vnd.jupyter.widget-view+json": {
       "model_id": "4dea1bde1caa4a88ba7c5696a157852b",
       "version_major": 2,
       "version_minor": 0
      },
      "text/plain": [
       "  0%|          | 0/98019657 [00:00<?, ?it/s]"
      ]
     },
     "metadata": {},
     "output_type": "display_data"
    },
    {
     "name": "stdout",
     "output_type": "stream",
     "text": [
      "Found the following files to load from the SXS catalog:\n",
      "    SXS:BBH:0281v5/Lev5/metadata.json\n",
      "Found the following files to load from the SXS catalog:\n",
      "    SXS:BBH:0281v5/Lev5/rhOverM_Asymptotic_GeometricUnits_CoM.h5\n",
      "Downloading to /data/rvnd2-2/SXS_data/SXS:BBH:0281v2/Lev5/rhOverM_Asymptotic_GeometricUnits_CoM.h5:\n"
     ]
    },
    {
     "data": {
      "application/vnd.jupyter.widget-view+json": {
       "model_id": "d18b6541564c47cf8aadb167e3b5eed9",
       "version_major": 2,
       "version_minor": 0
      },
      "text/plain": [
       "  0%|          | 0/96899186 [00:00<?, ?it/s]"
      ]
     },
     "metadata": {},
     "output_type": "display_data"
    },
    {
     "name": "stdout",
     "output_type": "stream",
     "text": [
      "Found the following files to load from the SXS catalog:\n",
      "    SXS:BBH:0272v5/Lev5/metadata.json\n",
      "Found the following files to load from the SXS catalog:\n",
      "    SXS:BBH:0272v5/Lev5/rhOverM_Asymptotic_GeometricUnits_CoM.h5\n",
      "Downloading to /data/rvnd2-2/SXS_data/SXS:BBH:0272v2/Lev5/rhOverM_Asymptotic_GeometricUnits_CoM.h5:\n"
     ]
    },
    {
     "data": {
      "application/vnd.jupyter.widget-view+json": {
       "model_id": "f7cd0e79ca9c4d5cbed744df92608310",
       "version_major": 2,
       "version_minor": 0
      },
      "text/plain": [
       "  0%|          | 0/94221807 [00:00<?, ?it/s]"
      ]
     },
     "metadata": {},
     "output_type": "display_data"
    },
    {
     "name": "stdout",
     "output_type": "stream",
     "text": [
      "Found the following files to load from the SXS catalog:\n",
      "    SXS:BBH:0270v5/Lev5/metadata.json\n",
      "Found the following files to load from the SXS catalog:\n",
      "    SXS:BBH:0270v5/Lev5/rhOverM_Asymptotic_GeometricUnits_CoM.h5\n",
      "Downloading to /data/rvnd2-2/SXS_data/SXS:BBH:0270v2/Lev5/rhOverM_Asymptotic_GeometricUnits_CoM.h5:\n"
     ]
    },
    {
     "data": {
      "application/vnd.jupyter.widget-view+json": {
       "model_id": "315a2fb7d831482cb5dc943f3a6f8d2d",
       "version_major": 2,
       "version_minor": 0
      },
      "text/plain": [
       "  0%|          | 0/94191601 [00:00<?, ?it/s]"
      ]
     },
     "metadata": {},
     "output_type": "display_data"
    },
    {
     "name": "stdout",
     "output_type": "stream",
     "text": [
      "Found the following files to load from the SXS catalog:\n",
      "    SXS:BBH:0265v5/Lev5/metadata.json\n",
      "Found the following files to load from the SXS catalog:\n",
      "    SXS:BBH:0265v5/Lev5/rhOverM_Asymptotic_GeometricUnits_CoM.h5\n",
      "Downloading to /data/rvnd2-2/SXS_data/SXS:BBH:0265v2/Lev5/rhOverM_Asymptotic_GeometricUnits_CoM.h5:\n"
     ]
    },
    {
     "data": {
      "application/vnd.jupyter.widget-view+json": {
       "model_id": "0096785398a245508511cdbe9fefcdd3",
       "version_major": 2,
       "version_minor": 0
      },
      "text/plain": [
       "  0%|          | 0/93583444 [00:00<?, ?it/s]"
      ]
     },
     "metadata": {},
     "output_type": "display_data"
    },
    {
     "name": "stdout",
     "output_type": "stream",
     "text": [
      "Found the following files to load from the SXS catalog:\n",
      "    SXS:BBH:0290v5/Lev5/metadata.json\n",
      "Found the following files to load from the SXS catalog:\n",
      "    SXS:BBH:0290v5/Lev5/rhOverM_Asymptotic_GeometricUnits_CoM.h5\n",
      "Downloading to /data/rvnd2-2/SXS_data/SXS:BBH:0290v2/Lev5/rhOverM_Asymptotic_GeometricUnits_CoM.h5:\n"
     ]
    },
    {
     "data": {
      "application/vnd.jupyter.widget-view+json": {
       "model_id": "68031224b3ad44febddced541275dcc0",
       "version_major": 2,
       "version_minor": 0
      },
      "text/plain": [
       "  0%|          | 0/102119742 [00:00<?, ?it/s]"
      ]
     },
     "metadata": {},
     "output_type": "display_data"
    },
    {
     "name": "stdout",
     "output_type": "stream",
     "text": [
      "Found the following files to load from the SXS catalog:\n",
      "    SXS:BBH:0285v5/Lev5/metadata.json\n",
      "Found the following files to load from the SXS catalog:\n",
      "    SXS:BBH:0285v5/Lev5/rhOverM_Asymptotic_GeometricUnits_CoM.h5\n",
      "Downloading to /data/rvnd2-2/SXS_data/SXS:BBH:0285v2/Lev5/rhOverM_Asymptotic_GeometricUnits_CoM.h5:\n"
     ]
    },
    {
     "data": {
      "application/vnd.jupyter.widget-view+json": {
       "model_id": "137590c5b0e1491e9adfcff4675f4659",
       "version_major": 2,
       "version_minor": 0
      },
      "text/plain": [
       "  0%|          | 0/99736187 [00:00<?, ?it/s]"
      ]
     },
     "metadata": {},
     "output_type": "display_data"
    },
    {
     "name": "stdout",
     "output_type": "stream",
     "text": [
      "Found the following files to load from the SXS catalog:\n",
      "    SXS:BBH:0262v5/Lev5/metadata.json\n",
      "Found the following files to load from the SXS catalog:\n",
      "    SXS:BBH:0262v5/Lev5/rhOverM_Asymptotic_GeometricUnits_CoM.h5\n",
      "Downloading to /data/rvnd2-2/SXS_data/SXS:BBH:0262v2/Lev5/rhOverM_Asymptotic_GeometricUnits_CoM.h5:\n"
     ]
    },
    {
     "data": {
      "application/vnd.jupyter.widget-view+json": {
       "model_id": "564ff92a25d54cd0a1232eb33fc30f72",
       "version_major": 2,
       "version_minor": 0
      },
      "text/plain": [
       "  0%|          | 0/91575313 [00:00<?, ?it/s]"
      ]
     },
     "metadata": {},
     "output_type": "display_data"
    },
    {
     "name": "stdout",
     "output_type": "stream",
     "text": [
      "Found the following files to load from the SXS catalog:\n",
      "    SXS:BBH:0291v5/Lev5/metadata.json\n",
      "Found the following files to load from the SXS catalog:\n",
      "    SXS:BBH:0291v5/Lev5/rhOverM_Asymptotic_GeometricUnits_CoM.h5\n",
      "Downloading to /data/rvnd2-2/SXS_data/SXS:BBH:0291v2/Lev5/rhOverM_Asymptotic_GeometricUnits_CoM.h5:\n"
     ]
    },
    {
     "data": {
      "application/vnd.jupyter.widget-view+json": {
       "model_id": "321d25ef178a493db971023de63b976b",
       "version_major": 2,
       "version_minor": 0
      },
      "text/plain": [
       "  0%|          | 0/103306364 [00:00<?, ?it/s]"
      ]
     },
     "metadata": {},
     "output_type": "display_data"
    },
    {
     "name": "stdout",
     "output_type": "stream",
     "text": [
      "Found the following files to load from the SXS catalog:\n",
      "    SXS:BBH:0030v6/Lev5/metadata.json\n",
      "Found the following files to load from the SXS catalog:\n",
      "    SXS:BBH:0030v6/Lev5/rhOverM_Asymptotic_GeometricUnits_CoM.h5\n",
      "Downloading to /data/rvnd2-2/SXS_data/SXS:BBH:0030v2/Lev5/rhOverM_Asymptotic_GeometricUnits_CoM.h5:\n"
     ]
    },
    {
     "data": {
      "application/vnd.jupyter.widget-view+json": {
       "model_id": "a7ff692429f846008dbe951a5b6f5c77",
       "version_major": 2,
       "version_minor": 0
      },
      "text/plain": [
       "  0%|          | 0/90121332 [00:00<?, ?it/s]"
      ]
     },
     "metadata": {},
     "output_type": "display_data"
    },
    {
     "name": "stdout",
     "output_type": "stream",
     "text": [
      "Found the following files to load from the SXS catalog:\n",
      "    SXS:BBH:0288v5/Lev5/metadata.json\n",
      "Found the following files to load from the SXS catalog:\n",
      "    SXS:BBH:0288v5/Lev5/rhOverM_Asymptotic_GeometricUnits_CoM.h5\n",
      "Downloading to /data/rvnd2-2/SXS_data/SXS:BBH:0288v2/Lev5/rhOverM_Asymptotic_GeometricUnits_CoM.h5:\n"
     ]
    },
    {
     "data": {
      "application/vnd.jupyter.widget-view+json": {
       "model_id": "9106a0f3ac4d4dd997a2c138ed9eca3d",
       "version_major": 2,
       "version_minor": 0
      },
      "text/plain": [
       "  0%|          | 0/98637088 [00:00<?, ?it/s]"
      ]
     },
     "metadata": {},
     "output_type": "display_data"
    },
    {
     "name": "stdout",
     "output_type": "stream",
     "text": [
      "Found the following files to load from the SXS catalog:\n",
      "    SXS:BBH:0266v5/Lev5/metadata.json\n",
      "Found the following files to load from the SXS catalog:\n",
      "    SXS:BBH:0266v5/Lev5/rhOverM_Asymptotic_GeometricUnits_CoM.h5\n",
      "Downloading to /data/rvnd2-2/SXS_data/SXS:BBH:0266v2/Lev5/rhOverM_Asymptotic_GeometricUnits_CoM.h5:\n"
     ]
    },
    {
     "data": {
      "application/vnd.jupyter.widget-view+json": {
       "model_id": "ab55d9475c3f4c62b3295c3e434b1e1b",
       "version_major": 2,
       "version_minor": 0
      },
      "text/plain": [
       "  0%|          | 0/91362843 [00:00<?, ?it/s]"
      ]
     },
     "metadata": {},
     "output_type": "display_data"
    },
    {
     "name": "stdout",
     "output_type": "stream",
     "text": [
      "Found the following files to load from the SXS catalog:\n",
      "    SXS:BBH:0271v5/Lev5/metadata.json\n",
      "Found the following files to load from the SXS catalog:\n",
      "    SXS:BBH:0271v5/Lev5/rhOverM_Asymptotic_GeometricUnits_CoM.h5\n",
      "Downloading to /data/rvnd2-2/SXS_data/SXS:BBH:0271v2/Lev5/rhOverM_Asymptotic_GeometricUnits_CoM.h5:\n"
     ]
    },
    {
     "data": {
      "application/vnd.jupyter.widget-view+json": {
       "model_id": "7e4a6483b06b4f36a49bdccb022f6673",
       "version_major": 2,
       "version_minor": 0
      },
      "text/plain": [
       "  0%|          | 0/93705522 [00:00<?, ?it/s]"
      ]
     },
     "metadata": {},
     "output_type": "display_data"
    },
    {
     "name": "stdout",
     "output_type": "stream",
     "text": [
      "Found the following files to load from the SXS catalog:\n",
      "    SXS:BBH:0282v5/Lev5/metadata.json\n",
      "Found the following files to load from the SXS catalog:\n",
      "    SXS:BBH:0282v5/Lev5/rhOverM_Asymptotic_GeometricUnits_CoM.h5\n",
      "Downloading to /data/rvnd2-2/SXS_data/SXS:BBH:0282v2/Lev5/rhOverM_Asymptotic_GeometricUnits_CoM.h5:\n"
     ]
    },
    {
     "data": {
      "application/vnd.jupyter.widget-view+json": {
       "model_id": "1c4dbdd028824effada899724e200c96",
       "version_major": 2,
       "version_minor": 0
      },
      "text/plain": [
       "  0%|          | 0/97341116 [00:00<?, ?it/s]"
      ]
     },
     "metadata": {},
     "output_type": "display_data"
    },
    {
     "name": "stdout",
     "output_type": "stream",
     "text": [
      "Found the following files to load from the SXS catalog:\n",
      "    SXS:BBH:0289v5/Lev5/metadata.json\n",
      "Found the following files to load from the SXS catalog:\n",
      "    SXS:BBH:0289v5/Lev5/rhOverM_Asymptotic_GeometricUnits_CoM.h5\n",
      "Downloading to /data/rvnd2-2/SXS_data/SXS:BBH:0289v2/Lev5/rhOverM_Asymptotic_GeometricUnits_CoM.h5:\n"
     ]
    },
    {
     "data": {
      "application/vnd.jupyter.widget-view+json": {
       "model_id": "8023e69354fe4e638fb1c6b9582ae8f8",
       "version_major": 2,
       "version_minor": 0
      },
      "text/plain": [
       "  0%|          | 0/99736308 [00:00<?, ?it/s]"
      ]
     },
     "metadata": {},
     "output_type": "display_data"
    },
    {
     "name": "stdout",
     "output_type": "stream",
     "text": [
      "Found the following files to load from the SXS catalog:\n",
      "    SXS:BBH:0036v5/Lev6/metadata.json\n",
      "Found the following files to load from the SXS catalog:\n",
      "    SXS:BBH:0036v5/Lev6/rhOverM_Asymptotic_GeometricUnits_CoM.h5\n",
      "Downloading to /data/rvnd2-2/SXS_data/SXS:BBH:0036v2/Lev6/rhOverM_Asymptotic_GeometricUnits_CoM.h5:\n"
     ]
    },
    {
     "data": {
      "application/vnd.jupyter.widget-view+json": {
       "model_id": "01d5473bc38948a2844c1667956da944",
       "version_major": 2,
       "version_minor": 0
      },
      "text/plain": [
       "  0%|          | 0/158412146 [00:00<?, ?it/s]"
      ]
     },
     "metadata": {},
     "output_type": "display_data"
    },
    {
     "name": "stdout",
     "output_type": "stream",
     "text": [
      "Found the following files to load from the SXS catalog:\n",
      "    SXS:BBH:0174v5/Lev6/metadata.json\n",
      "Found the following files to load from the SXS catalog:\n",
      "    SXS:BBH:0174v5/Lev6/rhOverM_Asymptotic_GeometricUnits_CoM.h5\n",
      "Downloading to /data/rvnd2-2/SXS_data/SXS:BBH:0174v2/Lev6/rhOverM_Asymptotic_GeometricUnits_CoM.h5:\n"
     ]
    },
    {
     "data": {
      "application/vnd.jupyter.widget-view+json": {
       "model_id": "391f3492a07f44e1b501314aaa288675",
       "version_major": 2,
       "version_minor": 0
      },
      "text/plain": [
       "  0%|          | 0/161213786 [00:00<?, ?it/s]"
      ]
     },
     "metadata": {},
     "output_type": "display_data"
    },
    {
     "name": "stdout",
     "output_type": "stream",
     "text": [
      "Found the following files to load from the SXS catalog:\n",
      "    SXS:BBH:0167v5/Lev5/metadata.json\n",
      "Found the following files to load from the SXS catalog:\n",
      "    SXS:BBH:0167v5/Lev5/rhOverM_Asymptotic_GeometricUnits_CoM.h5\n",
      "Downloading to /data/rvnd2-2/SXS_data/SXS:BBH:0167v2/Lev5/rhOverM_Asymptotic_GeometricUnits_CoM.h5:\n"
     ]
    },
    {
     "data": {
      "application/vnd.jupyter.widget-view+json": {
       "model_id": "7bd91983b431405aa13ec9f275a689ee",
       "version_major": 2,
       "version_minor": 0
      },
      "text/plain": [
       "  0%|          | 0/78875197 [00:00<?, ?it/s]"
      ]
     },
     "metadata": {},
     "output_type": "display_data"
    },
    {
     "name": "stdout",
     "output_type": "stream",
     "text": [
      "Found the following files to load from the SXS catalog:\n",
      "    SXS:BBH:0295v5/Lev5/metadata.json\n",
      "Found the following files to load from the SXS catalog:\n",
      "    SXS:BBH:0295v5/Lev5/rhOverM_Asymptotic_GeometricUnits_CoM.h5\n",
      "Downloading to /data/rvnd2-2/SXS_data/SXS:BBH:0295v2/Lev5/rhOverM_Asymptotic_GeometricUnits_CoM.h5:\n"
     ]
    },
    {
     "data": {
      "application/vnd.jupyter.widget-view+json": {
       "model_id": "bbb236b8c31f40fe92b7b925cb1bac33",
       "version_major": 2,
       "version_minor": 0
      },
      "text/plain": [
       "  0%|          | 0/107036459 [00:00<?, ?it/s]"
      ]
     },
     "metadata": {},
     "output_type": "display_data"
    },
    {
     "name": "stdout",
     "output_type": "stream",
     "text": [
      "Found the following files to load from the SXS catalog:\n",
      "    SXS:BBH:0056v5/Lev5/metadata.json\n",
      "Found the following files to load from the SXS catalog:\n",
      "    SXS:BBH:0056v5/Lev5/rhOverM_Asymptotic_GeometricUnits_CoM.h5\n",
      "Downloading to /data/rvnd2-2/SXS_data/SXS:BBH:0056v2/Lev5/rhOverM_Asymptotic_GeometricUnits_CoM.h5:\n"
     ]
    },
    {
     "data": {
      "application/vnd.jupyter.widget-view+json": {
       "model_id": "bad92eabf50640099463232f55949116",
       "version_major": 2,
       "version_minor": 0
      },
      "text/plain": [
       "  0%|          | 0/125264380 [00:00<?, ?it/s]"
      ]
     },
     "metadata": {},
     "output_type": "display_data"
    },
    {
     "name": "stdout",
     "output_type": "stream",
     "text": [
      "Found the following files to load from the SXS catalog:\n",
      "    SXS:BBH:0061v5/Lev4/metadata.json\n",
      "Found the following files to load from the SXS catalog:\n",
      "    SXS:BBH:0061v5/Lev4/rhOverM_Asymptotic_GeometricUnits_CoM.h5\n",
      "Downloading to /data/rvnd2-2/SXS_data/SXS:BBH:0061v2/Lev4/rhOverM_Asymptotic_GeometricUnits_CoM.h5:\n"
     ]
    },
    {
     "data": {
      "application/vnd.jupyter.widget-view+json": {
       "model_id": "95bb0de96d1a4abd92a718c6ab440006",
       "version_major": 2,
       "version_minor": 0
      },
      "text/plain": [
       "  0%|          | 0/142060006 [00:00<?, ?it/s]"
      ]
     },
     "metadata": {},
     "output_type": "display_data"
    },
    {
     "name": "stdout",
     "output_type": "stream",
     "text": [
      "Found the following files to load from the SXS catalog:\n",
      "    SXS:BBH:0060v5/Lev4/metadata.json\n",
      "Found the following files to load from the SXS catalog:\n",
      "    SXS:BBH:0060v5/Lev4/rhOverM_Asymptotic_GeometricUnits_CoM.h5\n",
      "Downloading to /data/rvnd2-2/SXS_data/SXS:BBH:0060v2/Lev4/rhOverM_Asymptotic_GeometricUnits_CoM.h5:\n"
     ]
    },
    {
     "data": {
      "application/vnd.jupyter.widget-view+json": {
       "model_id": "a9128a66b106459c9e18c4423123bf4a",
       "version_major": 2,
       "version_minor": 0
      },
      "text/plain": [
       "  0%|          | 0/111590392 [00:00<?, ?it/s]"
      ]
     },
     "metadata": {},
     "output_type": "display_data"
    },
    {
     "name": "stdout",
     "output_type": "stream",
     "text": [
      "Found the following files to load from the SXS catalog:\n",
      "    SXS:BBH:0296v5/Lev5/metadata.json\n",
      "Found the following files to load from the SXS catalog:\n",
      "    SXS:BBH:0296v5/Lev5/rhOverM_Asymptotic_GeometricUnits_CoM.h5\n",
      "Downloading to /data/rvnd2-2/SXS_data/SXS:BBH:0296v2/Lev5/rhOverM_Asymptotic_GeometricUnits_CoM.h5:\n"
     ]
    },
    {
     "data": {
      "application/vnd.jupyter.widget-view+json": {
       "model_id": "93b6151fb12c4aca83d4d245a66b2b6b",
       "version_major": 2,
       "version_minor": 0
      },
      "text/plain": [
       "  0%|          | 0/107264958 [00:00<?, ?it/s]"
      ]
     },
     "metadata": {},
     "output_type": "display_data"
    },
    {
     "name": "stdout",
     "output_type": "stream",
     "text": [
      "Found the following files to load from the SXS catalog:\n",
      "    SXS:BBH:0166v5/Lev5/metadata.json\n",
      "Found the following files to load from the SXS catalog:\n",
      "    SXS:BBH:0166v5/Lev5/rhOverM_Asymptotic_GeometricUnits_CoM.h5\n",
      "Downloading to /data/rvnd2-2/SXS_data/SXS:BBH:0166v2/Lev5/rhOverM_Asymptotic_GeometricUnits_CoM.h5:\n"
     ]
    },
    {
     "data": {
      "application/vnd.jupyter.widget-view+json": {
       "model_id": "46b40107fa1a44b1bd776f470c8ae479",
       "version_major": 2,
       "version_minor": 0
      },
      "text/plain": [
       "  0%|          | 0/90365571 [00:00<?, ?it/s]"
      ]
     },
     "metadata": {},
     "output_type": "display_data"
    },
    {
     "name": "stdout",
     "output_type": "stream",
     "text": [
      "Found the following files to load from the SXS catalog:\n",
      "    SXS:BBH:0297v5/Lev5/metadata.json\n",
      "Found the following files to load from the SXS catalog:\n",
      "    SXS:BBH:0297v5/Lev5/rhOverM_Asymptotic_GeometricUnits_CoM.h5\n",
      "Downloading to /data/rvnd2-2/SXS_data/SXS:BBH:0297v2/Lev5/rhOverM_Asymptotic_GeometricUnits_CoM.h5:\n"
     ]
    },
    {
     "data": {
      "application/vnd.jupyter.widget-view+json": {
       "model_id": "2f6857e4d8994d69b81705edefdc2249",
       "version_major": 2,
       "version_minor": 0
      },
      "text/plain": [
       "  0%|          | 0/88300416 [00:00<?, ?it/s]"
      ]
     },
     "metadata": {},
     "output_type": "display_data"
    },
    {
     "name": "stdout",
     "output_type": "stream",
     "text": [
      "Found the following files to load from the SXS catalog:\n",
      "    SXS:BBH:0202v5/Lev4/metadata.json\n",
      "Found the following files to load from the SXS catalog:\n",
      "    SXS:BBH:0202v5/Lev4/rhOverM_Asymptotic_GeometricUnits_CoM.h5\n",
      "Downloading to /data/rvnd2-2/SXS_data/SXS:BBH:0202v2/Lev4/rhOverM_Asymptotic_GeometricUnits_CoM.h5:\n"
     ]
    },
    {
     "data": {
      "application/vnd.jupyter.widget-view+json": {
       "model_id": "a54640c65b4d4183a8d844f515fa77ae",
       "version_major": 2,
       "version_minor": 0
      },
      "text/plain": [
       "  0%|          | 0/180283992 [00:00<?, ?it/s]"
      ]
     },
     "metadata": {},
     "output_type": "display_data"
    },
    {
     "name": "stdout",
     "output_type": "stream",
     "text": [
      "Found the following files to load from the SXS catalog:\n",
      "    SXS:BBH:0298v5/Lev5/metadata.json\n",
      "Found the following files to load from the SXS catalog:\n",
      "    SXS:BBH:0298v5/Lev5/rhOverM_Asymptotic_GeometricUnits_CoM.h5\n",
      "Downloading to /data/rvnd2-2/SXS_data/SXS:BBH:0298v2/Lev5/rhOverM_Asymptotic_GeometricUnits_CoM.h5:\n"
     ]
    },
    {
     "data": {
      "application/vnd.jupyter.widget-view+json": {
       "model_id": "bd1171b036794d27ad422808eb537f77",
       "version_major": 2,
       "version_minor": 0
      },
      "text/plain": [
       "  0%|          | 0/87926776 [00:00<?, ?it/s]"
      ]
     },
     "metadata": {},
     "output_type": "display_data"
    },
    {
     "name": "stdout",
     "output_type": "stream",
     "text": [
      "Found the following files to load from the SXS catalog:\n",
      "    SXS:BBH:0207v5/Lev4/metadata.json\n",
      "Found the following files to load from the SXS catalog:\n",
      "    SXS:BBH:0207v5/Lev4/rhOverM_Asymptotic_GeometricUnits_CoM.h5\n",
      "Downloading to /data/rvnd2-2/SXS_data/SXS:BBH:0207v2/Lev4/rhOverM_Asymptotic_GeometricUnits_CoM.h5:\n"
     ]
    },
    {
     "data": {
      "application/vnd.jupyter.widget-view+json": {
       "model_id": "dada88006031408aa6fe9803db0be0cd",
       "version_major": 2,
       "version_minor": 0
      },
      "text/plain": [
       "  0%|          | 0/119067316 [00:00<?, ?it/s]"
      ]
     },
     "metadata": {},
     "output_type": "display_data"
    },
    {
     "name": "stdout",
     "output_type": "stream",
     "text": [
      "Found the following files to load from the SXS catalog:\n",
      "    SXS:BBH:0205v5/Lev3/metadata.json\n",
      "Found the following files to load from the SXS catalog:\n",
      "    SXS:BBH:0205v5/Lev3/rhOverM_Asymptotic_GeometricUnits_CoM.h5\n",
      "Downloading to /data/rvnd2-2/SXS_data/SXS:BBH:0205v2/Lev3/rhOverM_Asymptotic_GeometricUnits_CoM.h5:\n"
     ]
    },
    {
     "data": {
      "application/vnd.jupyter.widget-view+json": {
       "model_id": "3d7b4fd415af4d06859b1ad982509a71",
       "version_major": 2,
       "version_minor": 0
      },
      "text/plain": [
       "  0%|          | 0/141226985 [00:00<?, ?it/s]"
      ]
     },
     "metadata": {},
     "output_type": "display_data"
    },
    {
     "name": "stdout",
     "output_type": "stream",
     "text": [
      "Found the following files to load from the SXS catalog:\n",
      "    SXS:BBH:0204v5/Lev3/metadata.json\n",
      "Found the following files to load from the SXS catalog:\n",
      "    SXS:BBH:0204v5/Lev3/rhOverM_Asymptotic_GeometricUnits_CoM.h5\n",
      "Downloading to /data/rvnd2-2/SXS_data/SXS:BBH:0204v2/Lev3/rhOverM_Asymptotic_GeometricUnits_CoM.h5:\n"
     ]
    },
    {
     "data": {
      "application/vnd.jupyter.widget-view+json": {
       "model_id": "3976f30a2c664aa4aea3719331b732a3",
       "version_major": 2,
       "version_minor": 0
      },
      "text/plain": [
       "  0%|          | 0/234383520 [00:00<?, ?it/s]"
      ]
     },
     "metadata": {},
     "output_type": "display_data"
    },
    {
     "name": "stdout",
     "output_type": "stream",
     "text": [
      "Found the following files to load from the SXS catalog:\n",
      "    SXS:BBH:0206v5/Lev3/metadata.json\n",
      "Found the following files to load from the SXS catalog:\n",
      "    SXS:BBH:0206v5/Lev3/rhOverM_Asymptotic_GeometricUnits_CoM.h5\n",
      "Downloading to /data/rvnd2-2/SXS_data/SXS:BBH:0206v2/Lev3/rhOverM_Asymptotic_GeometricUnits_CoM.h5:\n"
     ]
    },
    {
     "data": {
      "application/vnd.jupyter.widget-view+json": {
       "model_id": "52e40682df184da88ac6dfbbd7736b98",
       "version_major": 2,
       "version_minor": 0
      },
      "text/plain": [
       "  0%|          | 0/200550463 [00:00<?, ?it/s]"
      ]
     },
     "metadata": {},
     "output_type": "display_data"
    },
    {
     "name": "stdout",
     "output_type": "stream",
     "text": [
      "Found the following files to load from the SXS catalog:\n",
      "    SXS:BBH:0203v5/Lev3/metadata.json\n",
      "Found the following files to load from the SXS catalog:\n",
      "    SXS:BBH:0203v5/Lev3/rhOverM_Asymptotic_GeometricUnits_CoM.h5\n",
      "Downloading to /data/rvnd2-2/SXS_data/SXS:BBH:0203v2/Lev3/rhOverM_Asymptotic_GeometricUnits_CoM.h5:\n"
     ]
    },
    {
     "data": {
      "application/vnd.jupyter.widget-view+json": {
       "model_id": "a8d37f9f28d94d32a8bdce2bdc443481",
       "version_major": 2,
       "version_minor": 0
      },
      "text/plain": [
       "  0%|          | 0/173556121 [00:00<?, ?it/s]"
      ]
     },
     "metadata": {},
     "output_type": "display_data"
    },
    {
     "name": "stdout",
     "output_type": "stream",
     "text": [
      "Found the following files to load from the SXS catalog:\n",
      "    SXS:BBH:0299v5/Lev5/metadata.json\n",
      "Found the following files to load from the SXS catalog:\n",
      "    SXS:BBH:0299v5/Lev5/rhOverM_Asymptotic_GeometricUnits_CoM.h5\n",
      "Downloading to /data/rvnd2-2/SXS_data/SXS:BBH:0299v2/Lev5/rhOverM_Asymptotic_GeometricUnits_CoM.h5:\n"
     ]
    },
    {
     "data": {
      "application/vnd.jupyter.widget-view+json": {
       "model_id": "acc3856acc64448bb6c490e3902298f9",
       "version_major": 2,
       "version_minor": 0
      },
      "text/plain": [
       "  0%|          | 0/88604013 [00:00<?, ?it/s]"
      ]
     },
     "metadata": {},
     "output_type": "display_data"
    },
    {
     "name": "stdout",
     "output_type": "stream",
     "text": [
      "Found the following files to load from the SXS catalog:\n",
      "    SXS:BBH:0063v5/Lev5/metadata.json\n",
      "Found the following files to load from the SXS catalog:\n",
      "    SXS:BBH:0063v5/Lev5/rhOverM_Asymptotic_GeometricUnits_CoM.h5\n",
      "Downloading to /data/rvnd2-2/SXS_data/SXS:BBH:0063v2/Lev5/rhOverM_Asymptotic_GeometricUnits_CoM.h5:\n"
     ]
    },
    {
     "data": {
      "application/vnd.jupyter.widget-view+json": {
       "model_id": "50a6a1b251cb4417a42931c2633fd398",
       "version_major": 2,
       "version_minor": 0
      },
      "text/plain": [
       "  0%|          | 0/107254624 [00:00<?, ?it/s]"
      ]
     },
     "metadata": {},
     "output_type": "display_data"
    },
    {
     "name": "stdout",
     "output_type": "stream",
     "text": [
      "Found the following files to load from the SXS catalog:\n",
      "    SXS:BBH:0065v5/Lev4/metadata.json\n",
      "Found the following files to load from the SXS catalog:\n",
      "    SXS:BBH:0065v5/Lev4/rhOverM_Asymptotic_GeometricUnits_CoM.h5\n",
      "Downloading to /data/rvnd2-2/SXS_data/SXS:BBH:0065v2/Lev4/rhOverM_Asymptotic_GeometricUnits_CoM.h5:\n"
     ]
    },
    {
     "data": {
      "application/vnd.jupyter.widget-view+json": {
       "model_id": "9f03d1aad0d349568437ae5dc829ba2c",
       "version_major": 2,
       "version_minor": 0
      },
      "text/plain": [
       "  0%|          | 0/129951550 [00:00<?, ?it/s]"
      ]
     },
     "metadata": {},
     "output_type": "display_data"
    },
    {
     "name": "stdout",
     "output_type": "stream",
     "text": [
      "Found the following files to load from the SXS catalog:\n",
      "    SXS:BBH:0064v5/Lev5/metadata.json\n",
      "Found the following files to load from the SXS catalog:\n",
      "    SXS:BBH:0064v5/Lev5/rhOverM_Asymptotic_GeometricUnits_CoM.h5\n",
      "Downloading to /data/rvnd2-2/SXS_data/SXS:BBH:0064v2/Lev5/rhOverM_Asymptotic_GeometricUnits_CoM.h5:\n"
     ]
    },
    {
     "data": {
      "application/vnd.jupyter.widget-view+json": {
       "model_id": "f21280293fa7488ca03db740a19e600c",
       "version_major": 2,
       "version_minor": 0
      },
      "text/plain": [
       "  0%|          | 0/91492630 [00:00<?, ?it/s]"
      ]
     },
     "metadata": {},
     "output_type": "display_data"
    },
    {
     "name": "stdout",
     "output_type": "stream",
     "text": [
      "Found the following files to load from the SXS catalog:\n",
      "    SXS:BBH:0300v5/Lev5/metadata.json\n",
      "Found the following files to load from the SXS catalog:\n",
      "    SXS:BBH:0300v5/Lev5/rhOverM_Asymptotic_GeometricUnits_CoM.h5\n",
      "Downloading to /data/rvnd2-2/SXS_data/SXS:BBH:0300v2/Lev5/rhOverM_Asymptotic_GeometricUnits_CoM.h5:\n"
     ]
    },
    {
     "data": {
      "application/vnd.jupyter.widget-view+json": {
       "model_id": "c23c3c5f5176469cb150d9c7df900012",
       "version_major": 2,
       "version_minor": 0
      },
      "text/plain": [
       "  0%|          | 0/86128294 [00:00<?, ?it/s]"
      ]
     },
     "metadata": {},
     "output_type": "display_data"
    },
    {
     "name": "stdout",
     "output_type": "stream",
     "text": [
      "Found the following files to load from the SXS catalog:\n",
      "    SXS:BBH:0301v5/Lev5/metadata.json\n",
      "Found the following files to load from the SXS catalog:\n",
      "    SXS:BBH:0301v5/Lev5/rhOverM_Asymptotic_GeometricUnits_CoM.h5\n",
      "Downloading to /data/rvnd2-2/SXS_data/SXS:BBH:0301v2/Lev5/rhOverM_Asymptotic_GeometricUnits_CoM.h5:\n"
     ]
    },
    {
     "data": {
      "application/vnd.jupyter.widget-view+json": {
       "model_id": "c5d93ef0a4584054ad9090e3822e620f",
       "version_major": 2,
       "version_minor": 0
      },
      "text/plain": [
       "  0%|          | 0/86793118 [00:00<?, ?it/s]"
      ]
     },
     "metadata": {},
     "output_type": "display_data"
    },
    {
     "name": "stdout",
     "output_type": "stream",
     "text": [
      "Found the following files to load from the SXS catalog:\n",
      "    SXS:BBH:0302v5/Lev5/metadata.json\n",
      "Found the following files to load from the SXS catalog:\n",
      "    SXS:BBH:0302v5/Lev5/rhOverM_Asymptotic_GeometricUnits_CoM.h5\n",
      "Downloading to /data/rvnd2-2/SXS_data/SXS:BBH:0302v2/Lev5/rhOverM_Asymptotic_GeometricUnits_CoM.h5:\n"
     ]
    },
    {
     "data": {
      "application/vnd.jupyter.widget-view+json": {
       "model_id": "d383e44a47d84f04ac0667908a9614a7",
       "version_major": 2,
       "version_minor": 0
      },
      "text/plain": [
       "  0%|          | 0/87058751 [00:00<?, ?it/s]"
      ]
     },
     "metadata": {},
     "output_type": "display_data"
    },
    {
     "name": "stdout",
     "output_type": "stream",
     "text": [
      "Found the following files to load from the SXS catalog:\n",
      "    SXS:BBH:0303v5/Lev5/metadata.json\n",
      "Found the following files to load from the SXS catalog:\n",
      "    SXS:BBH:0303v5/Lev5/rhOverM_Asymptotic_GeometricUnits_CoM.h5\n",
      "Downloading to /data/rvnd2-2/SXS_data/SXS:BBH:0303v2/Lev5/rhOverM_Asymptotic_GeometricUnits_CoM.h5:\n"
     ]
    },
    {
     "data": {
      "application/vnd.jupyter.widget-view+json": {
       "model_id": "8993424ecee54c659423a2e381391cd7",
       "version_major": 2,
       "version_minor": 0
      },
      "text/plain": [
       "  0%|          | 0/87505958 [00:00<?, ?it/s]"
      ]
     },
     "metadata": {},
     "output_type": "display_data"
    }
   ],
   "source": [
    "with open(\"waveforms_used.txt\", \"r\") as file:\n",
    "    waveform_ids = file.readlines()\n",
    "waveform_ids = [line.strip() for line in waveform_ids]\n",
    "waveform_ids = [wf.split(':')[-1][-4:] for wf in waveform_ids]\n",
    "\n",
    "sims = {}\n",
    "for wf in waveform_ids:\n",
    "    try:\n",
    "        sims[wf] = qnmfits.SXS(ID=wf, zero_time=(2,2))\n",
    "    except Exception as e:\n",
    "        print(f\"Error processing waveform ID {wf}: {e}\")"
   ]
  },
  {
   "cell_type": "code",
   "execution_count": 4,
   "metadata": {},
   "outputs": [],
   "source": [
    "C_ratio_33_list = []\n",
    "C_phase_diff_33_list = []\n",
    "\n",
    "C_ratio_21_list = []\n",
    "C_phase_diff_21_list = []\n",
    "\n",
    "C_ratio_44_list = []\n",
    "C_phase_diff_44_list = []"
   ]
  },
  {
   "cell_type": "code",
   "execution_count": 5,
   "metadata": {},
   "outputs": [],
   "source": [
    "for sim in sims.values():\n",
    "\n",
    "    best_fit = qnmfits.ringdown_fit(\n",
    "        sim.times,\n",
    "        sim.h[2,2],\n",
    "        [(2,2,0,1)],\n",
    "        Mf=sim.Mf,\n",
    "        chif=sim.chif_mag,\n",
    "        t0=0\n",
    "    )\n",
    "\n",
    "    C_mag_22 = np.sqrt(best_fit['C'][0].real**2 + best_fit['C'][0].imag**2)\n",
    "    C_phase_22 = np.arctan2(best_fit['C'][0].imag, best_fit['C'][0].real)\n",
    "\n",
    "    best_fit = qnmfits.ringdown_fit(\n",
    "        sim.times,\n",
    "        sim.h[3,3],\n",
    "        [(3,3,0,1)],\n",
    "        Mf=sim.Mf,\n",
    "        chif=sim.chif_mag,\n",
    "        t0=0\n",
    "    )\n",
    "\n",
    "    C_mag_33 = np.sqrt(best_fit['C'][0].real**2 + best_fit['C'][0].imag**2)\n",
    "    C_phase_33 = np.arctan2(best_fit['C'][0].imag, best_fit['C'][0].real)\n",
    "\n",
    "    best_fit = qnmfits.ringdown_fit(\n",
    "        sim.times,\n",
    "        sim.h[2,1],\n",
    "        [(2,1,0,1)],\n",
    "        Mf=sim.Mf,\n",
    "        chif=sim.chif_mag,\n",
    "        t0=0\n",
    "    )\n",
    "\n",
    "    C_mag_21 = np.sqrt(best_fit['C'][0].real**2 + best_fit['C'][0].imag**2)\n",
    "    C_phase_21 = np.arctan2(best_fit['C'][0].imag, best_fit['C'][0].real)\n",
    "\n",
    "    best_fit = qnmfits.ringdown_fit(\n",
    "        sim.times,\n",
    "        sim.h[4,4],\n",
    "        [(4,4,0,1)],\n",
    "        Mf=sim.Mf,\n",
    "        chif=sim.chif_mag,\n",
    "        t0=0\n",
    "    )\n",
    "\n",
    "    C_mag_44 = np.sqrt(best_fit['C'][0].real**2 + best_fit['C'][0].imag**2)\n",
    "    C_phase_44 = np.arctan2(best_fit['C'][0].imag, best_fit['C'][0].real)\n",
    "\n",
    "    ### \n",
    "\n",
    "    C_ratio_33 = C_mag_33 / C_mag_22\n",
    "    C_phase_diff_33 = (3/2)*C_phase_22 - C_phase_33\n",
    "\n",
    "    C_ratio_33_list.append(C_ratio_33)\n",
    "    C_phase_diff_33_list.append(C_phase_diff_33)\n",
    "\n",
    "    C_ratio_21 = C_mag_21 / C_mag_22\n",
    "    C_phase_diff_21 = (1/2)*C_phase_22 - C_phase_21\n",
    "\n",
    "    C_ratio_21_list.append(C_ratio_21)\n",
    "    C_phase_diff_21_list.append(C_phase_diff_21)\n",
    "\n",
    "    C_ratio_44 = C_mag_44 / C_mag_22\n",
    "    C_phase_diff_44 = (4/2)*C_phase_22 - C_phase_44\n",
    "\n",
    "    C_ratio_44_list.append(C_ratio_44)\n",
    "    C_phase_diff_44_list.append(C_phase_diff_44)"
   ]
  },
  {
   "cell_type": "code",
   "execution_count": 6,
   "metadata": {},
   "outputs": [
    {
     "name": "stderr",
     "output_type": "stream",
     "text": [
      "/tmp/ipykernel_2153069/3617562546.py:18: UserWarning: No artists with labels found to put in legend.  Note that artists whose label start with an underscore are ignored when legend() is called with no argument.\n",
      "  ax.legend()\n"
     ]
    },
    {
     "data": {
      "image/png": "[encoded data removed]",
      "text/plain": [
       "<Figure size 640x480 with 1 Axes>"
      ]
     },
     "metadata": {},
     "output_type": "display_data"
    }
   ],
   "source": [
    "fig, ax = plt.subplots()\n",
    "\n",
    "for i, wf in enumerate(sims.keys()):\n",
    "    ax.plot(C_ratio_33_list[i], np.mod(C_phase_diff_33_list[i], np.pi), 'o', markersize=4, color='red')\n",
    "    ax.plot(C_ratio_33_list[i], np.mod(C_phase_diff_33_list[i], np.pi) + 2*np.pi, 'o', markersize=4, color='red')\n",
    "    ax.plot(C_ratio_21_list[i], np.mod(C_phase_diff_21_list[i], np.pi), 'o', markersize=4, color='green')\n",
    "    ax.plot(C_ratio_21_list[i], np.mod(C_phase_diff_21_list[i], np.pi) + 2*np.pi, 'o', markersize=4, color='green')\n",
    "    ax.plot(C_ratio_44_list[i], np.mod(C_phase_diff_44_list[i], 2*np.pi), 'o', markersize=4, color='orange')\n",
    "    ax.plot(C_ratio_44_list[i], np.mod(C_phase_diff_44_list[i], 2*np.pi) + 2*np.pi, 'o', markersize=4, color='orange')\n",
    "\n",
    "ax.set_xlabel(r\"$A_{\\ell m n}^R$\")\n",
    "ax.set_ylabel(r\"$\\delta \\phi_{\\ell m n}$\")\n",
    "#ax.set_xlim(0, 0.8) \n",
    "ax.set_ylim(0, 2*np.pi)\n",
    "\n",
    "ax.set_xlim(left=0)\n",
    "\n",
    "ax.legend() \n",
    "plt.show()"
   ]
  }
 ],
 "metadata": {
  "kernelspec": {
   "display_name": "Python 3",
   "language": "python",
   "name": "python3"
  },
  "language_info": {
   "codemirror_mode": {
    "name": "ipython",
    "version": 3
   },
   "file_extension": ".py",
   "mimetype": "text/x-python",
   "name": "python",
   "nbconvert_exporter": "python",
   "pygments_lexer": "ipython3",
   "version": "3.11.4"
  }
 },
 "nbformat": 4,
 "nbformat_minor": 2
}
