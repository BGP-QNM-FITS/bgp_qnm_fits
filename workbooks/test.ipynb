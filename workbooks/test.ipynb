{
 "cells": [
  {
   "cell_type": "code",
   "execution_count": 1,
   "id": "0beef796",
   "metadata": {},
   "outputs": [],
   "source": [
    "import qnmfits\n",
    "import numpy as np\n",
    "import scipy\n",
    "import corner\n",
    "import matplotlib.pyplot as plt\n",
    "import seaborn as sns\n",
    "import pandas as pd\n",
    "import sys\n",
    "from pathlib import Path\n",
    "\n",
    "from GP_funcs_new import kernel_main_new\n",
    "\n",
    "notebook_dir = Path().resolve()\n",
    "sys.path.append(str(notebook_dir.parent))\n",
    "\n",
    "notebook_dir = Path().resolve()\n",
    "data_dir = notebook_dir.parent / \"data\"\n",
    "\n",
    "from matplotlib.colors import to_hex\n",
    "from matplotlib.lines import Line2D\n",
    "from matplotlib.colors import LinearSegmentedColormap\n",
    "from qnmfits.spatial_mapping_functions import * \n",
    "from bayes_qnm_GP_likelihood import *\n",
    "from bayes_qnm_GP_likelihood.BGP_fits import BGP_fit\n",
    "from mpl_toolkits.axes_grid1.inset_locator import inset_axes"
   ]
  },
  {
   "cell_type": "code",
   "execution_count": 2,
   "id": "4f1e59c9",
   "metadata": {},
   "outputs": [],
   "source": [
    "with open(data_dir / \"param_dict_sim_lm_full.pkl\", \"rb\") as f:\n",
    "    param_dict_sim_lm = pickle.load(f)\n",
    "with open(data_dir / \"R_dict_sim_lm_full.pkl\", \"rb\") as f:\n",
    "    R_sim_lm = pickle.load(f)"
   ]
  },
  {
   "cell_type": "code",
   "execution_count": 3,
   "id": "fa3b47c5",
   "metadata": {},
   "outputs": [],
   "source": [
    "sim_id = \"0001\"\n",
    "mode = (2,2)\n",
    "\n",
    "TRAINING_START_TIME = -10\n",
    "TRAINING_END_TIME = 100\n",
    "TIME_STEP = 0.1\n",
    "\n",
    "hyperparam_list = [1.0, 0.0, 1.0, 1.0]\n",
    "\n",
    "rule_dict = {\n",
    "    \"sigma_max\": \"multiply\",\n",
    "    \"t_s\": \"sum\",\n",
    "    \"length_scale\": \"multiply\",\n",
    "    \"period\": \"multiply\",\n",
    "}\n",
    "\n",
    "analysis_times = np.arange(\n",
    "        TRAINING_START_TIME,\n",
    "        TRAINING_START_TIME + TRAINING_END_TIME,\n",
    "        TIME_STEP\n",
    "    )"
   ]
  },
  {
   "cell_type": "code",
   "execution_count": 4,
   "id": "a21e890a",
   "metadata": {},
   "outputs": [
    {
     "name": "stdout",
     "output_type": "stream",
     "text": [
      "[[1.74996070e-06 1.74989271e-06 1.74968905e-06 ... 3.12233462e-24\n",
      "  2.88977948e-24 2.67433780e-24]\n",
      " [1.74989271e-06 1.74996070e-06 1.74989271e-06 ... 3.37334287e-24\n",
      "  3.12233462e-24 2.88977948e-24]\n",
      " [1.74968905e-06 1.74989271e-06 1.74996070e-06 ... 3.64424720e-24\n",
      "  3.37334287e-24 3.12233462e-24]\n",
      " ...\n",
      " [3.12233462e-24 3.37334287e-24 3.64424720e-24 ... 1.74997060e-08\n",
      "  1.74989271e-08 1.74968905e-08]\n",
      " [2.88977948e-24 3.12233462e-24 3.37334287e-24 ... 1.74989271e-08\n",
      "  1.74997060e-08 1.74989271e-08]\n",
      " [2.67433780e-24 2.88977948e-24 3.12233462e-24 ... 1.74968905e-08\n",
      "  1.74989271e-08 1.74997060e-08]]\n"
     ]
    }
   ],
   "source": [
    "param_dict = param_dict_sim_lm[sim_id][mode]\n",
    "new_param_dict = get_new_params(param_dict, hyperparam_list, rule_dict)\n",
    "K = compute_kernel_matrix(analysis_times, new_param_dict, kernel_main_old)\n",
    "\n",
    "print(K)"
   ]
  },
  {
   "cell_type": "code",
   "execution_count": 5,
   "id": "ace855ef",
   "metadata": {},
   "outputs": [
    {
     "name": "stderr",
     "output_type": "stream",
     "text": [
      "WARNING:jax._src.xla_bridge:An NVIDIA GPU may be present on this machine, but a CUDA-enabled jaxlib is not installed. Falling back to cpu.\n"
     ]
    },
    {
     "name": "stdout",
     "output_type": "stream",
     "text": [
      "[[1.74996070e-06 1.74989271e-06 1.74968905e-06 ... 3.12233462e-24\n",
      "  2.88977948e-24 2.67433780e-24]\n",
      " [1.74989271e-06 1.74996070e-06 1.74989271e-06 ... 3.37334287e-24\n",
      "  3.12233462e-24 2.88977948e-24]\n",
      " [1.74968905e-06 1.74989271e-06 1.74996070e-06 ... 3.64424720e-24\n",
      "  3.37334287e-24 3.12233462e-24]\n",
      " ...\n",
      " [3.12233462e-24 3.37334287e-24 3.64424720e-24 ... 1.74997060e-08\n",
      "  1.74989271e-08 1.74968905e-08]\n",
      " [2.88977948e-24 3.12233462e-24 3.37334287e-24 ... 1.74989271e-08\n",
      "  1.74997060e-08 1.74989271e-08]\n",
      " [2.67433780e-24 2.88977948e-24 3.12233462e-24 ... 1.74968905e-08\n",
      "  1.74989271e-08 1.74997060e-08]]\n"
     ]
    }
   ],
   "source": [
    "param_dict = param_dict_sim_lm[sim_id][mode]\n",
    "new_param_dict = get_new_params(param_dict, hyperparam_list, rule_dict)\n",
    "K = compute_kernel_matrix(analysis_times, new_param_dict, kernel_main_new)\n",
    "\n",
    "print(K)"
   ]
  }
 ],
 "metadata": {
  "kernelspec": {
   "display_name": "Python 3",
   "language": "python",
   "name": "python3"
  },
  "language_info": {
   "codemirror_mode": {
    "name": "ipython",
    "version": 3
   },
   "file_extension": ".py",
   "mimetype": "text/x-python",
   "name": "python",
   "nbconvert_exporter": "python",
   "pygments_lexer": "ipython3",
   "version": "3.11.4"
  }
 },
 "nbformat": 4,
 "nbformat_minor": 5
}
