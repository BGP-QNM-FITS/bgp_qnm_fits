{
 "cells": [
  {
   "cell_type": "code",
   "execution_count": null,
   "metadata": {},
   "outputs": [],
   "source": [
    "import numpy as np\n",
    "from scipy.linalg import cholesky\n",
    "from funcs.likelihood_funcs import *\n",
    "from funcs.GP_funcs import *\n",
    "from funcs.utils import *\n",
    "from funcs.kernel_param_funcs import *\n",
    "from funcs.CCE import * "
   ]
  },
  {
   "cell_type": "code",
   "execution_count": null,
   "metadata": {},
   "outputs": [],
   "source": [
    "id = \"0001\"\n",
    "\n",
    "sim_main = CCE.SXS_CCE(id, lev=\"Lev5\", radius=\"R2\")\n",
    "\n",
    "n_max = 6\n",
    "\n",
    "T0 = 0\n",
    "T = 100\n",
    "\n",
    "qnm_list = [(2,2,0,1)]\n",
    "spherical_modes = [(2, 2)]\n",
    "spherical_mode = (2, 2)\n",
    "\n",
    "chif_mag_0 = sim_main.chif_mag\n",
    "Mf_0 = sim_main.Mf"
   ]
  },
  {
   "cell_type": "code",
   "execution_count": null,
   "metadata": {},
   "outputs": [],
   "source": [
    "# This is just for the white noise kernel because I don't auto generate a file \n",
    "\n",
    "with open('param_dict_sim_lm_full.pkl', 'rb') as f:\n",
    "    param_dict_sim_lm = pickle.load(f)\n",
    "\n",
    "tuning_hyperparams_s = [0.3996582031249995]  \n",
    "\n",
    "hyperparam_rule_dict_s = {\n",
    "    \"sigma_max\": \"multiply\",\n",
    "}\n",
    "\n",
    "tuned_param_dict_s = {mode: get_new_params(param_dict_sim_lm[id][mode], tuning_hyperparams_s, hyperparam_rule_dict_s) for mode in param_dict_sim_lm[id]}"
   ]
  },
  {
   "cell_type": "code",
   "execution_count": null,
   "metadata": {},
   "outputs": [],
   "source": [
    "ls_fit = qnmfits.ringdown_fit(\n",
    "    sim_main.times,\n",
    "    sim_main.h[spherical_mode],\n",
    "    modes=qnm_list,\n",
    "    Mf=Mf_0,\n",
    "    chif=chif_mag_0,\n",
    "    t0=T0,\n",
    "    T=T,\n",
    ")\n",
    "\n",
    "print(ls_fit[\"C\"])"
   ]
  },
  {
   "cell_type": "code",
   "execution_count": null,
   "metadata": {},
   "outputs": [],
   "source": [
    "fit = qnm_BGP_fit(sim_main.times, sim_main.h, qnm_list, Mf_0, chif_mag_0, T0, tuned_param_dict_s, kernel_s, T=T, spherical_modes=spherical_modes)\n",
    "\n",
    "print(fit[\"C\"])"
   ]
  }
 ],
 "metadata": {
  "kernelspec": {
   "display_name": "Python 3",
   "language": "python",
   "name": "python3"
  },
  "language_info": {
   "name": "python",
   "version": "3.11.4"
  }
 },
 "nbformat": 4,
 "nbformat_minor": 2
}
