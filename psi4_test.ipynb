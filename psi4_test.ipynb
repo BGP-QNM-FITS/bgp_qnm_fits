{
 "cells": [
  {
   "cell_type": "markdown",
   "id": "3c3e0960",
   "metadata": {},
   "source": [
    "This is to test psi4 vs the strain"
   ]
  },
  {
   "cell_type": "code",
   "execution_count": 2,
   "id": "cf0bf3cf",
   "metadata": {},
   "outputs": [],
   "source": [
    "import pickle \n",
    "import json"
   ]
  },
  {
   "cell_type": "code",
   "execution_count": null,
   "id": "25d9cf99",
   "metadata": {},
   "outputs": [],
   "source": [
    "filepath  = '/data/rvnd2-2/CCE_data/"
   ]
  },
  {
   "cell_type": "code",
   "execution_count": 5,
   "id": "309fbf9b",
   "metadata": {},
   "outputs": [],
   "source": [
    "filenum = '0001'\n",
    "rssname = 'R2'\n",
    "lev = \"Lev5\""
   ]
  },
  {
   "cell_type": "code",
   "execution_count": 6,
   "id": "c4da5a71",
   "metadata": {},
   "outputs": [
    {
     "ename": "FileNotFoundError",
     "evalue": "[Errno 2] No such file or directory: '/data/rvnd2-2/CCE_data/superrest_data/superrest_data_test/SXS:BBH_ExtCCE_superrest:0001/SXS:BBH_ExtCCE_superrest:0001_Lev5_R2_h.pickle'",
     "output_type": "error",
     "traceback": [
      "\u001b[0;31m---------------------------------------------------------------------------\u001b[0m",
      "\u001b[0;31mFileNotFoundError\u001b[0m                         Traceback (most recent call last)",
      "Cell \u001b[0;32mIn[6], line 1\u001b[0m\n\u001b[0;32m----> 1\u001b[0m \u001b[38;5;28;01mwith\u001b[39;00m \u001b[38;5;28;43mopen\u001b[39;49m\u001b[43m(\u001b[49m\u001b[38;5;124;43mf\u001b[39;49m\u001b[38;5;124;43m'\u001b[39;49m\u001b[38;5;132;43;01m{\u001b[39;49;00m\u001b[43mfilepath\u001b[49m\u001b[38;5;132;43;01m}\u001b[39;49;00m\u001b[38;5;124;43m/superrest_data_test/SXS:BBH_ExtCCE_superrest:\u001b[39;49m\u001b[38;5;132;43;01m{\u001b[39;49;00m\u001b[43mfilenum\u001b[49m\u001b[38;5;132;43;01m}\u001b[39;49;00m\u001b[38;5;124;43m/SXS:BBH_ExtCCE_superrest:\u001b[39;49m\u001b[38;5;132;43;01m{\u001b[39;49;00m\u001b[43mfilenum\u001b[49m\u001b[38;5;132;43;01m}\u001b[39;49;00m\u001b[38;5;124;43m_\u001b[39;49m\u001b[38;5;132;43;01m{\u001b[39;49;00m\u001b[43mlev\u001b[49m\u001b[38;5;132;43;01m}\u001b[39;49;00m\u001b[38;5;124;43m_\u001b[39;49m\u001b[38;5;132;43;01m{\u001b[39;49;00m\u001b[43mrssname\u001b[49m\u001b[38;5;132;43;01m}\u001b[39;49;00m\u001b[38;5;124;43m_h.pickle\u001b[39;49m\u001b[38;5;124;43m'\u001b[39;49m\u001b[43m,\u001b[49m\u001b[43m \u001b[49m\u001b[38;5;124;43m'\u001b[39;49m\u001b[38;5;124;43mrb\u001b[39;49m\u001b[38;5;124;43m'\u001b[39;49m\u001b[43m)\u001b[49m \u001b[38;5;28;01mas\u001b[39;00m f:\n\u001b[1;32m      2\u001b[0m     h_dict \u001b[38;5;241m=\u001b[39m pickle\u001b[38;5;241m.\u001b[39mload(f)\n\u001b[1;32m      4\u001b[0m \u001b[38;5;28;01mwith\u001b[39;00m \u001b[38;5;28mopen\u001b[39m(\u001b[38;5;124mf\u001b[39m\u001b[38;5;124m'\u001b[39m\u001b[38;5;132;01m{\u001b[39;00mfilepath\u001b[38;5;132;01m}\u001b[39;00m\u001b[38;5;124m/superrest_data_test/SXS:BBH_ExtCCE_superrest:\u001b[39m\u001b[38;5;132;01m{\u001b[39;00mfilenum\u001b[38;5;132;01m}\u001b[39;00m\u001b[38;5;124m/SXS:BBH_ExtCCE_superrest:\u001b[39m\u001b[38;5;132;01m{\u001b[39;00mfilenum\u001b[38;5;132;01m}\u001b[39;00m\u001b[38;5;124m_\u001b[39m\u001b[38;5;132;01m{\u001b[39;00mlev\u001b[38;5;132;01m}\u001b[39;00m\u001b[38;5;124m_\u001b[39m\u001b[38;5;132;01m{\u001b[39;00mrssname\u001b[38;5;132;01m}\u001b[39;00m\u001b[38;5;124m_news.pickle\u001b[39m\u001b[38;5;124m'\u001b[39m, \u001b[38;5;124m'\u001b[39m\u001b[38;5;124mrb\u001b[39m\u001b[38;5;124m'\u001b[39m) \u001b[38;5;28;01mas\u001b[39;00m f:\n",
      "File \u001b[0;32m/data/vault/rvnd2/python_envs/venv/lib/python3.11/site-packages/IPython/core/interactiveshell.py:324\u001b[0m, in \u001b[0;36m_modified_open\u001b[0;34m(file, *args, **kwargs)\u001b[0m\n\u001b[1;32m    317\u001b[0m \u001b[38;5;28;01mif\u001b[39;00m file \u001b[38;5;129;01min\u001b[39;00m {\u001b[38;5;241m0\u001b[39m, \u001b[38;5;241m1\u001b[39m, \u001b[38;5;241m2\u001b[39m}:\n\u001b[1;32m    318\u001b[0m     \u001b[38;5;28;01mraise\u001b[39;00m \u001b[38;5;167;01mValueError\u001b[39;00m(\n\u001b[1;32m    319\u001b[0m         \u001b[38;5;124mf\u001b[39m\u001b[38;5;124m\"\u001b[39m\u001b[38;5;124mIPython won\u001b[39m\u001b[38;5;124m'\u001b[39m\u001b[38;5;124mt let you open fd=\u001b[39m\u001b[38;5;132;01m{\u001b[39;00mfile\u001b[38;5;132;01m}\u001b[39;00m\u001b[38;5;124m by default \u001b[39m\u001b[38;5;124m\"\u001b[39m\n\u001b[1;32m    320\u001b[0m         \u001b[38;5;124m\"\u001b[39m\u001b[38;5;124mas it is likely to crash IPython. If you know what you are doing, \u001b[39m\u001b[38;5;124m\"\u001b[39m\n\u001b[1;32m    321\u001b[0m         \u001b[38;5;124m\"\u001b[39m\u001b[38;5;124myou can use builtins\u001b[39m\u001b[38;5;124m'\u001b[39m\u001b[38;5;124m open.\u001b[39m\u001b[38;5;124m\"\u001b[39m\n\u001b[1;32m    322\u001b[0m     )\n\u001b[0;32m--> 324\u001b[0m \u001b[38;5;28;01mreturn\u001b[39;00m \u001b[43mio_open\u001b[49m\u001b[43m(\u001b[49m\u001b[43mfile\u001b[49m\u001b[43m,\u001b[49m\u001b[43m \u001b[49m\u001b[38;5;241;43m*\u001b[39;49m\u001b[43margs\u001b[49m\u001b[43m,\u001b[49m\u001b[43m \u001b[49m\u001b[38;5;241;43m*\u001b[39;49m\u001b[38;5;241;43m*\u001b[39;49m\u001b[43mkwargs\u001b[49m\u001b[43m)\u001b[49m\n",
      "\u001b[0;31mFileNotFoundError\u001b[0m: [Errno 2] No such file or directory: '/data/rvnd2-2/CCE_data/superrest_data/superrest_data_test/SXS:BBH_ExtCCE_superrest:0001/SXS:BBH_ExtCCE_superrest:0001_Lev5_R2_h.pickle'"
     ]
    }
   ],
   "source": [
    "with open(f'{filepath}/superrest_data_test/SXS:BBH_ExtCCE_superrest:{filenum}/SXS:BBH_ExtCCE_superrest:{filenum}_{lev}_{rssname}_h.pickle', 'rb') as f:\n",
    "    h_dict = pickle.load(f)\n",
    "\n",
    "with open(f'{filepath}/superrest_data_test/SXS:BBH_ExtCCE_superrest:{filenum}/SXS:BBH_ExtCCE_superrest:{filenum}_{lev}_{rssname}_news.pickle', 'rb') as f:\n",
    "    news_dict = pickle.load(f)\n",
    "\n",
    "with open(f'{filepath}/superrest_data_test/SXS:BBH_ExtCCE_superrest:{filenum}/SXS:BBH_ExtCCE_superrest:{filenum}_{lev}_{rssname}_psi4.pickle', 'rb') as f:\n",
    "    psi_4_dict = pickle.load(f)\n",
    "\n",
    "with open(f'{filepath}/superrest_data_test/SXS:BBH_ExtCCE_superrest:{filenum}/SXS:BBH_ExtCCE_superrest:{filenum}_{lev}_{rssname}_h_pre.pickle', 'rb') as f:\n",
    "    h_dict_pre = pickle.load(f)\n",
    "\n",
    "with open(f'{filepath}/superrest_data_test/SXS:BBH_ExtCCE_superrest:{filenum}/SXS:BBH_ExtCCE_superrest:{filenum}_{lev}_{rssname}_news_pre.pickle', 'rb') as f:\n",
    "    news_dict_pre = pickle.load(f)\n",
    "\n",
    "with open(f'{filepath}/superrest_data_test/SXS:BBH_ExtCCE_superrest:{filenum}/SXS:BBH_ExtCCE_superrest:{filenum}_{lev}_{rssname}_psi4_pre.pickle', 'rb') as f:\n",
    "    psi_4_dict_pre = pickle.load(f)\n",
    "\n",
    "with open(f'{filepath}/superrest_data_test/SXS:BBH_ExtCCE_superrest:{filenum}/SXS:BBH_ExtCCE_superrest:{filenum}_{lev}_{rssname}_metadata.json', 'r') as f:\n",
    "    metadata = json.load(f)"
   ]
  }
 ],
 "metadata": {
  "kernelspec": {
   "display_name": "Python 3",
   "language": "python",
   "name": "python3"
  },
  "language_info": {
   "codemirror_mode": {
    "name": "ipython",
    "version": 3
   },
   "file_extension": ".py",
   "mimetype": "text/x-python",
   "name": "python",
   "nbconvert_exporter": "python",
   "pygments_lexer": "ipython3",
   "version": "3.11.4"
  }
 },
 "nbformat": 4,
 "nbformat_minor": 5
}
