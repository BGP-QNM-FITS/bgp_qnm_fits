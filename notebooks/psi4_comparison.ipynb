{
 "cells": [
  {
   "cell_type": "markdown",
   "id": "148d25f5",
   "metadata": {},
   "source": [
    "This workbook compares the residual on psi_4 and h. "
   ]
  },
  {
   "cell_type": "code",
   "execution_count": 1,
   "id": "7e354a40",
   "metadata": {},
   "outputs": [],
   "source": [
    "import numpy as np\n",
    "import sys\n",
    "from pathlib import Path\n",
    "notebook_dir = Path().resolve()\n",
    "sys.path.append(str(notebook_dir.parent))\n",
    "from bayes_qnm_GP_likelihood.CCE_RD import *\n",
    "from bayes_qnm_GP_likelihood.likelihood_funcs import *\n",
    "from bayes_qnm_GP_likelihood.GP_funcs import *\n",
    "from bayes_qnm_GP_likelihood.utils import *\n",
    "from bayes_qnm_GP_likelihood.kernel_param_funcs import *\n",
    "import pickle\n",
    "import matplotlib.pyplot as plt"
   ]
  },
  {
   "cell_type": "code",
   "execution_count": 2,
   "id": "78a13c0f",
   "metadata": {},
   "outputs": [],
   "source": [
    "ID = '0001'\n",
    "\n",
    "TRAINING_START_TIME = -10\n",
    "TRAINING_END_TIME = 100\n",
    "TIME_STEP = 0.1"
   ]
  },
  {
   "cell_type": "code",
   "execution_count": 3,
   "id": "93079349",
   "metadata": {},
   "outputs": [],
   "source": [
    "h_main = SXS_CCE_RD(ID, zero_time=(2,2), lev = 'Lev5', radius = 'R2', type = 'h')\n",
    "h_lower = SXS_CCE_RD(ID, zero_time=(2,2), lev = 'Lev4', radius = 'R2', type = 'h')\n",
    "\n",
    "psi4_main = SXS_CCE_RD(ID, zero_time=(2,2), lev = 'Lev5', radius = 'R2', type = 'psi4')\n",
    "psi4_lower = SXS_CCE_RD(ID, zero_time=(2,2), lev = 'Lev4', radius = 'R2', type = 'psi4')\n",
    "\n",
    "news_main = SXS_CCE_RD(ID, zero_time=(2,2), lev = 'Lev5', radius = 'R2', type = 'news')\n",
    "news_lower = SXS_CCE_RD(ID, zero_time=(2,2), lev = 'Lev4', radius = 'R2', type = 'news')"
   ]
  },
  {
   "cell_type": "code",
   "execution_count": null,
   "id": "36023e4d",
   "metadata": {},
   "outputs": [],
   "source": [
    "plt.plot(h_main.time, h_main.h[(2,2)], label = 'h main')\n",
    "plt.plot(psi4_main.time, psi4_main.psi4[(2,2)], label = 'psi4 main')\n",
    "plt.plot(news_main.time, news_main.news[(2,2)], label = 'news main')"
   ]
  },
  {
   "cell_type": "code",
   "execution_count": null,
   "id": "5b2aa05c",
   "metadata": {},
   "outputs": [],
   "source": [
    "h_residual = get_residuals(\n",
    "    h_main, h_lower, TRAINING_START_TIME, TRAINING_END_TIME, dt=TIME_STEP\n",
    ")\n",
    "\n",
    "psi4_residual = get_residuals(\n",
    "    psi4_main, psi4_lower, TRAINING_START_TIME, TRAINING_END_TIME, dt=TIME_STEP\n",
    ")\n",
    "\n",
    "news_residual = get_residuals(\n",
    "    news_main, news_lower, TRAINING_START_TIME, TRAINING_END_TIME, dt=TIME_STEP\n",
    ")"
   ]
  },
  {
   "cell_type": "code",
   "execution_count": null,
   "id": "9257305d",
   "metadata": {},
   "outputs": [],
   "source": []
  }
 ],
 "metadata": {
  "kernelspec": {
   "display_name": "Python 3",
   "language": "python",
   "name": "python3"
  },
  "language_info": {
   "codemirror_mode": {
    "name": "ipython",
    "version": 3
   },
   "file_extension": ".py",
   "mimetype": "text/x-python",
   "name": "python",
   "nbconvert_exporter": "python",
   "pygments_lexer": "ipython3",
   "version": "3.11.4"
  }
 },
 "nbformat": 4,
 "nbformat_minor": 5
}
