{
 "cells": [
  {
   "cell_type": "markdown",
   "id": "54dc930a",
   "metadata": {},
   "source": [
    "# Testing quantile function\n",
    "\n",
    "This code tests my quntile function that I needed to write to deal with the fact I can't download Numpy 2.0 because of various conflicts. "
   ]
  },
  {
   "cell_type": "code",
   "execution_count": 1,
   "id": "0beef796",
   "metadata": {},
   "outputs": [],
   "source": [
    "import numpy as np \n",
    "import scipy.stats"
   ]
  },
  {
   "cell_type": "code",
   "execution_count": null,
   "id": "6b3be281",
   "metadata": {},
   "outputs": [],
   "source": [
    "# Define a reasonable mean vector and covariance matrix\n",
    "mean = [10, 1, 0.3, 0.02, 0.01, 0.005]  # Expanded mean vector\n",
    "\n",
    "covariance = np.array([\n",
    "    [1, 0.5, 0.2, 0.1, 0.3, 0.2],\n",
    "    [0.5, 1, 0.3, 0.2, 0.4, 0.3],\n",
    "    [0.2, 0.3, 1, 0.4, 0.5, 0.4],\n",
    "    [0.1, 0.2, 0.4, 1, 0.6, 0.5],\n",
    "    [0.3, 0.4, 0.5, 0.6, 1, 0.7],\n",
    "    [0.2, 0.3, 0.4, 0.5, 0.7, 1]\n",
    "])  # Expanded covariance matrix"
   ]
  },
  {
   "cell_type": "code",
   "execution_count": 3,
   "id": "9aa10eb5",
   "metadata": {},
   "outputs": [],
   "source": [
    "samples_main = scipy.stats.multivariate_normal(\n",
    "    mean, covariance, allow_singular=True\n",
    ").rvs(size=10000)"
   ]
  },
  {
   "cell_type": "code",
   "execution_count": 4,
   "id": "7afc8937",
   "metadata": {},
   "outputs": [],
   "source": [
    "num_amplitude_params = 4\n",
    "samples_re = samples_main[:, :num_amplitude_params:2]  \n",
    "samples_im = samples_main[:, 1:num_amplitude_params:2]  \n",
    "sample_abs_amplitudes = np.sqrt(samples_re**2 + samples_im**2) "
   ]
  },
  {
   "cell_type": "code",
   "execution_count": 5,
   "id": "c0824604",
   "metadata": {},
   "outputs": [],
   "source": [
    "log_samples = np.log(sample_abs_amplitudes)\n",
    "samples_weights = np.exp(-np.sum(log_samples, axis=1))"
   ]
  },
  {
   "cell_type": "code",
   "execution_count": 6,
   "id": "97be6bca",
   "metadata": {},
   "outputs": [],
   "source": [
    "def weighted_quantile(values, quantiles, weights=None):\n",
    "    values = np.array(values)\n",
    "    quantiles = np.array(quantiles)\n",
    "    if weights is None:\n",
    "        weights = np.ones(values.shape[0])\n",
    "    weights = np.array(weights)\n",
    "\n",
    "    # Sort values and weights along the first axis\n",
    "    sorter = np.argsort(values, axis=0)\n",
    "    sorted_values = np.take_along_axis(values, sorter, axis=0)\n",
    "    sorted_weights = np.take_along_axis(weights[:, None], sorter, axis=0)\n",
    "\n",
    "    # Compute cumulative weights\n",
    "    cumulative_weights = np.cumsum(sorted_weights, axis=0) - 0.5 * sorted_weights\n",
    "    cumulative_weights /= cumulative_weights[-1, :]\n",
    "    \n",
    "    # Interpolate quantiles\n",
    "    quantile_values = np.empty((len(quantiles), values.shape[1]))\n",
    "    for i in range(values.shape[1]):\n",
    "        quantile_values[:, i] = np.interp(quantiles, cumulative_weights[:, i], sorted_values[:, i])\n",
    "\n",
    "    return quantile_values"
   ]
  },
  {
   "cell_type": "code",
   "execution_count": 7,
   "id": "b8174645",
   "metadata": {},
   "outputs": [],
   "source": [
    "quantiles = [0.1, 0.25, 0.5, 0.75, 0.9]\n",
    "quantile_vals = weighted_quantile(sample_abs_amplitudes, quantiles, weights=samples_weights)\n",
    "quantile_vals_test = np.quantile(sample_abs_amplitudes, quantiles, method='inverted_cdf', weights=samples_weights, axis=0)"
   ]
  },
  {
   "cell_type": "code",
   "execution_count": 8,
   "id": "49aece53",
   "metadata": {},
   "outputs": [
    {
     "name": "stdout",
     "output_type": "stream",
     "text": [
      "[[0.01319274 0.05099268]\n",
      " [0.20350125 0.21190112]\n",
      " [0.5544901  0.54427947]\n",
      " [1.02283026 1.04826211]\n",
      " [1.51449433 1.57274468]]\n"
     ]
    }
   ],
   "source": [
    "print(quantile_vals)"
   ]
  },
  {
   "cell_type": "code",
   "execution_count": 9,
   "id": "59e48be7",
   "metadata": {},
   "outputs": [
    {
     "name": "stdout",
     "output_type": "stream",
     "text": [
      "[[0.01341662 0.05075552]\n",
      " [0.20350171 0.21173304]\n",
      " [0.55451446 0.54471053]\n",
      " [1.02309174 1.04834242]\n",
      " [1.51451398 1.57259585]]\n"
     ]
    }
   ],
   "source": [
    "print(quantile_vals_test)"
   ]
  },
  {
   "cell_type": "code",
   "execution_count": null,
   "id": "e47e2c69",
   "metadata": {},
   "outputs": [],
   "source": []
  }
 ],
 "metadata": {
  "kernelspec": {
   "display_name": "Python 3",
   "language": "python",
   "name": "python3"
  },
  "language_info": {
   "codemirror_mode": {
    "name": "ipython",
    "version": 3
   },
   "file_extension": ".py",
   "mimetype": "text/x-python",
   "name": "python",
   "nbconvert_exporter": "python",
   "pygments_lexer": "ipython3",
   "version": "3.11.11"
  }
 },
 "nbformat": 4,
 "nbformat_minor": 5
}
