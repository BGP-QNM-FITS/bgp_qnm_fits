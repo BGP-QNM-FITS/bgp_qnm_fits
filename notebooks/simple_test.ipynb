{
 "cells": [
  {
   "cell_type": "code",
   "execution_count": 2,
   "id": "0beef796",
   "metadata": {},
   "outputs": [],
   "source": [
    "import numpy as np \n",
    "import scipy.stats"
   ]
  },
  {
   "cell_type": "code",
   "execution_count": 5,
   "id": "6b3be281",
   "metadata": {},
   "outputs": [],
   "source": [
    "# Define a reasonable mean vector and covariance matrix\n",
    "mean = [0, 0, 0, 0]\n",
    "\n",
    "covariance = np.array([\n",
    "    [1, 0.5, 0.2, 0.1],\n",
    "    [0.5, 1, 0.3, 0.2],\n",
    "    [0.2, 0.3, 1, 0.4],\n",
    "    [0.1, 0.2, 0.4, 1]\n",
    "])  # Example covariance matrix"
   ]
  },
  {
   "cell_type": "code",
   "execution_count": 6,
   "id": "9aa10eb5",
   "metadata": {},
   "outputs": [],
   "source": [
    "samples_main = scipy.stats.multivariate_normal(\n",
    "    mean, covariance, allow_singular=True\n",
    ").rvs(size=10000)"
   ]
  },
  {
   "cell_type": "code",
   "execution_count": 8,
   "id": "7afc8937",
   "metadata": {},
   "outputs": [],
   "source": [
    "num_amplitude_params = 4\n",
    "samples_re = samples_main[:, :num_amplitude_params:2]  \n",
    "samples_im = samples_main[:, 1:num_amplitude_params:2]  \n",
    "sample_abs_amplitudes = np.sqrt(samples_re**2 + samples_im**2) "
   ]
  },
  {
   "cell_type": "code",
   "execution_count": null,
   "id": "c0824604",
   "metadata": {},
   "outputs": [],
   "source": [
    "log_samples = np.log(samples_main)\n",
    "samples_weights = np.exp(-np.sum(log_samples, axis=1))"
   ]
  },
  {
   "cell_type": "code",
   "execution_count": 9,
   "id": "97be6bca",
   "metadata": {},
   "outputs": [],
   "source": [
    "def weighted_quantile(values, quantiles, weights=None):\n",
    "    values = np.array(values)\n",
    "    quantiles = np.array(quantiles)\n",
    "    if weights is None:\n",
    "        weights = np.ones(values.shape[0])\n",
    "    weights = np.array(weights)\n",
    "\n",
    "    # Sort values and weights along the first axis\n",
    "    sorter = np.argsort(values, axis=0)\n",
    "    sorted_values = np.take_along_axis(values, sorter, axis=0)\n",
    "    sorted_weights = np.take_along_axis(weights[:, None], sorter, axis=0)\n",
    "\n",
    "    # Compute cumulative weights\n",
    "    cumulative_weights = np.cumsum(sorted_weights, axis=0) - 0.5 * sorted_weights\n",
    "    cumulative_weights /= cumulative_weights[-1, :]\n",
    "    \n",
    "    # Interpolate quantiles\n",
    "    quantile_values = np.empty((len(quantiles), values.shape[1]))\n",
    "    for i in range(values.shape[1]):\n",
    "        quantile_values[:, i] = np.interp(quantiles, cumulative_weights[:, i], sorted_values[:, i])\n",
    "\n",
    "    return quantile_values"
   ]
  },
  {
   "cell_type": "code",
   "execution_count": null,
   "id": "b8174645",
   "metadata": {},
   "outputs": [],
   "source": [
    "quantiles = [0.1, 0.25, 0.5, 0.75, 0.9]\n",
    "quantile_vals = weighted_quantile(sample_abs_amplitudes, quantiles, weights=samples_weights)\n",
    "quantile_vals_test = np.quantile(sample_abs_amplitudes, quantiles, weights=samples_weights, axis=0)"
   ]
  },
  {
   "cell_type": "code",
   "execution_count": 11,
   "id": "49aece53",
   "metadata": {},
   "outputs": [
    {
     "name": "stdout",
     "output_type": "stream",
     "text": [
      "[[0.42919941 0.43656083]\n",
      " [0.70855969 0.734279  ]\n",
      " [1.12931666 1.13741718]\n",
      " [1.64713044 1.64775776]\n",
      " [2.18303938 2.14233664]]\n"
     ]
    }
   ],
   "source": [
    "print(quantile_vals)"
   ]
  },
  {
   "cell_type": "code",
   "execution_count": 12,
   "id": "59e48be7",
   "metadata": {},
   "outputs": [
    {
     "name": "stdout",
     "output_type": "stream",
     "text": [
      "[[0.42931837 0.43665993]\n",
      " [0.7085715  0.73434275]\n",
      " [1.12936163 1.13742662]\n",
      " [1.64716357 1.6477604 ]\n",
      " [2.18308499 2.14234549]]\n"
     ]
    }
   ],
   "source": [
    "print(quantile_vals_test)"
   ]
  },
  {
   "cell_type": "code",
   "execution_count": null,
   "id": "e47e2c69",
   "metadata": {},
   "outputs": [],
   "source": []
  }
 ],
 "metadata": {
  "kernelspec": {
   "display_name": "Python 3",
   "language": "python",
   "name": "python3"
  },
  "language_info": {
   "codemirror_mode": {
    "name": "ipython",
    "version": 3
   },
   "file_extension": ".py",
   "mimetype": "text/x-python",
   "name": "python",
   "nbconvert_exporter": "python",
   "pygments_lexer": "ipython3",
   "version": "3.11.11"
  }
 },
 "nbformat": 4,
 "nbformat_minor": 5
}
