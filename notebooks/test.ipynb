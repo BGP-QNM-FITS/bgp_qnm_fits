{
 "cells": [
  {
   "cell_type": "code",
   "execution_count": 1,
   "id": "0beef796",
   "metadata": {},
   "outputs": [],
   "source": [
    "import qnmfits\n",
    "import numpy as np\n",
    "import scipy\n",
    "import corner\n",
    "import matplotlib.pyplot as plt\n",
    "import seaborn as sns\n",
    "import pandas as pd\n",
    "import sys\n",
    "from pathlib import Path\n",
    "\n",
    "notebook_dir = Path().resolve()\n",
    "sys.path.append(str(notebook_dir.parent))\n",
    "\n",
    "notebook_dir = Path().resolve()\n",
    "data_dir = notebook_dir.parent / \"data\"\n",
    "\n",
    "from matplotlib.colors import to_hex\n",
    "from matplotlib.lines import Line2D\n",
    "from matplotlib.colors import LinearSegmentedColormap\n",
    "from qnmfits.spatial_mapping_functions import * \n",
    "from bayes_qnm_GP_likelihood import *\n",
    "from mpl_toolkits.axes_grid1.inset_locator import inset_axes"
   ]
  },
  {
   "cell_type": "code",
   "execution_count": 2,
   "id": "0f324151",
   "metadata": {},
   "outputs": [],
   "source": [
    "id = \"0001\"\n",
    "sim_main = SXS_CCE(id, lev=\"Lev5\", radius=\"R2\")\n",
    "\n",
    "n_max = 7\n",
    "\n",
    "T0 = 0\n",
    "T = 100\n",
    "\n",
    "qnm_list = [(2,2,n,1) for n in np.arange(0, n_max+1)] #+ [(3,2,0,1)] + [(4,4,n,1) for n in np.arange(0, n_max+1)] + [(5,4,0,1)] \n",
    "spherical_modes = [(2, 2)] \n",
    "\n",
    "chif_mag_0 = sim_main.chif_mag\n",
    "Mf_0 = sim_main.Mf"
   ]
  },
  {
   "cell_type": "code",
   "execution_count": null,
   "id": "a27bc4ff",
   "metadata": {},
   "outputs": [],
   "source": [
    "print(qnmfits.qnm.mu(2, 2, 2, 2, 0, 1, chif_mag_0, s=-2))\n",
    "print(qnmfits.qnm.omega(2, 2, 0, 1, chif_mag_0, Mf=Mf_0, s=-2))"
   ]
  },
  {
   "cell_type": "code",
   "execution_count": 3,
   "id": "34132fed",
   "metadata": {},
   "outputs": [
    {
     "name": "stdout",
     "output_type": "stream",
     "text": [
      "[(2, 2, 0, 1), (2, 2, 1, 1), (2, 2, 2, 1), (2, 2, 3, 1), (2, 2, 4, 1), (2, 2, 5, 1), (2, 2, 6, 1), (2, 2, 7, 1)]\n"
     ]
    }
   ],
   "source": [
    "print(qnm_list)"
   ]
  },
  {
   "cell_type": "code",
   "execution_count": 4,
   "id": "d18c83e2",
   "metadata": {},
   "outputs": [],
   "source": [
    "with open(data_dir / 'tuned_params.pkl', 'rb') as f:\n",
    "    params = pickle.load(f)\n",
    "\n",
    "tuned_param_dict_main = params[id]"
   ]
  },
  {
   "cell_type": "code",
   "execution_count": 5,
   "id": "40879e5c",
   "metadata": {},
   "outputs": [
    {
     "name": "stderr",
     "output_type": "stream",
     "text": [
      "/data/vault/rvnd2/Code/bayes_qnm_GP_likelihood/bayes_qnm_GP_likelihood/likelihood_funcs.py:594: RuntimeWarning: invalid value encountered in log\n",
      "  log_samples = np.log(samples)\n"
     ]
    }
   ],
   "source": [
    "fit_main = qnm_BGP_fit(\n",
    "        sim_main.times,\n",
    "        sim_main.h,\n",
    "        qnm_list,\n",
    "        Mf_0,\n",
    "        chif_mag_0,\n",
    "        T0,\n",
    "        tuned_param_dict_main,\n",
    "        kernel_main,\n",
    "        t0_method=\"closest\",\n",
    "        T=T,\n",
    "        spherical_modes=spherical_modes,\n",
    "        include_chif=True,\n",
    "        include_Mf=True,\n",
    "    )"
   ]
  },
  {
   "cell_type": "code",
   "execution_count": 6,
   "id": "9aa10eb5",
   "metadata": {},
   "outputs": [],
   "source": [
    "covariance_main = get_inverse(fit_main[\"fisher_matrix\"])  \n",
    "\n",
    "samples_main = scipy.stats.multivariate_normal(\n",
    "    fit_main[\"mean\"], covariance_main, allow_singular=True\n",
    ").rvs(size=10000)"
   ]
  },
  {
   "cell_type": "code",
   "execution_count": 7,
   "id": "7afc8937",
   "metadata": {},
   "outputs": [],
   "source": [
    "num_amplitude_params = len(qnm_list) * 2 \n",
    "samples_re = samples_main[:, :num_amplitude_params:2]  \n",
    "samples_im = samples_main[:, 1:num_amplitude_params:2]  \n",
    "sample_abs_amplitudes = np.sqrt(samples_re**2 + samples_im**2) "
   ]
  },
  {
   "cell_type": "code",
   "execution_count": 8,
   "id": "97be6bca",
   "metadata": {},
   "outputs": [],
   "source": [
    "def weighted_quantile(values, quantiles, weights=None):\n",
    "    values = np.array(values)\n",
    "    quantiles = np.array(quantiles)\n",
    "    if weights is None:\n",
    "        weights = np.ones(values.shape[0])\n",
    "    weights = np.array(weights)\n",
    "\n",
    "    # Sort values and weights along the first axis\n",
    "    sorter = np.argsort(values, axis=0)\n",
    "    sorted_values = np.take_along_axis(values, sorter, axis=0)\n",
    "    sorted_weights = np.take_along_axis(weights[:, None], sorter, axis=0)\n",
    "\n",
    "    # Compute cumulative weights\n",
    "    cumulative_weights = np.cumsum(sorted_weights, axis=0) - 0.5 * sorted_weights\n",
    "    cumulative_weights /= cumulative_weights[-1, :]\n",
    "    \n",
    "    # Interpolate quantiles\n",
    "    quantile_values = np.empty((len(quantiles), values.shape[1]))\n",
    "    for i in range(values.shape[1]):\n",
    "        quantile_values[:, i] = np.interp(quantiles, cumulative_weights[:, i], sorted_values[:, i])\n",
    "\n",
    "    return quantile_values"
   ]
  },
  {
   "cell_type": "code",
   "execution_count": 9,
   "id": "b8174645",
   "metadata": {},
   "outputs": [],
   "source": [
    "quantiles = [0.1, 0.25, 0.5, 0.75, 0.9]\n",
    "quantile_vals = weighted_quantile(sample_abs_amplitudes, quantiles, weights=None)\n",
    "quantile_vals_test = np.quantile(sample_abs_amplitudes, quantiles, axis=0)"
   ]
  },
  {
   "cell_type": "code",
   "execution_count": 14,
   "id": "a80cd265",
   "metadata": {},
   "outputs": [
    {
     "name": "stderr",
     "output_type": "stream",
     "text": [
      "WARNING:root:Too few points to create valid contours\n"
     ]
    },
    {
     "data": {
      "image/png": "[encoded data removed]",
      "text/plain": [
       "<Figure size 550x550 with 4 Axes>"
      ]
     },
     "metadata": {},
     "output_type": "display_data"
    }
   ],
   "source": [
    "figure = corner.corner(\n",
    "    samples_main[:,[-1,-2]],\n",
    "    plot_contours=True,\n",
    "    truths = [Mf_0, chif_mag_0],\n",
    "    range=[[0.93, 0.97], [0.67, 0.7]],\n",
    ")"
   ]
  }
 ],
 "metadata": {
  "kernelspec": {
   "display_name": "Python 3",
   "language": "python",
   "name": "python3"
  },
  "language_info": {
   "codemirror_mode": {
    "name": "ipython",
    "version": 3
   },
   "file_extension": ".py",
   "mimetype": "text/x-python",
   "name": "python",
   "nbconvert_exporter": "python",
   "pygments_lexer": "ipython3",
   "version": "3.11.4"
  }
 },
 "nbformat": 4,
 "nbformat_minor": 5
}
