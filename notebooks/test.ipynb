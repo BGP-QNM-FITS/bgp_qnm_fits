{
 "cells": [
  {
   "cell_type": "code",
   "execution_count": 1,
   "id": "0beef796",
   "metadata": {},
   "outputs": [],
   "source": [
    "import qnmfits\n",
    "import numpy as np\n",
    "import scipy\n",
    "import corner\n",
    "import matplotlib.pyplot as plt\n",
    "import seaborn as sns\n",
    "import pandas as pd\n",
    "import sys\n",
    "from pathlib import Path\n",
    "\n",
    "notebook_dir = Path().resolve()\n",
    "sys.path.append(str(notebook_dir.parent))\n",
    "\n",
    "notebook_dir = Path().resolve()\n",
    "data_dir = notebook_dir.parent / \"data\"\n",
    "\n",
    "from matplotlib.colors import to_hex\n",
    "from matplotlib.lines import Line2D\n",
    "from matplotlib.colors import LinearSegmentedColormap\n",
    "from qnmfits.spatial_mapping_functions import * \n",
    "from bayes_qnm_GP_likelihood import *\n",
    "from mpl_toolkits.axes_grid1.inset_locator import inset_axes"
   ]
  },
  {
   "cell_type": "code",
   "execution_count": 67,
   "id": "0f324151",
   "metadata": {},
   "outputs": [],
   "source": [
    "id = \"0001\"\n",
    "sim_main = SXS_CCE(id, lev=\"Lev5\", radius=\"R2\")\n",
    "\n",
    "n_max = 7\n",
    "\n",
    "T0 = 0\n",
    "T = 100\n",
    "\n",
    "qnm_list = [(2,2,n,1) for n in np.arange(0, n_max+1)] #+ [(3,2,0,1)] + [(4,4,n,1) for n in np.arange(0, n_max+1)] + [(5,4,0,1)] \n",
    "spherical_modes = [(2, 2)] \n",
    "\n",
    "chif_mag_0 = sim_main.chif_mag\n",
    "Mf_0 = sim_main.Mf"
   ]
  },
  {
   "cell_type": "code",
   "execution_count": 68,
   "id": "34132fed",
   "metadata": {},
   "outputs": [
    {
     "name": "stdout",
     "output_type": "stream",
     "text": [
      "[(2, 2, 0, 1), (2, 2, 1, 1), (2, 2, 2, 1), (2, 2, 3, 1), (2, 2, 4, 1), (2, 2, 5, 1), (2, 2, 6, 1), (2, 2, 7, 1)]\n"
     ]
    }
   ],
   "source": [
    "print(qnm_list)"
   ]
  },
  {
   "cell_type": "code",
   "execution_count": 69,
   "id": "d18c83e2",
   "metadata": {},
   "outputs": [],
   "source": [
    "with open(data_dir / 'tuned_params.pkl', 'rb') as f:\n",
    "    params = pickle.load(f)\n",
    "\n",
    "tuned_param_dict_main = params[id]"
   ]
  },
  {
   "cell_type": "code",
   "execution_count": 70,
   "id": "40879e5c",
   "metadata": {},
   "outputs": [
    {
     "name": "stderr",
     "output_type": "stream",
     "text": [
      "/data/vault/rvnd2/Code/bayes_qnm_GP_likelihood/bayes_qnm_GP_likelihood/likelihood_funcs.py:594: RuntimeWarning: invalid value encountered in log\n",
      "  log_samples = np.log(samples)\n"
     ]
    }
   ],
   "source": [
    "fit_main = qnm_BGP_fit(\n",
    "        sim_main.times,\n",
    "        sim_main.h,\n",
    "        qnm_list,\n",
    "        Mf_0,\n",
    "        chif_mag_0,\n",
    "        T0,\n",
    "        tuned_param_dict_main,\n",
    "        kernel_main,\n",
    "        t0_method=\"closest\",\n",
    "        T=T,\n",
    "        spherical_modes=spherical_modes,\n",
    "        include_chif=True,\n",
    "        include_Mf=True,\n",
    "    )"
   ]
  },
  {
   "cell_type": "code",
   "execution_count": 71,
   "id": "9aa10eb5",
   "metadata": {},
   "outputs": [],
   "source": [
    "covariance_main = get_inverse(fit_main[\"fisher_matrix\"])  \n",
    "\n",
    "samples_main = scipy.stats.multivariate_normal(\n",
    "    fit_main[\"mean\"], covariance_main, allow_singular=True\n",
    ").rvs(size=10000)"
   ]
  },
  {
   "cell_type": "code",
   "execution_count": 72,
   "id": "7afc8937",
   "metadata": {},
   "outputs": [],
   "source": [
    "num_amplitude_params = len(qnm_list) * 2 \n",
    "samples_re = samples_main[:, :num_amplitude_params:2]  \n",
    "samples_im = samples_main[:, 1:num_amplitude_params:2]  \n",
    "sample_abs_amplitudes = np.sqrt(samples_re**2 + samples_im**2) "
   ]
  },
  {
   "cell_type": "code",
   "execution_count": 73,
   "id": "97be6bca",
   "metadata": {},
   "outputs": [],
   "source": [
    "def weighted_quantile(values, quantiles, weights=None):\n",
    "    values = np.array(values)\n",
    "    quantiles = np.array(quantiles)\n",
    "    if weights is None:\n",
    "        weights = np.ones(values.shape[0])\n",
    "    weights = np.array(weights)\n",
    "\n",
    "    # Sort values and weights along the first axis\n",
    "    sorter = np.argsort(values, axis=0)\n",
    "    sorted_values = np.take_along_axis(values, sorter, axis=0)\n",
    "    sorted_weights = np.take_along_axis(weights[:, None], sorter, axis=0)\n",
    "\n",
    "    # Compute cumulative weights\n",
    "    cumulative_weights = np.cumsum(sorted_weights, axis=0) - 0.5 * sorted_weights\n",
    "    cumulative_weights /= cumulative_weights[-1, :]\n",
    "    \n",
    "    # Interpolate quantiles\n",
    "    quantile_values = np.empty((len(quantiles), values.shape[1]))\n",
    "    for i in range(values.shape[1]):\n",
    "        quantile_values[:, i] = np.interp(quantiles, cumulative_weights[:, i], sorted_values[:, i])\n",
    "\n",
    "    return quantile_values"
   ]
  },
  {
   "cell_type": "code",
   "execution_count": 74,
   "id": "b8174645",
   "metadata": {},
   "outputs": [],
   "source": [
    "quantiles = [0.1, 0.25, 0.5, 0.75, 0.9]\n",
    "quantile_vals = weighted_quantile(sample_abs_amplitudes, quantiles, weights=None)\n",
    "quantile_vals_test = np.quantile(sample_abs_amplitudes, quantiles, axis=0)"
   ]
  },
  {
   "cell_type": "code",
   "execution_count": 78,
   "id": "1c38aeb4",
   "metadata": {},
   "outputs": [
    {
     "name": "stdout",
     "output_type": "stream",
     "text": [
      "{10: array([ 0.95048671,  3.7239915 ,  8.89016366, 15.89821664, 19.75313798,\n",
      "       14.69386474,  5.74888939,  0.97526186]), 25: array([ 0.95211989,  3.74985035,  9.03787084, 16.33877162, 20.52720772,\n",
      "       15.42701897,  6.13059261,  1.0480428 ]), 50: array([ 0.9538082 ,  3.77352598,  9.17045098, 16.77332691, 21.28042728,\n",
      "       16.18926078,  6.50582779,  1.12594074]), 75: array([ 0.95549358,  3.7974732 ,  9.32042217, 17.2571466 , 22.16303237,\n",
      "       17.03031576,  6.90636404,  1.20320149]), 90: array([ 0.95698752,  3.81877265,  9.45026539, 17.65145165, 22.83722985,\n",
      "       17.71128399,  7.27349537,  1.28034638])}\n"
     ]
    }
   ],
   "source": [
    "print(fit_main[\"abs_amplitude_percentiles\"])"
   ]
  },
  {
   "cell_type": "code",
   "execution_count": null,
   "id": "71d28d55",
   "metadata": {},
   "outputs": [],
   "source": [
    "print(fit_main[\"unweighted_abs_amplitude\"]) "
   ]
  },
  {
   "cell_type": "code",
   "execution_count": 75,
   "id": "fe80e367",
   "metadata": {},
   "outputs": [
    {
     "name": "stdout",
     "output_type": "stream",
     "text": [
      "[[ 0.95048728  3.7240983   8.88753045 15.86218239 19.64208502 14.57014104\n",
      "   5.71837593  0.96842833]\n",
      " [ 0.9519786   3.74661792  9.01675272 16.27775081 20.38243558 15.29016867\n",
      "   6.06525101  1.03815127]\n",
      " [ 0.95374076  3.77215109  9.16649965 16.75304415 21.24680655 16.13125397\n",
      "   6.47467359  1.1195707 ]\n",
      " [ 0.95540936  3.79696328  9.31316919 17.22789137 22.11502301 16.99225471\n",
      "   6.89935938  1.20453954]\n",
      " [ 0.95694275  3.82028226  9.45072043 17.65924505 22.89571751 17.75118541\n",
      "   7.27667233  1.27823308]]\n"
     ]
    }
   ],
   "source": [
    "print(quantile_vals)"
   ]
  },
  {
   "cell_type": "code",
   "execution_count": 76,
   "id": "0f9f0754",
   "metadata": {},
   "outputs": [
    {
     "name": "stdout",
     "output_type": "stream",
     "text": [
      "[[ 0.95048769  3.72409948  8.88753591 15.86241693 19.64212508 14.57052645\n",
      "   5.71837847  0.96845529]\n",
      " [ 0.95197862  3.74662344  9.01675336 16.27793933 20.38260588 15.29033248\n",
      "   6.06531124  1.03815185]\n",
      " [ 0.95374082  3.77215752  9.16650496 16.75314648 21.24681535 16.1312675\n",
      "   6.47479442  1.11957382]\n",
      " [ 0.95540939  3.79696402  9.31317212 17.22790837 22.11504799 16.99230143\n",
      "   6.89948743  1.20454322]\n",
      " [ 0.95694281  3.82028234  9.45072276 17.65925385 22.89577862 17.75120574\n",
      "   7.27667646  1.2782356 ]]\n"
     ]
    }
   ],
   "source": [
    "print(quantile_vals_test)"
   ]
  },
  {
   "cell_type": "code",
   "execution_count": 77,
   "id": "a80cd265",
   "metadata": {},
   "outputs": [
    {
     "name": "stderr",
     "output_type": "stream",
     "text": [
      "WARNING:root:Too few points to create valid contours\n"
     ]
    },
    {
     "data": {
      "image/png": "[encoded data removed]",
      "text/plain": [
       "<Figure size 550x550 with 4 Axes>"
      ]
     },
     "metadata": {},
     "output_type": "display_data"
    }
   ],
   "source": [
    "figure = corner.corner(\n",
    "    samples_main[:,[-1,-2]],\n",
    "    plot_contours=True,\n",
    "    truths = [Mf_0, chif_mag_0],\n",
    "    range=[[0.93, 0.97], [0.67, 0.7]],\n",
    ")"
   ]
  }
 ],
 "metadata": {
  "kernelspec": {
   "display_name": "Python 3",
   "language": "python",
   "name": "python3"
  },
  "language_info": {
   "codemirror_mode": {
    "name": "ipython",
    "version": 3
   },
   "file_extension": ".py",
   "mimetype": "text/x-python",
   "name": "python",
   "nbconvert_exporter": "python",
   "pygments_lexer": "ipython3",
   "version": "3.11.4"
  }
 },
 "nbformat": 4,
 "nbformat_minor": 5
}
