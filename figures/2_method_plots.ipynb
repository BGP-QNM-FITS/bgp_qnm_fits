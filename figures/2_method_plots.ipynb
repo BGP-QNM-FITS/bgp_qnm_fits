{
 "cells": [
  {
   "cell_type": "code",
   "execution_count": 1,
   "id": "372dedcd",
   "metadata": {},
   "outputs": [],
   "source": [
    "import qnmfits\n",
    "import numpy as np\n",
    "import matplotlib.pyplot as plt\n",
    "import seaborn as sns\n",
    "import pandas as pd\n",
    "import sys\n",
    "from pathlib import Path\n",
    "\n",
    "notebook_dir = Path().resolve()\n",
    "sys.path.append(str(notebook_dir.parent))\n",
    "\n",
    "from matplotlib.colors import to_hex\n",
    "from matplotlib.lines import Line2D\n",
    "from matplotlib.colors import LinearSegmentedColormap\n",
    "from bayes_qnm_GP_likelihood import *\n",
    "from bayes_qnm_GP_likelihood.BGP_fits import BGP_fit\n",
    "\n",
    "from mpl_toolkits.axes_grid1.inset_locator import inset_axes\n",
    "from plot_config import PlotConfig\n",
    "\n",
    "data_dir = notebook_dir.parent / \"data\"\n"
   ]
  },
  {
   "cell_type": "code",
   "execution_count": 2,
   "id": "0c9859fa",
   "metadata": {},
   "outputs": [],
   "source": [
    "SIMNUMS = [\"0001\", \"0002\", \"0003\", \"0004\", \"0005\", \"0006\", \"0007\", \"0008\", \"0009\", \"0010\", \"0011\", \"0012\", \"0013\"]\n",
    "TRAINING_SPH_MODES = [(2, 2), (2, 1), (3, 3), (3, 2), (4, 4), (2, -2), (2, -1), (3, -3), (3, -2), (4, -4)]\n",
    "\n",
    "SIM_TRAINING_MODE_RULES = {\n",
    "    \"0001\": \"PE\",\n",
    "    \"0002\": \"PE\",\n",
    "    \"0003\": \"PE\",\n",
    "    \"0004\": \"PE\",\n",
    "    \"0005\": \"P\",\n",
    "    \"0006\": \"P\",\n",
    "    \"0007\": \"P\",\n",
    "    \"0008\": \"ALL\",\n",
    "    \"0009\": \"E\",\n",
    "    \"0010\": \"P\",\n",
    "    \"0011\": \"P\",\n",
    "    \"0012\": \"P\",\n",
    "    \"0013\": \"ALL\",\n",
    "}\n",
    "\n",
    "TRAINING_START_TIME = -10\n",
    "TRAINING_END_TIME = 100\n",
    "TIME_STEP = 0.1"
   ]
  },
  {
   "cell_type": "code",
   "execution_count": 3,
   "id": "5619c4dd",
   "metadata": {},
   "outputs": [],
   "source": [
    "mode_filters = {\n",
    "        \"PE\": lambda mode: mode[1] >= 0 and mode[1] % 2 == 0,\n",
    "        \"P\": lambda mode: mode[1] >= 0,\n",
    "        \"E\": lambda mode: mode[1] % 2 == 0,\n",
    "        \"ALL\": lambda mode: True,\n",
    "    }\n",
    "\n",
    "analysis_times = np.arange(TRAINING_START_TIME, TRAINING_END_TIME, TIME_STEP)"
   ]
  },
  {
   "cell_type": "code",
   "execution_count": 4,
   "id": "eb8ce53b",
   "metadata": {},
   "outputs": [],
   "source": [
    "with open(data_dir / \"tuned_params_GPC.pkl\", \"rb\") as f:\n",
    "    params_GPC = pickle.load(f)\n",
    "\n",
    "with open(data_dir / \"tuned_params_GP.pkl\", \"rb\") as f:\n",
    "    params_GP = pickle.load(f)\n",
    "\n",
    "with open(data_dir / \"tuned_params_WN.pkl\", \"rb\") as f:\n",
    "    params_WN = pickle.load(f)"
   ]
  },
  {
   "cell_type": "code",
   "execution_count": null,
   "id": "992d4015",
   "metadata": {},
   "outputs": [
    {
     "name": "stdout",
     "output_type": "stream",
     "text": [
      "Processing simulation 0001 with spherical mode (2, 0)\n",
      "Processing simulation 0001 with spherical mode (2, 2)\n",
      "Processing simulation 0001 with spherical mode (3, 0)\n",
      "Processing simulation 0001 with spherical mode (3, 2)\n",
      "Processing simulation 0001 with spherical mode (4, 0)\n",
      "Processing simulation 0001 with spherical mode (4, 2)\n",
      "Processing simulation 0001 with spherical mode (4, 4)\n",
      "Processing simulation 0001 with spherical mode (5, 0)\n",
      "Processing simulation 0001 with spherical mode (5, 2)\n",
      "Processing simulation 0001 with spherical mode (5, 4)\n",
      "Processing simulation 0001 with spherical mode (6, 0)\n",
      "Processing simulation 0001 with spherical mode (6, 2)\n",
      "Processing simulation 0001 with spherical mode (6, 4)\n",
      "Processing simulation 0001 with spherical mode (6, 6)\n",
      "Processing simulation 0001 with spherical mode (7, 0)\n",
      "Processing simulation 0001 with spherical mode (7, 2)\n",
      "Processing simulation 0001 with spherical mode (7, 4)\n",
      "Processing simulation 0001 with spherical mode (7, 6)\n",
      "Processing simulation 0001 with spherical mode (8, 0)\n",
      "Processing simulation 0001 with spherical mode (8, 2)\n",
      "Processing simulation 0001 with spherical mode (8, 4)\n",
      "Processing simulation 0001 with spherical mode (8, 6)\n",
      "Processing simulation 0001 with spherical mode (8, 8)\n"
     ]
    },
    {
     "name": "stderr",
     "output_type": "stream",
     "text": [
      "/tmp/ipykernel_391440/1821084132.py:40: RuntimeWarning: invalid value encountered in log\n",
      "  ax.scatter(spherical_mode_labels, np.log(cn_list), label='Normal,Complicated', marker='s')\n"
     ]
    },
    {
     "ename": "ValueError",
     "evalue": "x and y must be the same size",
     "output_type": "error",
     "traceback": [
      "\u001b[0;31m---------------------------------------------------------------------------\u001b[0m",
      "\u001b[0;31mValueError\u001b[0m                                Traceback (most recent call last)",
      "Cell \u001b[0;32mIn[7], line 40\u001b[0m\n\u001b[1;32m     37\u001b[0m fig, ax \u001b[38;5;241m=\u001b[39m plt\u001b[38;5;241m.\u001b[39msubplots(figsize\u001b[38;5;241m=\u001b[39m(\u001b[38;5;241m20\u001b[39m, \u001b[38;5;241m6\u001b[39m))\n\u001b[1;32m     39\u001b[0m spherical_mode_labels \u001b[38;5;241m=\u001b[39m [\u001b[38;5;124mf\u001b[39m\u001b[38;5;124m\"\u001b[39m\u001b[38;5;132;01m{\u001b[39;00mmode[\u001b[38;5;241m0\u001b[39m]\u001b[38;5;132;01m}\u001b[39;00m\u001b[38;5;124m,\u001b[39m\u001b[38;5;132;01m{\u001b[39;00mmode[\u001b[38;5;241m1\u001b[39m]\u001b[38;5;132;01m}\u001b[39;00m\u001b[38;5;124m\"\u001b[39m \u001b[38;5;28;01mfor\u001b[39;00m mode \u001b[38;5;129;01min\u001b[39;00m spherical_mode_choice]\n\u001b[0;32m---> 40\u001b[0m \u001b[43max\u001b[49m\u001b[38;5;241;43m.\u001b[39;49m\u001b[43mscatter\u001b[49m\u001b[43m(\u001b[49m\u001b[43mspherical_mode_labels\u001b[49m\u001b[43m,\u001b[49m\u001b[43m \u001b[49m\u001b[43mnp\u001b[49m\u001b[38;5;241;43m.\u001b[39;49m\u001b[43mlog\u001b[49m\u001b[43m(\u001b[49m\u001b[43mcn_list\u001b[49m\u001b[43m)\u001b[49m\u001b[43m,\u001b[49m\u001b[43m \u001b[49m\u001b[43mlabel\u001b[49m\u001b[38;5;241;43m=\u001b[39;49m\u001b[38;5;124;43m'\u001b[39;49m\u001b[38;5;124;43mNormal,Complicated\u001b[39;49m\u001b[38;5;124;43m'\u001b[39;49m\u001b[43m,\u001b[49m\u001b[43m \u001b[49m\u001b[43mmarker\u001b[49m\u001b[38;5;241;43m=\u001b[39;49m\u001b[38;5;124;43m'\u001b[39;49m\u001b[38;5;124;43ms\u001b[39;49m\u001b[38;5;124;43m'\u001b[39;49m\u001b[43m)\u001b[49m\n\u001b[1;32m     41\u001b[0m ax\u001b[38;5;241m.\u001b[39mscatter(spherical_mode_labels, np\u001b[38;5;241m.\u001b[39mlog(sc_list), label\u001b[38;5;241m=\u001b[39m\u001b[38;5;124m'\u001b[39m\u001b[38;5;124mSimple,Complicated\u001b[39m\u001b[38;5;124m'\u001b[39m, marker\u001b[38;5;241m=\u001b[39m\u001b[38;5;124m'\u001b[39m\u001b[38;5;124m^\u001b[39m\u001b[38;5;124m'\u001b[39m)\n\u001b[1;32m     42\u001b[0m ax\u001b[38;5;241m.\u001b[39mscatter(spherical_mode_labels, np\u001b[38;5;241m.\u001b[39mlog(sn_list), label\u001b[38;5;241m=\u001b[39m\u001b[38;5;124m'\u001b[39m\u001b[38;5;124mSimple,Normal\u001b[39m\u001b[38;5;124m'\u001b[39m, marker\u001b[38;5;241m=\u001b[39m\u001b[38;5;124m'\u001b[39m\u001b[38;5;124mo\u001b[39m\u001b[38;5;124m'\u001b[39m)\n",
      "File \u001b[0;32m~/.local/lib/python3.11/site-packages/matplotlib/__init__.py:1473\u001b[0m, in \u001b[0;36m_preprocess_data.<locals>.inner\u001b[0;34m(ax, data, *args, **kwargs)\u001b[0m\n\u001b[1;32m   1470\u001b[0m \u001b[38;5;129m@functools\u001b[39m\u001b[38;5;241m.\u001b[39mwraps(func)\n\u001b[1;32m   1471\u001b[0m \u001b[38;5;28;01mdef\u001b[39;00m \u001b[38;5;21minner\u001b[39m(ax, \u001b[38;5;241m*\u001b[39margs, data\u001b[38;5;241m=\u001b[39m\u001b[38;5;28;01mNone\u001b[39;00m, \u001b[38;5;241m*\u001b[39m\u001b[38;5;241m*\u001b[39mkwargs):\n\u001b[1;32m   1472\u001b[0m     \u001b[38;5;28;01mif\u001b[39;00m data \u001b[38;5;129;01mis\u001b[39;00m \u001b[38;5;28;01mNone\u001b[39;00m:\n\u001b[0;32m-> 1473\u001b[0m         \u001b[38;5;28;01mreturn\u001b[39;00m \u001b[43mfunc\u001b[49m\u001b[43m(\u001b[49m\n\u001b[1;32m   1474\u001b[0m \u001b[43m            \u001b[49m\u001b[43max\u001b[49m\u001b[43m,\u001b[49m\n\u001b[1;32m   1475\u001b[0m \u001b[43m            \u001b[49m\u001b[38;5;241;43m*\u001b[39;49m\u001b[38;5;28;43mmap\u001b[39;49m\u001b[43m(\u001b[49m\u001b[43msanitize_sequence\u001b[49m\u001b[43m,\u001b[49m\u001b[43m \u001b[49m\u001b[43margs\u001b[49m\u001b[43m)\u001b[49m\u001b[43m,\u001b[49m\n\u001b[1;32m   1476\u001b[0m \u001b[43m            \u001b[49m\u001b[38;5;241;43m*\u001b[39;49m\u001b[38;5;241;43m*\u001b[39;49m\u001b[43m{\u001b[49m\u001b[43mk\u001b[49m\u001b[43m:\u001b[49m\u001b[43m \u001b[49m\u001b[43msanitize_sequence\u001b[49m\u001b[43m(\u001b[49m\u001b[43mv\u001b[49m\u001b[43m)\u001b[49m\u001b[43m \u001b[49m\u001b[38;5;28;43;01mfor\u001b[39;49;00m\u001b[43m \u001b[49m\u001b[43mk\u001b[49m\u001b[43m,\u001b[49m\u001b[43m \u001b[49m\u001b[43mv\u001b[49m\u001b[43m \u001b[49m\u001b[38;5;129;43;01min\u001b[39;49;00m\u001b[43m \u001b[49m\u001b[43mkwargs\u001b[49m\u001b[38;5;241;43m.\u001b[39;49m\u001b[43mitems\u001b[49m\u001b[43m(\u001b[49m\u001b[43m)\u001b[49m\u001b[43m}\u001b[49m\u001b[43m)\u001b[49m\n\u001b[1;32m   1478\u001b[0m     bound \u001b[38;5;241m=\u001b[39m new_sig\u001b[38;5;241m.\u001b[39mbind(ax, \u001b[38;5;241m*\u001b[39margs, \u001b[38;5;241m*\u001b[39m\u001b[38;5;241m*\u001b[39mkwargs)\n\u001b[1;32m   1479\u001b[0m     auto_label \u001b[38;5;241m=\u001b[39m (bound\u001b[38;5;241m.\u001b[39marguments\u001b[38;5;241m.\u001b[39mget(label_namer)\n\u001b[1;32m   1480\u001b[0m                   \u001b[38;5;129;01mor\u001b[39;00m bound\u001b[38;5;241m.\u001b[39mkwargs\u001b[38;5;241m.\u001b[39mget(label_namer))\n",
      "File \u001b[0;32m~/.local/lib/python3.11/site-packages/matplotlib/axes/_axes.py:4787\u001b[0m, in \u001b[0;36mAxes.scatter\u001b[0;34m(self, x, y, s, c, marker, cmap, norm, vmin, vmax, alpha, linewidths, edgecolors, plotnonfinite, **kwargs)\u001b[0m\n\u001b[1;32m   4785\u001b[0m y \u001b[38;5;241m=\u001b[39m np\u001b[38;5;241m.\u001b[39mma\u001b[38;5;241m.\u001b[39mravel(y)\n\u001b[1;32m   4786\u001b[0m \u001b[38;5;28;01mif\u001b[39;00m x\u001b[38;5;241m.\u001b[39msize \u001b[38;5;241m!=\u001b[39m y\u001b[38;5;241m.\u001b[39msize:\n\u001b[0;32m-> 4787\u001b[0m     \u001b[38;5;28;01mraise\u001b[39;00m \u001b[38;5;167;01mValueError\u001b[39;00m(\u001b[38;5;124m\"\u001b[39m\u001b[38;5;124mx and y must be the same size\u001b[39m\u001b[38;5;124m\"\u001b[39m)\n\u001b[1;32m   4789\u001b[0m \u001b[38;5;28;01mif\u001b[39;00m s \u001b[38;5;129;01mis\u001b[39;00m \u001b[38;5;28;01mNone\u001b[39;00m:\n\u001b[1;32m   4790\u001b[0m     s \u001b[38;5;241m=\u001b[39m (\u001b[38;5;241m20\u001b[39m \u001b[38;5;28;01mif\u001b[39;00m mpl\u001b[38;5;241m.\u001b[39mrcParams[\u001b[38;5;124m'\u001b[39m\u001b[38;5;124m_internal.classic_mode\u001b[39m\u001b[38;5;124m'\u001b[39m] \u001b[38;5;28;01melse\u001b[39;00m\n\u001b[1;32m   4791\u001b[0m          mpl\u001b[38;5;241m.\u001b[39mrcParams[\u001b[38;5;124m'\u001b[39m\u001b[38;5;124mlines.markersize\u001b[39m\u001b[38;5;124m'\u001b[39m] \u001b[38;5;241m*\u001b[39m\u001b[38;5;241m*\u001b[39m \u001b[38;5;241m2.0\u001b[39m)\n",
      "\u001b[0;31mValueError\u001b[0m: x and y must be the same size"
     ]
    },
    {
     "data": {
      "image/png": "[encoded data removed]",
      "text/plain": [
       "<Figure size 2000x600 with 1 Axes>"
      ]
     },
     "metadata": {},
     "output_type": "display_data"
    }
   ],
   "source": [
    "sn_list_full = []\n",
    "cn_list_full = []\n",
    "sc_list_full = []\n",
    "\n",
    "for sim_id, mode_rule in SIM_TRAINING_MODE_RULES.items():\n",
    "\n",
    "    sn_list = []\n",
    "    cn_list = []\n",
    "    sc_list = []\n",
    "\n",
    "    spherical_modes = params_WN[sim_id].keys()\n",
    "\n",
    "    spherical_mode_choice = [\n",
    "            mode for mode in spherical_modes if mode_filters[mode_rule](mode)\n",
    "        ]\n",
    "\n",
    "    for sph_mode in spherical_mode_choice: \n",
    "\n",
    "        print(f\"Processing simulation {sim_id} with spherical mode {sph_mode}\")\n",
    "\n",
    "        kernel_matrix_WN = compute_kernel_matrix(analysis_times, params_WN[sim_id][sph_mode], kernel_s)\n",
    "        kernel_matrix_GP = compute_kernel_matrix(analysis_times, params_GP[sim_id][sph_mode], kernel_main)\n",
    "        kernel_matrix_GPC = compute_kernel_matrix(analysis_times, params_GPC[sim_id][sph_mode], kernel_c)\n",
    "\n",
    "        kl_div_sn = js_divergence(kernel_matrix_WN, kernel_matrix_GP)\n",
    "        kl_div_cn = js_divergence(kernel_matrix_GP, kernel_matrix_GPC)\n",
    "        kl_div_sc = js_divergence(kernel_matrix_WN, kernel_matrix_GPC)\n",
    "\n",
    "        sn_list.append(kl_div_sn)\n",
    "        cn_list.append(kl_div_cn)\n",
    "        sc_list.append(kl_div_sc)\n",
    "\n",
    "    sn_list_full.extend(sn_list)\n",
    "    cn_list_full.extend(cn_list)\n",
    "    sc_list_full.extend(sc_list)\n",
    "\n",
    "    fig, ax = plt.subplots(figsize=(20, 6))\n",
    "\n",
    "    spherical_mode_labels = [f\"{mode[0]},{mode[1]}\" for mode in spherical_mode_choice]\n",
    "    print(spherical_mode_labels)\n",
    "    print(cn_list)\n",
    "    ax.scatter(spherical_mode_labels, np.log(cn_list), label='Normal,Complicated', marker='s')\n",
    "    ax.scatter(spherical_mode_labels, np.log(sc_list), label='Simple,Complicated', marker='^')\n",
    "    ax.scatter(spherical_mode_labels, np.log(sn_list), label='Simple,Normal', marker='o')\n",
    "\n",
    "    ax.set_xlabel('Spherical mode', fontsize=16)\n",
    "    ax.set_ylabel('Log of JS Divergence', fontsize=16)\n",
    "    ax.legend(fontsize=14)\n",
    "    ax.grid(True)\n",
    "\n",
    "    plt.xticks(fontsize=12)\n",
    "    plt.yticks(fontsize=14)\n",
    "\n",
    "    fig.savefig(f'outputs/JS_{sim_id}.pdf')\n",
    "    plt.close(fig)"
   ]
  },
  {
   "cell_type": "code",
   "execution_count": null,
   "id": "59224b8b",
   "metadata": {},
   "outputs": [],
   "source": [
    "fig, ax = plt.subplots(figsize=(10, 6))\n",
    "\n",
    "cn_log = np.log(cn_list_full)\n",
    "sc_log = np.log(sc_list_full)\n",
    "sn_log = np.log(sn_list_full)\n",
    "\n",
    "cn_log[cn_log == -np.inf] = np.nan\n",
    "sc_log[sc_log == -np.inf] = np.nan\n",
    "sn_log[sn_log == -np.inf] = np.nan\n",
    "\n",
    "ax.hist(cn_log, bins=30, alpha=0.5, label='Normal,Complicated')\n",
    "ax.hist(sc_log, bins=30, alpha=0.5, label='Simple,Complicated')\n",
    "ax.hist(sn_log, bins=30, alpha=0.5, label='Simple,Normal')\n",
    "\n",
    "ax.set_xlabel('Log of JS Divergence', fontsize=16)\n",
    "ax.set_ylabel('Frequency', fontsize=16)\n",
    "ax.legend(frameon=False, fontsize=14)\n",
    "ax.grid(False)\n",
    "\n",
    "plt.xticks(fontsize=14)\n",
    "plt.yticks(fontsize=14)\n",
    "\n",
    "#fig.savefig(f'figs/JS_histogram.pdf')"
   ]
  }
 ],
 "metadata": {
  "kernelspec": {
   "display_name": "Python 3",
   "language": "python",
   "name": "python3"
  },
  "language_info": {
   "codemirror_mode": {
    "name": "ipython",
    "version": 3
   },
   "file_extension": ".py",
   "mimetype": "text/x-python",
   "name": "python",
   "nbconvert_exporter": "python",
   "pygments_lexer": "ipython3",
   "version": "3.11.4"
  }
 },
 "nbformat": 4,
 "nbformat_minor": 5
}
